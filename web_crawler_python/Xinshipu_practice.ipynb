{
 "cells": [
  {
   "cell_type": "code",
   "execution_count": 2,
   "metadata": {
    "collapsed": true
   },
   "outputs": [],
   "source": [
    "import requests\n",
    "from bs4 import BeautifulSoup"
   ]
  },
  {
   "cell_type": "code",
   "execution_count": 26,
   "metadata": {
    "collapsed": false
   },
   "outputs": [
    {
     "name": "stdout",
     "output_type": "stream",
     "text": [
      "散寿司\n",
      "4.5分\n",
      "6位评价\n",
      "49391 8973次 5次\n"
     ]
    }
   ],
   "source": [
    "res =  requests.get(\"http://www.xinshipu.com/zuofa/49391\")\n",
    "soup =  BeautifulSoup(res.text)\n",
    "\n",
    "#商品所有資訊都在 .re-up中\n",
    "reup = soup.select(\".re-up\")[0]\n",
    "#品名\n",
    "print reup.select(\".font18.no-overflow\")[0].text\n",
    "print reup.select(\".col\")[0].text\n",
    "print reup.select(\"#zuofa_review_label\")[0].text\n",
    "#print reup.select(\".mt12\"),\"\\n\\n\"\n",
    "print reup.select(\".mt12 span:nth-of-type(2)\")[0].text,\\\n",
    "reup.select(\".mt12 span:nth-of-type(4)\")[0].text,\\\n",
    "reup.select(\".mt12 span:nth-of-type(6)\")[0].text\n"
   ]
  },
  {
   "cell_type": "code",
   "execution_count": null,
   "metadata": {
    "collapsed": true
   },
   "outputs": [],
   "source": []
  }
 ],
 "metadata": {
  "kernelspec": {
   "display_name": "Python 2",
   "language": "python",
   "name": "python2"
  },
  "language_info": {
   "codemirror_mode": {
    "name": "ipython",
    "version": 2
   },
   "file_extension": ".py",
   "mimetype": "text/x-python",
   "name": "python",
   "nbconvert_exporter": "python",
   "pygments_lexer": "ipython2",
   "version": "2.7.10"
  }
 },
 "nbformat": 4,
 "nbformat_minor": 0
}
