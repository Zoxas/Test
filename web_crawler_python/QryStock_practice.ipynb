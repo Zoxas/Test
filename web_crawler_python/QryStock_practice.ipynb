{
 "cells": [
  {
   "cell_type": "code",
   "execution_count": 2,
   "metadata": {
    "collapsed": true
   },
   "outputs": [],
   "source": [
    "import requests\n",
    "from bs4 import BeautifulSoup"
   ]
  },
  {
   "cell_type": "code",
   "execution_count": 7,
   "metadata": {
    "collapsed": false
   },
   "outputs": [
    {
     "name": "stdout",
     "output_type": "stream",
     "text": [
      "序 持股分級 人　　數 股　　數 佔集保庫存數比例 (%)\n",
      "1 1-999 149,649 33,867,334 0.13\n",
      "2 1,000-5,000 135,196 287,510,957 1.10\n",
      "3 5,001-10,000 26,257 188,283,633 0.72\n",
      "4 10,001-15,000 10,056 122,133,801 0.47\n",
      "5 15,001-20,000 4,510 79,250,732 0.30\n",
      "6 20,001-30,000 5,061 123,132,996 0.47\n",
      "7 30,001-40,000 2,368 81,841,110 0.31\n",
      "8 40,001-50,000 1,505 67,618,181 0.26\n",
      "9 50,001-100,000 2,899 202,385,723 0.78\n",
      "10 100,001-200,000 1,529 212,532,983 0.81\n",
      "11 200,001-400,000 992 278,178,141 1.07\n",
      "12 400,001-600,000 410 201,862,754 0.77\n",
      "13 600,001-800,000 226 158,021,232 0.60\n",
      "14 800,001-1,000,000 180 160,922,822 0.62\n",
      "15 1,000,001以上 1,367 23,732,838,059 91.52\n",
      " 合　計 342,205 25,930,380,458 100.00\n"
     ]
    }
   ],
   "source": [
    "res = requests.get(\"http://www.tdcc.com.tw/smWeb/QryStock.jsp?SCA_DATE=20151204&SqlMethod=StockNo&StockNo=2330&StockName=&sub=%ACd%B8%DF\")\n",
    "soup = BeautifulSoup(res.text)\n",
    "td = soup.select(\".mt\")[1]\n",
    "for tr in td.select('tr'):\n",
    "    print tr.select('td')[0].text,tr.select('td')[1].text,tr.select('td')[2].text,tr.select('td')[3].text,tr.select('td')[4].text"
   ]
  },
  {
   "cell_type": "code",
   "execution_count": null,
   "metadata": {
    "collapsed": true
   },
   "outputs": [],
   "source": []
  }
 ],
 "metadata": {
  "kernelspec": {
   "display_name": "Python 2",
   "language": "python",
   "name": "python2"
  },
  "language_info": {
   "codemirror_mode": {
    "name": "ipython",
    "version": 2
   },
   "file_extension": ".py",
   "mimetype": "text/x-python",
   "name": "python",
   "nbconvert_exporter": "python",
   "pygments_lexer": "ipython2",
   "version": "2.7.10"
  }
 },
 "nbformat": 4,
 "nbformat_minor": 0
}
