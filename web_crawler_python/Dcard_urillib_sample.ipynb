{
 "cells": [
  {
   "cell_type": "code",
   "execution_count": null,
   "metadata": {
    "collapsed": false
   },
   "outputs": [
    {
     "name": "stdout",
     "output_type": "stream",
     "text": [
      "昨半夜男友做夢，夢裡有他阿姨和他父親，還有他自己，在夢中他和四五歲的自己說話。\n",
      "\n",
      "\n",
      "說著說著只剩他自己，可是總感覺旁邊還有人，結果走出來的人是他母親，他一看到她就衝上去抱住她，然後他醒了，開始半夜啜泣。\n",
      "\n",
      "\n",
      "\n",
      "\n",
      "身為女友的我躺在他旁邊完全都不知道，是他隔天早晨告訴我這個夢，還說盡量不要哭出來吵醒我。\n",
      "\n",
      "\n",
      "聽到這裡我眼眶有些紅，我告訴他也許是你馬麻回來看看你，還問男友你有跟馬麻說什麼嗎，他說沒有說什麼，只是覺得快三十年了她都不在，他已經長得很大了，真的非常想念媽媽。\n",
      "\n",
      "\n",
      "親愛的美虹阿姨，你兒子是個單純如男孩，又有肩膀的穩重男人，接下來三十年我會替妳好好照顧他的。\n",
      "打完報告\n",
      "伸個懶腰\n",
      "想說總算今天可以早點睡覺了……\n",
      "\n",
      "轉過身一看\n",
      "剛剛明明趴在椅子上看我打報告的毛毛竟然……\n",
      "http://imgur.com/XDESuvs\n",
      "\n",
      "http://imgur.com/ZfdMWwE\n",
      "\n",
      "好，我就坐上床，看你會不會識相的離開\n",
      "結果還真的動了一下，但……\n",
      "http://imgur.com/HYdVNTW\n",
      "\n",
      "http://imgur.com/KCO0I16\n",
      "\n",
      "你也睡太香………………\n",
      "\n",
      "哼！看我賣你\n",
      "哼!!!!!\n",
      "\n",
      "好啦，今晚睡沙發嗎………………\n",
      "*以下為個人觀點*\n",
      "最近抵制頂新活動不斷蔓延，連味全也遭殃。\n",
      "其實真的很不懂為什麼有人可以那麼的糟蹋食物，買一堆林鳳營鮮奶，最後卻要做出糟蹋的事情來，我想說，你們不喜歡的只不過是因為味全是頂新，所以不買，可是食品並沒有問題，而且牛奶最好喝的我覺得還是林鳳營，再說，某家的牛奶明明就有問題，可是卻還是會有人去買。\n",
      "再來，以松青超市為例，它也是頂新的，就因為是這樣，被抵制，導致倒掉，這個也很扯，也不想想，松青跟全聯 頂好 比，以肉品方面，品質好的是松青，而且松青有很多進口食品，像是蠻多零食是日本的，可是其他超商買不到，這樣的超市，被迫倒店，覺得很可悲。\n",
      "不喜歡是你的事，但…影響到其他人真的很不好，不喜歡可以不要買，浪費食物真的很缺德。松青沒了，抵制牛奶，那之後是什麼？布列德麵包店嗎？還是其他味全企業呢？\n",
      "請各位三思，不要因為品牌而不喜歡。\n",
      "剛剛跟某男生朋友在聊天\n",
      "聊到我穿塑腿襪的心得時\n",
      "他竟然 ... ...\n",
      "\n",
      "http://i.imgur.com/sYU3m8n.jpg\n",
      "http://i.imgur.com/IGWCdTB.jpg\n",
      "http://i.imgur.com/LCWNCnh.jpg\n",
      "\n",
      "... 我一度以為他是開玩笑的 -.-\n",
      "後來才發現他很認真欸 xDDDD\n",
      "\n",
      "還是塑腿襪 真的有給男生穿的嗎 OAO\n",
      "前幾天我回魯了 \n",
      "因為不想讓朋友們擔心我一直壓抑情緒 在大家面前還是那個開朗的我\n",
      "但是今天一個朋友跟我說前閃可能是因為劈腿才跟我分手\n",
      "當下真的差點壓不住情緒\n",
      "又不敢跟其他人講\n",
      "於是想到最近常聊天的朋友 \n",
      "他一開始是罵我為什麼這麼傻到最後才安慰我\n",
      "因為我比較愛逞強所以一直沒哭\n",
      "直到他說了一句...妳乖\n",
      "頓時整個崩潰..\n",
      "這兩個字真的很中我的點\n",
      "有沒有人跟我一樣的?"
     ]
    }
   ],
   "source": [
    "import urllib2\n",
    "import json\n",
    "post_id = []\n",
    "post_links = []\n",
    "for page in range(1, 4):\n",
    "    url = \"https://www.dcard.tw/api/forum/all/%d\" % page\n",
    "    data = urllib2.urlopen(url).read()\n",
    "    data = json.loads(data)\n",
    "    for post in data:\n",
    "        if int(post['likeCount']) >= 5:\n",
    "            post_links.append(post['id'])\n",
    "    for post_id in post_links:\n",
    "        post_url = u'https://www.dcard.tw/api/post/all/' + str(post_id)\n",
    "        data = urllib2.urlopen(post_url).read()\n",
    "        data = json.loads(data)\n",
    "        content = data['version'][0]['content']\n",
    "        print content"
   ]
  },
  {
   "cell_type": "code",
   "execution_count": null,
   "metadata": {
    "collapsed": true
   },
   "outputs": [],
   "source": []
  }
 ],
 "metadata": {
  "kernelspec": {
   "display_name": "Python 2",
   "language": "python",
   "name": "python2"
  },
  "language_info": {
   "codemirror_mode": {
    "name": "ipython",
    "version": 2
   },
   "file_extension": ".py",
   "mimetype": "text/x-python",
   "name": "python",
   "nbconvert_exporter": "python",
   "pygments_lexer": "ipython2",
   "version": "2.7.10"
  }
 },
 "nbformat": 4,
 "nbformat_minor": 0
}
