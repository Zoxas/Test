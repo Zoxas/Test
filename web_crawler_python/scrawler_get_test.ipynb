{
 "cells": [
  {
   "cell_type": "code",
   "execution_count": 29,
   "metadata": {
    "collapsed": true
   },
   "outputs": [],
   "source": [
    "import requests\n",
    "from bs4 import BeautifulSoup"
   ]
  },
  {
   "cell_type": "code",
   "execution_count": 98,
   "metadata": {
    "collapsed": false
   },
   "outputs": [],
   "source": [
    "res = requests.get(\"http://www.ipeen.com.tw/search/taiwan/000/1-0-25-47/\")\n",
    "soup =  BeautifulSoup(res.text)"
   ]
  },
  {
   "cell_type": "code",
   "execution_count": 137,
   "metadata": {
    "collapsed": false
   },
   "outputs": [
    {
     "name": "stdout",
     "output_type": "stream",
     "text": [
      "So Free 柴燒比薩&起司專賣 \n",
      "\t\t\t\t\t\t\t本店均消 142 元\t\t\t\t\t\t\n",
      "àlohas野草 \n",
      "\t\t\t\t\t\t\t本店均消 375 元\t\t\t\t\t\t\n",
      "好米亞義法餐酒館 \n",
      "\t\t\t\t\t\t\t本店均消 662 元\t\t\t\t\t\t\n",
      "MOT/ KITCHEN \n",
      "\t\t\t\t\t\t\t本店均消 485 元\t\t\t\t\t\t\n",
      "TOFU thirty five 豆腐35(勤美店) \n",
      "\t\t\t\t\t\t\t本店均消 244 元\t\t\t\t\t\t\n",
      "台北寒舍艾美酒店-探索廚房 \n",
      "\t\t\t\t\t\t\t本店均消 1,236 元\t\t\t\t\t\t\n",
      "吃吧chiba \n",
      "\t\t\t\t\t\t\t本店均消 356 元\t\t\t\t\t\t\n",
      "昨日花卷 跨界好食 \n",
      "\t\t\t\t\t\t\t本店均消 324 元\t\t\t\t\t\t\n",
      "水舞饌(大直店) \n",
      "\t\t\t\t\t\t\t本店均消 414 元\t\t\t\t\t\t\n",
      "IKEA瑞典餐廳(敦北店) \n",
      "\t\t\t\t\t\t\t本店均消 160 元\t\t\t\t\t\t\n",
      "Poffertjes Cafe'荷蘭小鬆餅 \n",
      "\t\t\t\t\t\t\t本店均消 246 元\t\t\t\t\t\t\n",
      "ａｉｋｏ派對時光 \n",
      "\t\t\t\t\t\t\t本店均消 350 元\t\t\t\t\t\t\n",
      "Toasteria Cafe三號(敦南店) \n",
      "\t\t\t\t\t\t\t本店均消 330 元\t\t\t\t\t\t\n",
      "Danny & Company \n",
      "\t\t\t\t\t\t\t本店均消 2,494 元\t\t\t\t\t\t\n",
      "鬥牛士Brunch牛排 \n",
      "\t\t\t\t\t\t\t本店均消 369 元\t\t\t\t\t\t\n"
     ]
    }
   ],
   "source": [
    "for item in soup.select(\".serItem\")[1::]:\n",
    "    print item.select(\".name\")[0].text[25::].strip(),item.select(\".costEmpty\")[0].text"
   ]
  },
  {
   "cell_type": "code",
   "execution_count": null,
   "metadata": {
    "collapsed": true
   },
   "outputs": [],
   "source": []
  }
 ],
 "metadata": {
  "kernelspec": {
   "display_name": "Python 2",
   "language": "python",
   "name": "python2"
  },
  "language_info": {
   "codemirror_mode": {
    "name": "ipython",
    "version": 2
   },
   "file_extension": ".py",
   "mimetype": "text/x-python",
   "name": "python",
   "nbconvert_exporter": "python",
   "pygments_lexer": "ipython2",
   "version": "2.7.10"
  }
 },
 "nbformat": 4,
 "nbformat_minor": 0
}
