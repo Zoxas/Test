{
 "cells": [
  {
   "cell_type": "code",
   "execution_count": 1,
   "metadata": {
    "collapsed": true
   },
   "outputs": [],
   "source": [
    "import requests\n",
    "from bs4 import BeautifulSoup\n",
    "import HTMLParser\n",
    "import time\n",
    "from random import randint\n",
    "import sys\n",
    "from IPython.display import clear_output"
   ]
  },
  {
   "cell_type": "code",
   "execution_count": 2,
   "metadata": {
    "collapsed": true
   },
   "outputs": [],
   "source": [
    "links = ['http://www.ipeen.com.tw/search/all/000/1-100-0-0/?p=' + str(i+1) + 'adkw=東區&so=commno' for i in range(10)]"
   ]
  },
  {
   "cell_type": "code",
   "execution_count": 3,
   "metadata": {
    "collapsed": true
   },
   "outputs": [],
   "source": [
    "shop_links=[]"
   ]
  },
  {
   "cell_type": "code",
   "execution_count": 4,
   "metadata": {
    "collapsed": true
   },
   "outputs": [],
   "source": [
    "for link in links:\n",
    "    res = requests.get(link)\n",
    "    soup = BeautifulSoup(res.text.encode(\"utf-8\"))\n",
    "    shop_table = soup.findAll('h3',{'class':'name'})\n",
    "    \n",
    "    ##關在a tag裡的網址抓出來\n",
    "    for shop_link in shop_table:\n",
    "        link = 'http://www.ipeen.com.tw' + [tag['href'] for tag in shop_link.findAll('a',{'href':True})][0]\n",
    "        shop_links.append(link)\n",
    "    \n",
    "    ##避免被擋掉，小睡一會兒\n",
    "    time.sleep(1)"
   ]
  },
  {
   "cell_type": "code",
   "execution_count": 5,
   "metadata": {
    "collapsed": true
   },
   "outputs": [],
   "source": [
    "##建立變項檔案的header\n",
    "title  = \"shop\" + \",\" + \"category\" + \",\" + \"tel\" + \",\" + \"addr\" + \",\" + \"cost\" + \",\" + \"rank\" + \",\" + \"counts\" + \",\" + \"share\" + \",\" + \"collect\"\n",
    "shop_list = open('shop_list.txt','w')\n",
    "\n",
    "##先把header寫進去\n",
    "shop_list.write(title.encode('utf-8') + \"\\n\")\n"
   ]
  },
  {
   "cell_type": "code",
   "execution_count": 6,
   "metadata": {
    "collapsed": false
   },
   "outputs": [
    {
     "name": "stdout",
     "output_type": "stream",
     "text": [
      "159\n"
     ]
    }
   ],
   "source": [
    "for i in range(len(shop_links)):\n",
    "    \n",
    "    res = requests.get(shop_links[i])\n",
    "    soup = BeautifulSoup(res.text.encode(\"utf-8\"))\n",
    "    header = soup.find('div',{'class':'info'})\n",
    "\n",
    "    shop = header.h1.string.strip()\n",
    "    \n",
    "    ##做例外處理\n",
    "    try:\n",
    "        category = header.find('p', {'class':'cate i'}).a.string\n",
    "    except Exception as e:\n",
    "        category = \"\"\n",
    "    \n",
    "    try:\n",
    "        tel = header.find('p',{'class': 'tel i'}).a.string.replace(\"-\",\"\")\n",
    "    except Exception as e:\n",
    "        tel = \"\"\n",
    "        \n",
    "    try:\n",
    "        addr = header.find('p', {'class': 'addr i'}).a.string.strip()\n",
    "    except Exception as e:\n",
    "        addr = \"\"\n",
    "    \n",
    "    try:\n",
    "        cost = header.find('p', {'class':'cost i'}).string.split()[1]\n",
    "    except Exception as e:\n",
    "        cost = \"\"\n",
    "    \n",
    "    try:\n",
    "        rank = header.find('span', {'itemprop': 'average'}).string\n",
    "    except Exception as e:\n",
    "        rank = \"\"\n",
    "    \n",
    "    try:\n",
    "        counts = header.find_all('em')[0].string.replace(',','')\n",
    "    except Exception as e:\n",
    "        counts = \"\"\n",
    "    \n",
    "    try:\n",
    "        share = header.find_all('em')[1].string.replace(',','')\n",
    "    except Exception as e:\n",
    "        share = \"\"\n",
    "      \n",
    "    try:\n",
    "        collect = header.find_all('em')[2].string.replace(',','')\n",
    "    except Exception as e:\n",
    "        collect = \"\"\n",
    "    \n",
    "    ##串起來用逗號分格（應該有更好的方法，但是先將就用用）\n",
    "    result = shop + \",\" + category + \",\" + tel + \",\" + addr + \",\" + cost + \",\" + rank + \",\" + counts + \",\" + share + \",\" + collect\n",
    "    shop_list.write(result.encode('utf-8') + \"\\n\")\n",
    "    \n",
    "    ##隨機睡一下\n",
    "    time.sleep(randint(1,5))\n",
    "    clear_output()\n",
    "    print i\n",
    "    sys.stdout.flush()\n",
    "\n",
    "shop_list.close()\n"
   ]
  },
  {
   "cell_type": "code",
   "execution_count": null,
   "metadata": {
    "collapsed": true
   },
   "outputs": [],
   "source": []
  }
 ],
 "metadata": {
  "kernelspec": {
   "display_name": "Python 2",
   "language": "python",
   "name": "python2"
  },
  "language_info": {
   "codemirror_mode": {
    "name": "ipython",
    "version": 2
   },
   "file_extension": ".py",
   "mimetype": "text/x-python",
   "name": "python",
   "nbconvert_exporter": "python",
   "pygments_lexer": "ipython2",
   "version": "2.7.10"
  }
 },
 "nbformat": 4,
 "nbformat_minor": 0
}
