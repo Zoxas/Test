{
 "cells": [
  {
   "cell_type": "code",
   "execution_count": 1,
   "metadata": {
    "collapsed": true
   },
   "outputs": [],
   "source": [
    "import requests\n",
    "from bs4 import BeautifulSoup\n",
    "import json"
   ]
  },
  {
   "cell_type": "code",
   "execution_count": 5,
   "metadata": {
    "collapsed": false
   },
   "outputs": [],
   "source": [
    "#以防萬一\n",
    "head2 = {\"referer\":\"https://www.dcard.tw/f/all\",\n",
    "    \"user-agent\":\"Mozilla/5.0 (Windows NT 6.3; WOW64) AppleWebKit/537.36 (KHTML, like Gecko) Chrome/47.0.2526.73 Safari/537.36\"}\n",
    "\n",
    "#想分析的網址\n",
    "url = \"https://www.dcard.tw/api/forum/all/1\"\n",
    "\n",
    "#送出GET請求\n",
    "res = requests.get(url,headers=head2)\n",
    "soup = BeautifulSoup(res.text,\"lxml\")    "
   ]
  },
  {
   "cell_type": "code",
   "execution_count": 6,
   "metadata": {
    "collapsed": false
   },
   "outputs": [
    {
     "name": "stdout",
     "output_type": "stream",
     "text": [
      "<html>\n",
      " <body>\n",
      "  <p>\n",
      "   [{\"id\":885125,\"forum_alias\":\"bg\",\"tags\":[],\"pinned\":false,\"report_reason\":\"false\",\"report_status\":true,\"updatedAt\":\"2015-12-16T19:35:24.102Z\",\"createdAt\":\"2015-12-16T19:35:24.101Z\",\"likeCount\":0,\"version\":[{\"title\":\"我以為我放的下\",\"content\":\"深夜還是想起你\\n回憶太深刻\\n當我愛的很深的時候\\n你離開了\\n沒有承諾的感情\\n說淡了就散了\\n我ㄧ直在這裡等你\\n到愛消失怠盡\",\"createdAt\":\"2015-12-16T19:35:24.104Z\"}],\"member\":{\"gender\":\"M\",\"school\":\"匿名\",\"department\":\"\"},\"comment\":0,\"like\":0,\"forum_name\":\"男女\"},{\"id\":885121,\"forum_alias\":\"mood\",\"tags\":[\"傷透心\"],\"pinned\":false,\"report_reason\":\"false\",\"report_status\":true,\"updatedAt\":\"2015-12-16T19:31:34.006Z\",\"createdAt\":\"2015-12-16T19:31:34.005Z\",\"likeCount\":2,\"version\":[{\"title\":\"接受先天設定\",\"content\":\"有一種人，只能成為配角，儘管再怎麼努力付出最後的結局還是一樣。\\n\\n一次次地嘗試與失敗我看清了，自己就是配角命。\\n\\n喜歡上\",\"createdAt\":\"2015-12-16T19:31:34.011Z\"}],\"member\":{\"gender\":\"M\",\"school\":\"清華大學\",\"department\":\"\"},\"comment\":0,\"like\":2,\"forum_name\":\"心情\"},{\"id\":885111,\"forum_alias\":\"literature\",\"tags\":[],\"pinned\":false,\"report_reason\":\"false\",\"report_status\":true,\"updatedAt\":\"2015-12-16T19:22:39.702Z\",\"createdAt\":\"2015-12-16T19:22:39.702Z\",\"likeCount\":0,\"version\":[{\"title\":\"【新詩】 偏離\",\"content\":\"被棄養的歌詞   獨自在星空連接成詩\\n追逐光芒的痴   卻逐漸在耳語中走失\\n曾經喃喃的文字   那些我和妳的事\\n是如何被\",\"createdAt\":\"2015-12-16T19:22:39.707Z\"}],\"member\":{\"gender\":\"M\",\"school\":\"臺灣藝術大學\",\"department\":\"工藝設計系\"},\"comment\":0,\"like\":0,\"forum_name\":\"詩文\"},{\"id\":885109,\"forum_alias\":\"bg\",\"tags\":[],\"pinned\":false,\"report_reason\":\"false\",\"report_status\":true,\"updatedAt\":\"2015-12-16T19:33:37.540Z\",\"createdAt\":\"2015-12-16T19:21:32.322Z\",\"likeCount\":1,\"version\":[{\"title\":\"喜歡上一個有閃光的女生\",\"content\":\"事情是這樣的，這個暑假因緣際會下認識了一個女生，應該算是跟朋友一起出去玩認識的，\\n後來加了fb互相了解對方之後會常常聊天\",\"createdAt\":\"2015-12-16T19:21:32.326Z\"}],\"member\":{\"gender\":\"M\",\"school\":\"匿名\",\"department\":\"\"},\"comment\":5,\"like\":1,\"forum_name\":\"男女\"},{\"id\":885108,\"forum_alias\":\"bg\",\"tags\":[],\"pinned\":false,\"report_reason\":\"false\",\"report_status\":true,\"updatedAt\":\"2015-12-16T19:33:51.205Z\",\"createdAt\":\"2015-12-16T19:19:17.747Z\",\"likeCount\":5,\"version\":[{\"title\":\"傷多深就藏多深\",\"content\":\"我是個不愛把難過表露於外的人\\n失戀了分手了我一個人在路上吹風\\n眼框打轉著滿滿的淚滴 忍住不讓他滑落\\n\\n一個與我親密如泥的\",\"createdAt\":\"2015-12-16T19:20:17.989Z\"}],\"member\":{\"gender\":\"F\",\"school\":\"匿名\",\"department\":\"\"},\"comment\":2,\"like\":5,\"forum_name\":\"男女\"},{\"id\":885105,\"forum_alias\":\"bg\",\"tags\":[],\"pinned\":false,\"report_reason\":\"false\",\"report_status\":true,\"updatedAt\":\"2015-12-16T19:35:15.668Z\",\"createdAt\":\"2015-12-16T19:18:09.402Z\",\"likeCount\":0,\"version\":[{\"title\":\"分手後不要做朋友？\",\"content\":\"大家會希望情侶在分手之後還是朋友嗎\\n我一直希望在每個好聚好散的背後\\n彼此雖然都已經是過去式\\n但曾經在互相的生命中那麼重要\",\"createdAt\":\"2015-12-16T19:18:09.408Z\"}],\"member\":{\"gender\":\"M\",\"school\":\"匿名\",\"department\":\"\"},\"comment\":3,\"like\":0,\"forum_name\":\"男女\"},{\"id\":885101,\"forum_alias\":\"pet\",\"tags\":[],\"pinned\":false,\"report_reason\":\"false\",\"report_status\":true,\"updatedAt\":\"2015-12-16T19:32:01.580Z\",\"createdAt\":\"2015-12-16T19:16:18.935Z\",\"likeCount\":0,\"version\":[{\"title\":\"#爬蟲 國內國外對爬蟲飼養觀念的差異\",\"content\":\"嗨大家好我是Betta\\n今天不PO照片，只是想跟大家討論一個議題\\n\\n小弟接觸爬蟲也有一段時間了\\n偶爾也會看看國外的資訊或\",\"createdAt\":\"2015-12-16T19:16:18.938Z\"}],\"member\":{\"gender\":\"M\",\"school\":\"陽明大學\",\"department\":\"\"},\"comment\":1,\"like\":0,\"forum_name\":\"寵物\"},{\"id\":885099,\"forum_alias\":\"mood\",\"tags\":[],\"pinned\":false,\"report_reason\":\"false\",\"report_status\":true,\"updatedAt\":\"2015-12-16T19:28:02.675Z\",\"createdAt\":\"2015-12-16T19:15:07.963Z\",\"likeCount\":3,\"version\":[{\"title\":\"樣子真的很重要.......（純粹發牢騷）\",\"content\":\"本魯最近看學弟妹玩dcard玩那么嗨\\n再加上學妹的慫恿\\n就想說自己在畢業前也來玩一玩\\n就在前幾天自己也來申辦一個帳號～～\",\"createdAt\":\"2015-12-16T19:15:07.966Z\"}],\"member\":{\"gender\":\"M\",\"school\":\"匿名\",\"department\":\"\"},\"comment\":2,\"like\":3,\"forum_name\":\"心情\"},{\"id\":885098,\"forum_alias\":\"mood\",\"tags\":[],\"pinned\":false,\"report_reason\":\"false\",\"report_status\":true,\"updatedAt\":\"2015-12-16T19:33:05.545Z\",\"createdAt\":\"2015-12-16T19:14:51.381Z\",\"likeCount\":1,\"version\":[{\"title\":\"有一天 我作夢了\",\"content\":\"夢裡我5歲，在路邊啃棒棒糖，一位獨臂老人來到我面前：（看你面色潮紅，筋骨勇健，未來必長到180公分，實為練武奇才，我這有\",\"createdAt\":\"2015-12-16T19:14:51.385Z\"}],\"member\":{\"gender\":\"M\",\"school\":\"中山大學\",\"department\":\"\"},\"comment\":2,\"like\":1,\"forum_name\":\"心情\"},{\"id\":885097,\"forum_alias\":\"funny\",\"tags\":[],\"pinned\":false,\"report_reason\":\"false\",\"report_status\":true,\"updatedAt\":\"2015-12-16T19:18:21.577Z\",\"createdAt\":\"2015-12-16T19:14:46.899Z\",\"likeCount\":2,\"version\":[{\"title\":\"流星神蹟誕生\",\"content\":\"魯妹我當然要趁難得的流星雨好好許願一番啊！\\n我要脫魯\\n我要脫魯\\n我要脫魯\\nψ(｀∇´)ψψ(｀∇´)ψψ(｀∇´)ψ\\n\\n\",\"createdAt\":\"2015-12-16T19:14:46.909Z\"}],\"member\":{\"gender\":\"F\",\"school\":\"東海大學\",\"department\":\"\"},\"comment\":1,\"like\":2,\"forum_name\":\"有趣\"},{\"id\":885091,\"forum_alias\":\"horoscopes\",\"tags\":[],\"pinned\":false,\"report_reason\":\"false\",\"report_status\":true,\"updatedAt\":\"2015-12-16T19:24:33.069Z\",\"createdAt\":\"2015-12-16T19:11:29.294Z\",\"likeCount\":1,\"version\":[{\"title\":\"獅子男\",\"content\":\"我和他用fb聊也用賴聊\\n但比較常回Fb\\n所以賴就放著不回\\n今天不知是怎樣\\n前面還好好的\\n突然\\n他：為什麼妳一直要用了fb\",\"createdAt\":\"2015-12-16T19:11:29.297Z\"}],\"member\":{\"gender\":\"F\",\"school\":\"匿名\",\"department\":\"\"},\"comment\":2,\"like\":1,\"forum_name\":\"星座\"},{\"id\":885083,\"forum_alias\":\"horoscopes\",\"tags\":[],\"pinned\":false,\"report_reason\":\"false\",\"report_status\":true,\"updatedAt\":\"2015-12-16T19:28:44.815Z\",\"createdAt\":\"2015-12-16T19:06:17.831Z\",\"likeCount\":4,\"version\":[{\"title\":\"獅子男接受被告白嗎\",\"content\":\"如題\\n最近想了很多\\n覺得拖下去不是辦法 所以決定要自己主動告白了\\n但是又有點疑慮 所以想問問大貓們\\n拜託告訴我~ 雖然我\",\"createdAt\":\"2015-12-16T19:06:57.201Z\"}],\"member\":{\"gender\":\"F\",\"school\":\"匿名\",\"department\":\"\"},\"comment\":9,\"like\":4,\"forum_name\":\"星座\"},{\"id\":885081,\"forum_alias\":\"funny\",\"tags\":[],\"pinned\":false,\"report_reason\":\"false\",\"report_status\":true,\"updatedAt\":\"2015-12-16T19:04:59.879Z\",\"createdAt\":\"2015-12-16T19:04:59.879Z\",\"likeCount\":0,\"version\":[{\"title\":\"跟王如玄撞衫了⋯⋯\",\"content\":\"9月底去日本自由行的時候\\n剛好遇到優尼哭嘍換季特價，\\n順勢買了幾件冬裝，\\n無奈回國後冬天根本不像冬天，\\n冬衣也一直沒機會\",\"createdAt\":\"2015-12-16T19:04:59.881Z\"}],\"member\":{\"gender\":\"F\",\"school\":\"義守大學\",\"department\":\"\"},\"comment\":0,\"like\":0,\"forum_name\":\"有趣\"},{\"id\":885079,\"forum_alias\":\"bg\",\"tags\":[],\"pinned\":false,\"report_reason\":\"false\",\"report_status\":true,\"updatedAt\":\"2015-12-16T19:04:31.844Z\",\"createdAt\":\"2015-12-16T19:04:31.844Z\",\"likeCount\":6,\"version\":[{\"title\":\"沒談過戀愛是好還是壞\",\"content\":\"一開始阿都覺得沒談過戀愛很簡單很美好\\n想把第一次談戀愛給自己真的喜歡的人\\n而不是為了談戀愛而談戀愛這樣\\n所以一直以來都沒\",\"createdAt\":\"2015-12-16T19:09:59.415Z\"}],\"member\":{\"gender\":\"F\",\"school\":\"匿名\",\"department\":\"\"},\"comment\":0,\"like\":6,\"forum_name\":\"男女\"},{\"id\":885078,\"forum_alias\":\"mood\",\"tags\":[],\"pinned\":false,\"report_reason\":\"false\",\"report_status\":true,\"updatedAt\":\"2015-12-16T19:04:00.928Z\",\"createdAt\":\"2015-12-16T19:04:00.928Z\",\"likeCount\":3,\"version\":[{\"title\":\"每一次都努力撇清關係\",\"content\":\"雖然\\n我們每天聊天\\n常常跟對方報備行程\\n偶爾你心血來潮會彈吉他給我聽\\n知道彼此所有的戀愛史\\n在你跟女朋友分手時聽你哭\\n\\n\",\"createdAt\":\"2015-12-16T19:04:00.932Z\"}],\"member\":{\"gender\":\"F\",\"school\":\"匿名\",\"department\":\"\"},\"comment\":0,\"like\":3,\"forum_name\":\"心情\"},{\"id\":885076,\"forum_alias\":\"funny\",\"tags\":[],\"pinned\":false,\"report_reason\":\"false\",\"report_status\":true,\"updatedAt\":\"2015-12-16T19:15:08.723Z\",\"createdAt\":\"2015-12-16T19:02:50.632Z\",\"likeCount\":1,\"version\":[{\"title\":\"麥仔茶什麼味！！？\",\"content\":\"剛剛跟朋友逛家樂福\\n走到飲料區他突然麥仔茶到底什麼味道\\n結果我秒回了﹏﹏﹏﹏﹏﹏\\n\\n\\n\\n\\n\\n愛之味。。。超棒的，numb\",\"createdAt\":\"2015-12-16T19:05:42.860Z\"}],\"member\":{\"gender\":\"M\",\"school\":\"逢甲大學\",\"department\":\"\"},\"comment\":4,\"like\":1,\"forum_name\":\"有趣\"},{\"id\":885070,\"forum_alias\":\"mood\",\"tags\":[],\"pinned\":false,\"report_reason\":\"false\",\"report_status\":true,\"updatedAt\":\"2015-12-16T19:11:20.180Z\",\"createdAt\":\"2015-12-16T19:00:13.942Z\",\"likeCount\":2,\"version\":[{\"title\":\"你什麼時候要交女朋友啊?\",\"content\":\"當我朋友這樣問我\\n只是隨便回個\\\"你都還沒有對象嘞 還敢說我-3-\\\"\\n其實\\n我是在等一個能在我身上看到未來的人\",\"createdAt\":\"2015-12-16T19:00:13.946Z\"}],\"member\":{\"gender\":\"M\",\"school\":\"匿名\",\"department\":\"\"},\"comment\":1,\"like\":2,\"forum_name\":\"心情\"},{\"id\":885069,\"forum_alias\":\"mood\",\"tags\":[],\"pinned\":false,\"report_reason\":\"false\",\"report_status\":true,\"updatedAt\":\"2015-12-16T18:59:30.114Z\",\"createdAt\":\"2015-12-16T18:59:30.114Z\",\"likeCount\":2,\"version\":[{\"title\":\"在我死之前，我們做個約定好不好?\",\"content\":\"看完這集真的好難過...\\nhttps://www.youtube.com/watch?v=LrpRmeOiHLU\\n\\n如果\",\"createdAt\":\"2015-12-16T19:00:17.014Z\"}],\"member\":{\"gender\":\"M\",\"school\":\"匿名\",\"department\":\"\"},\"comment\":0,\"like\":2,\"forum_name\":\"心情\"},{\"id\":885064,\"forum_alias\":\"mood\",\"tags\":[],\"pinned\":false,\"report_reason\":\"false\",\"report_status\":true,\"updatedAt\":\"2015-12-16T18:56:52.025Z\",\"createdAt\":\"2015-12-16T18:56:52.025Z\",\"likeCount\":7,\"version\":[{\"title\":\"我喜歡你 我喜歡妳\",\"content\":\"\\\"我喜歡你\\\"\\n\\n常常聽到這句話\\n可能是孩子對父母的依戀\\n可能是一個學弟妹對學長姐的崇拜\\n可能是學生對老師的感謝\\n可能是朋\",\"createdAt\":\"2015-12-16T18:59:30.353Z\"}],\"member\":{\"gender\":\"M\",\"school\":\"匿名\",\"department\":\"\"},\"comment\":0,\"like\":7,\"forum_name\":\"心情\"},{\"id\":885063,\"forum_alias\":\"bg\",\"tags\":[],\"pinned\":false,\"report_reason\":\"false\",\"report_status\":true,\"updatedAt\":\"2015-12-16T19:04:57.053Z\",\"createdAt\":\"2015-12-16T18:56:39.839Z\",\"likeCount\":8,\"version\":[{\"title\":\"致曖昧的我們\",\"content\":\"失去了前任的擁抱 總覺得空蕩蕩的\\n在寒冬的時候 特別需要一雙手和一個擁抱溫暖\\n最近出現很多心被聊走的文章\\n讓我不禁想了一\",\"createdAt\":\"2015-12-16T18:59:10.558Z\"}],\"member\":{\"gender\":\"F\",\"school\":\"匿名\",\"department\":\"\"},\"comment\":1,\"like\":8,\"forum_name\":\"男女\"}]\n",
      "  </p>\n",
      " </body>\n",
      "</html>\n"
     ]
    }
   ],
   "source": [
    "#查看是否獲取正確\n",
    "print soup.prettify()"
   ]
  },
  {
   "cell_type": "code",
   "execution_count": 7,
   "metadata": {
    "collapsed": false
   },
   "outputs": [
    {
     "name": "stdout",
     "output_type": "stream",
     "text": [
      "[885108, 885079, 885064, 885063] \n",
      "\n",
      "我是個不愛把難過表露於外的人\n",
      "失戀了分手了我一個人在路上吹風\n",
      "眼框打轉著滿滿的淚滴 忍住不讓他滑落\n",
      "\n",
      "一個與我親密如泥的人他現在跟所毫無關係\n",
      "\n",
      "手機裡的那串電話號碼無法撥出\n",
      "臉書上搜尋你姓名的痕跡不敢滑開\n",
      "line裡面跟你的對話至今捨不得刪除\n",
      "逢年過節就好想跟你一起過一起歡笑\n",
      "\n",
      "你常說我傻說我呆 其實你才是笨蛋對吧\n",
      "你不敢先說分手 所以我幫你開口\n",
      "你生病的時候就像個孩子打電話撒嬌\n",
      "問我哪時曾照顧你 說你好不舒服\n",
      "發燒不拿藥不乖乖喝水休息卻堅持我陪你說話\n",
      "那時候的你像個小孩一樣 讓我被你需要的感覺 真好\n",
      "\n",
      "我好愛你 很愛很愛你\n",
      "我以為沒感覺了 可是你仍然影響我的每一個微笑\n",
      "那抹微笑的弧度因為你而失落\n",
      "我還是好想你好愛你\n",
      "我是個不愛把難過表露於外的人\n",
      "失戀了分手了我一個人在路上吹風\n",
      "眼框打轉著滿滿的淚滴 忍住不讓他滑落\n",
      "\n",
      "一個與我親密如泥的人他現在跟所毫無關係\n",
      "\n",
      "手機裡的那串電話號碼無法撥出\n",
      "臉書上搜尋你姓名的痕跡不敢滑開\n",
      "line裡面跟你的對話至今捨不得刪除\n",
      "逢年過節就好想跟你一起過一起歡笑\n",
      "\n",
      "你常說我傻說我呆 其實你才是笨蛋對吧\n",
      "你不敢先說分手 所以我幫你開口\n",
      "你生病的時候就像個孩子打電話撒嬌\n",
      "問我哪時曾照顧你 說你好不舒服\n",
      "發燒不拿藥不乖乖喝水休息卻堅持我陪你說話\n",
      "那時候的你像個小孩一樣 讓我被你需要的感覺 真好\n",
      "\n",
      "我好愛你 很愛很愛你\n",
      "我以為沒感覺了 可是你仍然影響我的每一個微笑\n",
      "那抹微笑的弧度因為你而失落\n",
      "我還是好想你好愛你\n",
      "我是個不愛把難過表露於外的人\n",
      "失戀了分手了我一個人在路上吹風\n",
      "眼框打轉著滿滿的淚滴 忍住不讓他滑落\n",
      "\n",
      "一個與我親密如泥的人他現在跟所毫無關係\n",
      "\n",
      "手機裡的那串電話號碼無法撥出\n",
      "臉書上搜尋你姓名的痕跡不敢滑開\n",
      "line裡面跟你的對話至今捨不得刪除\n",
      "逢年過節就好想跟你一起過一起歡笑\n",
      "\n",
      "你常說我傻說我呆 其實你才是笨蛋對吧\n",
      "你不敢先說分手 所以我幫你開口\n",
      "你生病的時候就像個孩子打電話撒嬌\n",
      "問我哪時曾照顧你 說你好不舒服\n",
      "發燒不拿藥不乖乖喝水休息卻堅持我陪你說話\n",
      "那時候的你像個小孩一樣 讓我被你需要的感覺 真好\n",
      "\n",
      "我好愛你 很愛很愛你\n",
      "我以為沒感覺了 可是你仍然影響我的每一個微笑\n",
      "那抹微笑的弧度因為你而失落\n",
      "我還是好想你好愛你\n",
      "我是個不愛把難過表露於外的人\n",
      "失戀了分手了我一個人在路上吹風\n",
      "眼框打轉著滿滿的淚滴 忍住不讓他滑落\n",
      "\n",
      "一個與我親密如泥的人他現在跟所毫無關係\n",
      "\n",
      "手機裡的那串電話號碼無法撥出\n",
      "臉書上搜尋你姓名的痕跡不敢滑開\n",
      "line裡面跟你的對話至今捨不得刪除\n",
      "逢年過節就好想跟你一起過一起歡笑\n",
      "\n",
      "你常說我傻說我呆 其實你才是笨蛋對吧\n",
      "你不敢先說分手 所以我幫你開口\n",
      "你生病的時候就像個孩子打電話撒嬌\n",
      "問我哪時曾照顧你 說你好不舒服\n",
      "發燒不拿藥不乖乖喝水休息卻堅持我陪你說話\n",
      "那時候的你像個小孩一樣 讓我被你需要的感覺 真好\n",
      "\n",
      "我好愛你 很愛很愛你\n",
      "我以為沒感覺了 可是你仍然影響我的每一個微笑\n",
      "那抹微笑的弧度因為你而失落\n",
      "我還是好想你好愛你\n"
     ]
    }
   ],
   "source": [
    "#print data\n",
    "#print data[0]['version'][0]['content']\n",
    "#data直接 print 會是 ASCII 要一直解到最內部 才會變成字串\n",
    "data = json.loads(soup.select(\"p\")[0].text)\n",
    "\n",
    "post_id = []\n",
    "post_links = []\n",
    "\n",
    "#把喜歡此文章讚數 > 5 的 ID都放進List\n",
    "for post in data:       \n",
    "    if int(post['likeCount']) >= 5:\n",
    "        post_links.append(post['id'])\n",
    "print post_links,\"\\n\"\n",
    "\n",
    "# 有ID -> 可以分析文章內容\n",
    "for post_id in post_links:\n",
    "    post_url =u'https://www.dcard.tw/api/post/all/' + str(post_links[0])\n",
    "        \n",
    "    post_req = requests.get(post_url,headers=head2).text\n",
    "    post_data = BeautifulSoup(post_req)\n",
    "    json_post_data = json.loads(post_data.text)\n",
    "    \n",
    "    content = json_post_data['version'][0]['content']\n",
    "    print json_post_data['version'][0]['content']"
   ]
  },
  {
   "cell_type": "code",
   "execution_count": null,
   "metadata": {
    "collapsed": true
   },
   "outputs": [],
   "source": []
  }
 ],
 "metadata": {
  "kernelspec": {
   "display_name": "Python 2",
   "language": "python",
   "name": "python2"
  },
  "language_info": {
   "codemirror_mode": {
    "name": "ipython",
    "version": 2
   },
   "file_extension": ".py",
   "mimetype": "text/x-python",
   "name": "python",
   "nbconvert_exporter": "python",
   "pygments_lexer": "ipython2",
   "version": "2.7.11"
  }
 },
 "nbformat": 4,
 "nbformat_minor": 0
}
