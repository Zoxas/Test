{
 "cells": [
  {
   "cell_type": "code",
   "execution_count": 1,
   "metadata": {
    "collapsed": true
   },
   "outputs": [],
   "source": [
    "import requests\n",
    "from bs4 import BeautifulSoup\n",
    "import json\n",
    "import sys\n",
    "from IPython.display import clear_output"
   ]
  },
  {
   "cell_type": "code",
   "execution_count": 8,
   "metadata": {
    "collapsed": false
   },
   "outputs": [
    {
     "name": "stdout",
     "output_type": "stream",
     "text": [
      "[884975, 884969, 884932]\n",
      "Now 0.0 % 884975\n",
      "Now 33.3333333333 % 884969\n",
      "Now 66.6666666667 % 884932\n",
      "[884975, 884969, 884932, 884975, 884969, 884932]\n",
      "Now 0.0 % 884975\n",
      "Now 16.6666666667 % 884969\n",
      "Now 33.3333333333 % 884932\n",
      "Now 0.0 % 884975\n",
      "Now 16.6666666667 % 884969\n",
      "Now 33.3333333333 % 884932\n",
      "[884975, 884969, 884932, 884975, 884969, 884932, 884975, 884969, 884932]\n",
      "Now 0.0 % 884975\n",
      "Now 11.1111111111 % 884969\n",
      "Now 22.2222222222 % 884932\n",
      "Now 0.0 % 884975\n",
      "Now 11.1111111111 % 884969\n",
      "Now 22.2222222222 % 884932\n",
      "Now 0.0 % 884975\n",
      "Now 11.1111111111 % 884969\n",
      "Now 22.2222222222 % 884932\n",
      "[884975, 884969, 884932, 884975, 884969, 884932, 884975, 884969, 884932, 884975, 884969, 884932]\n",
      "Now 0.0 % 884975\n",
      "Now 8.33333333333 % 884969\n",
      "Now 16.6666666667 % 884932\n",
      "Now 0.0 % 884975\n",
      "Now 8.33333333333 % 884969\n",
      "Now 16.6666666667 % 884932\n",
      "Now 0.0 % 884975\n",
      "Now 8.33333333333 % 884969\n",
      "Now 16.6666666667 % 884932\n",
      "Now 0.0 % 884975\n",
      "Now 8.33333333333 % 884969\n",
      "Now 16.6666666667 % 884932\n",
      "Now 100  %\n",
      "[884975, 884969, 884932, 884975, 884969, 884932, 884975, 884969, 884932, 884975, 884969, 884932] \n",
      "\n"
     ]
    }
   ],
   "source": [
    "Dcard_list = open('Dcard_list.txt','w')\n",
    "\n",
    "head2 = {\"referer\":\"https://www.dcard.tw/f/all\",\n",
    "    \"user-agent\":\"Mozilla/5.0 (Windows NT 6.3; WOW64) AppleWebKit/537.36 (KHTML, like Gecko) Chrome/47.0.2526.73 Safari/537.36\"}\n",
    "\n",
    "post_id = []\n",
    "post_links = []\n",
    "\n",
    "#目標 獲取 5頁內 喜愛人數 大於15的 Dcard 文章\n",
    "for page in range(1, 5):\n",
    "    url = \"https://www.dcard.tw/api/forum/all/%d\" % page\n",
    "    res = requests.get(url,headers=head2)\n",
    "    soup = BeautifulSoup(res.text)\n",
    "    data = json.loads(soup.select(\"p\")[0].text)\n",
    "    \n",
    "    #獲得 ID 並放到 List\n",
    "    for post in data:       \n",
    "        if int(post['likeCount']) >= 15:\n",
    "            post_links.append(post['id'])\n",
    "    print post_links\n",
    "    #開始解析文章內容\n",
    "    for post_id in post_links:\n",
    "        post_url =u'https://www.dcard.tw/api/post/all/' + str(post_id)\n",
    "        \n",
    "        #有文章出錯的話 記錄起來 並先跳過\n",
    "        try:\n",
    "            post_req = requests.get(post_url,headers=head2).text\n",
    "            post_data = BeautifulSoup(post_req)\n",
    "            json_post_data = json.loads(post_data.text)\n",
    "        except:\n",
    "            print \"ID\" , post_id , \"can't write to text -> error!!!\"\n",
    "            continue\n",
    "            \n",
    "        #顯示抓取進度\n",
    "        progress = float(post_links.index(post_id))/len(post_links)\n",
    "        print \"Now\" ,100*progress , \"%\" ,str(post_id)\n",
    "        \n",
    "        #寫入text文件之中\n",
    "        title = \"The  ID :\" + str(post_id)\n",
    "        Dcard_list.write(title.encode('utf-8') + \"\\n\")    \n",
    "        content = json_post_data['version'][0]['content']\n",
    "        Dcard_list.write(json_post_data['version'][0]['content'].encode('utf-8') + \"\\n\")\n",
    "\n",
    "print \"Now 100  %\"\n",
    "print post_links,\"\\n\"\n",
    "Dcard_list.close()"
   ]
  },
  {
   "cell_type": "code",
   "execution_count": null,
   "metadata": {
    "collapsed": true
   },
   "outputs": [],
   "source": []
  }
 ],
 "metadata": {
  "kernelspec": {
   "display_name": "Python 2",
   "language": "python",
   "name": "python2"
  },
  "language_info": {
   "codemirror_mode": {
    "name": "ipython",
    "version": 2
   },
   "file_extension": ".py",
   "mimetype": "text/x-python",
   "name": "python",
   "nbconvert_exporter": "python",
   "pygments_lexer": "ipython2",
   "version": "2.7.11"
  }
 },
 "nbformat": 4,
 "nbformat_minor": 0
}
