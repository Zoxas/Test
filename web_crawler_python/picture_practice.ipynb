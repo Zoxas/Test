{
 "cells": [
  {
   "cell_type": "code",
   "execution_count": 11,
   "metadata": {
    "collapsed": true
   },
   "outputs": [],
   "source": [
    "import requests\n",
    "from bs4 import BeautifulSoup\n",
    "import json\n",
    "import shutil"
   ]
  },
  {
   "cell_type": "code",
   "execution_count": 14,
   "metadata": {
    "collapsed": false
   },
   "outputs": [],
   "source": [
    "url = \"http://www.gamebase.com.tw/forum/64172/topic/96278769/1\"\n",
    "res = requests.get(url)\n",
    "soup =  BeautifulSoup(res.text,\"lxml\")\n",
    "for img in soup.select(\".img\"):\n",
    "    fname = img['src'].split('/')[-1]\n",
    "    res2 =  requests.get(img['src'],stream = True) \n",
    "    f = open(fname, 'wb')\n",
    "    shutil.copyfileobj(res2.raw,f) #可以把Buffer的檔案取出\n",
    "    f.close()\n",
    "    del res2 #刪除BUFFER內資料"
   ]
  },
  {
   "cell_type": "code",
   "execution_count": null,
   "metadata": {
    "collapsed": true
   },
   "outputs": [],
   "source": []
  }
 ],
 "metadata": {
  "kernelspec": {
   "display_name": "Python 2",
   "language": "python",
   "name": "python2"
  },
  "language_info": {
   "codemirror_mode": {
    "name": "ipython",
    "version": 2
   },
   "file_extension": ".py",
   "mimetype": "text/x-python",
   "name": "python",
   "nbconvert_exporter": "python",
   "pygments_lexer": "ipython2",
   "version": "2.7.11"
  }
 },
 "nbformat": 4,
 "nbformat_minor": 0
}
