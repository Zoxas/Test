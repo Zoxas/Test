{
 "cells": [
  {
   "cell_type": "code",
   "execution_count": 2,
   "metadata": {
    "collapsed": true
   },
   "outputs": [],
   "source": [
    "import requests\n",
    "from bs4 import BeautifulSoup\n",
    "import json"
   ]
  },
  {
   "cell_type": "code",
   "execution_count": 3,
   "metadata": {
    "collapsed": false
   },
   "outputs": [],
   "source": [
    "#以防萬一\n",
    "head2 = {\"referer\":\"https://www.dcard.tw/f/all\",\n",
    "    \"user-agent\":\"Mozilla/5.0 (Windows NT 6.3; WOW64) AppleWebKit/537.36 (KHTML, like Gecko) Chrome/47.0.2526.73 Safari/537.36\"}\n",
    "\n",
    "#想分析的網址\n",
    "url = \"https://www.dcard.tw/api/forum/all/1\"\n",
    "\n",
    "#送出GET請求\n",
    "res = requests.get(url,headers=head2)\n",
    "soup = BeautifulSoup(res.text,\"lxml\")    "
   ]
  },
  {
   "cell_type": "code",
   "execution_count": 10,
   "metadata": {
    "collapsed": false
   },
   "outputs": [
    {
     "name": "stdout",
     "output_type": "stream",
     "text": [
      "<html>\n",
      " <body>\n",
      "  <p>\n",
      "   [{\"id\":905257,\"forum_alias\":\"talk\",\"tags\":[],\"pinned\":false,\"report_reason\":\"false\",\"report_status\":true,\"updatedAt\":\"2015-12-22T18:21:28.451Z\",\"createdAt\":\"2015-12-22T18:21:28.451Z\",\"likeCount\":0,\"version\":[{\"title\":\"24號晚上平安夜派對 歡迎大家一起\",\"content\":\"[24號晚babe18]揪人\\n揪人喔，有包廂坐，有興趣的客倌快來，\\n不管是單身的人\\n死會的人\\n都歡迎，喝到飽~~無限暢飲\",\"createdAt\":\"2015-12-22T18:21:53.832Z\"}],\"member\":{\"gender\":\"M\",\"school\":\"文化大學\",\"department\":\"\"},\"comment\":0,\"like\":0,\"forum_name\":\"閒聊\"},{\"id\":905253,\"forum_alias\":\"photography\",\"tags\":[],\"pinned\":false,\"report_reason\":\"false\",\"report_status\":true,\"updatedAt\":\"2015-12-22T18:19:38.003Z\",\"createdAt\":\"2015-12-22T18:19:38.003Z\",\"likeCount\":1,\"version\":[{\"title\":\"#作品  狗\",\"content\":\"這是一隻有殘缺的狗，在農場過著很好的生活，但牠從來不會畏懼我們這群參訪農場的學生~~~\\n很熱情的歡迎我們😁😁😁\\n\\n\",\"createdAt\":\"2015-12-22T18:20:12.815Z\"}],\"member\":{\"gender\":\"F\",\"school\":\"實踐大學\",\"department\":\"休閒產業管理學系\"},\"comment\":0,\"like\":1,\"forum_name\":\"攝影\"},{\"id\":905252,\"forum_alias\":\"talk\",\"tags\":[],\"pinned\":false,\"report_reason\":\"false\",\"report_status\":true,\"updatedAt\":\"2015-12-22T18:21:59.896Z\",\"createdAt\":\"2015-12-22T18:19:24.847Z\",\"likeCount\":0,\"version\":[{\"title\":\"我覺得休學好快樂~\",\"content\":\"啊遠離討厭的科系，做自己喜歡做的事，在家打電動，規畫自己的生活好開心，\\n\\n但是之後還是要回去，等當兵當一下就好好開心哈哈\",\"createdAt\":\"2015-12-22T18:19:24.849Z\"}],\"member\":{\"gender\":\"M\",\"school\":\"實踐大學\",\"department\":\"\"},\"comment\":1,\"like\":0,\"forum_name\":\"閒聊\"},{\"id\":905251,\"forum_alias\":\"music\",\"tags\":[],\"pinned\":false,\"report_reason\":\"false\",\"report_status\":true,\"updatedAt\":\"2015-12-22T18:20:46.229Z\",\"createdAt\":\"2015-12-22T18:19:19.128Z\",\"likeCount\":1,\"version\":[{\"title\":\"[古風翻唱]緣生意轉 - 西府海棠\",\"content\":\"其實偶爾會來音樂版逛逛有沒有古風同好哈哈~~~（我是曲奇曲奇曲奇）\\n但是好像很少QAO\\n最近期末好忙好忙好忙ヽ(￣д￣;\",\"createdAt\":\"2015-12-22T18:19:19.130Z\"}],\"member\":{\"gender\":\"F\",\"school\":\"高雄第一科大\",\"department\":\"\"},\"comment\":1,\"like\":1,\"forum_name\":\"音樂\"},{\"id\":905249,\"forum_alias\":\"bg\",\"tags\":[],\"pinned\":false,\"report_reason\":\"false\",\"report_status\":true,\"updatedAt\":\"2015-12-22T18:19:04.249Z\",\"createdAt\":\"2015-12-22T18:19:04.249Z\",\"likeCount\":0,\"version\":[{\"title\":\"二軍三軍的倒追\",\"content\":\"我是大一的小小魯菜鳥\\n可是之前有交過一個（還沒很魯💩\\n從開學到現在也才3個月\\n就有系上的女生有點誇張的想要追我\\n\\n重點\",\"createdAt\":\"2015-12-22T18:19:04.251Z\"}],\"member\":{\"gender\":\"M\",\"school\":\"實踐大學\",\"department\":\"\"},\"comment\":0,\"like\":0,\"forum_name\":\"男女\"},{\"id\":905246,\"forum_alias\":\"literature\",\"tags\":[],\"pinned\":false,\"report_reason\":\"false\",\"report_status\":true,\"updatedAt\":\"2015-12-22T18:20:15.485Z\",\"createdAt\":\"2015-12-22T18:17:29.575Z\",\"likeCount\":0,\"version\":[{\"title\":\"某些進步青年們\",\"content\":\"我已為你們擬好講詞\\n都是你們常說的：\\n　\\n為了多數的幸福\\n犧牲少數也是應該的吧\\n為了社會\\n犧牲一點其實也沒什麼吧\\n你看他\",\"createdAt\":\"2015-12-22T18:17:29.585Z\"}],\"member\":{\"gender\":\"M\",\"school\":\"東華大學\",\"department\":\"華文所創作組\"},\"comment\":1,\"like\":0,\"forum_name\":\"詩文\"},{\"id\":905244,\"forum_alias\":\"literature\",\"tags\":[],\"pinned\":false,\"report_reason\":\"false\",\"report_status\":true,\"updatedAt\":\"2015-12-22T18:16:42.063Z\",\"createdAt\":\"2015-12-22T18:16:42.063Z\",\"likeCount\":1,\"version\":[{\"title\":\"長得以後才發現\",\"content\":\"我們都用堅強偽裝自己的悲傷\\n\\n用成熟保護自己的軟弱\\n用笑容粉飾淚水\\n原來 笑得最開心的人背後的淚水也最多\\n當大家笑著說我\",\"createdAt\":\"2015-12-22T18:16:42.065Z\"}],\"member\":{\"gender\":\"M\",\"school\":\"中原大學\",\"department\":\"電機工程學系\"},\"comment\":0,\"like\":1,\"forum_name\":\"詩文\"},{\"id\":905243,\"forum_alias\":\"mood\",\"tags\":[],\"pinned\":false,\"report_reason\":\"false\",\"report_status\":true,\"updatedAt\":\"2015-12-22T18:15:35.826Z\",\"createdAt\":\"2015-12-22T18:15:35.825Z\",\"likeCount\":3,\"version\":[{\"title\":\"關於今天的國防管院舞會\",\"content\":\"活動結束後，真的覺得今天的舞會有夠誇張\\n\\n主辦單位怎麼會準備的這麼完美啦😭😭😭😭\\n太感人了\\n\\n這是我人生中去的第\",\"createdAt\":\"2015-12-22T18:20:55.309Z\"}],\"member\":{\"gender\":\"F\",\"school\":\"匿名\",\"department\":\"\"},\"comment\":0,\"like\":3,\"forum_name\":\"心情\"},{\"id\":905239,\"forum_alias\":\"talk\",\"tags\":[],\"pinned\":false,\"report_reason\":\"false\",\"report_status\":true,\"updatedAt\":\"2015-12-22T18:17:30.668Z\",\"createdAt\":\"2015-12-22T18:13:09.634Z\",\"likeCount\":1,\"version\":[{\"title\":\"有人聽過這首歌嗎\",\"content\":\"http://youtu.be/_AuSy-GS_5A\\n\\n剛才玩鋼琴塊2聽到這首\\n歌曲的旋律瞬間從深層記憶裡浮上來\\n在我\",\"createdAt\":\"2015-12-22T18:13:09.638Z\"}],\"member\":{\"gender\":\"F\",\"school\":\"淡江大學\",\"department\":\"\"},\"comment\":1,\"like\":1,\"forum_name\":\"閒聊\"},{\"id\":905237,\"forum_alias\":\"bg\",\"tags\":[],\"pinned\":false,\"report_reason\":\"false\",\"report_status\":true,\"updatedAt\":\"2015-12-22T18:21:40.022Z\",\"createdAt\":\"2015-12-22T18:12:01.143Z\",\"likeCount\":4,\"version\":[{\"title\":\"我想問問題！！！\",\"content\":\"如果和一個喜歡的對象說\\n聖誕節可以當我一日男友嗎\\n\\n成功的機率有多少？\\n我不知道還需要提供些甚麼資訊比較好\",\"createdAt\":\"2015-12-22T18:17:37.962Z\"}],\"member\":{\"gender\":\"F\",\"school\":\"匿名\",\"department\":\"\"},\"comment\":3,\"like\":4,\"forum_name\":\"男女\"},{\"id\":905234,\"forum_alias\":\"food\",\"tags\":[],\"pinned\":false,\"report_reason\":\"false\",\"report_status\":true,\"updatedAt\":\"2015-12-22T18:16:26.319Z\",\"createdAt\":\"2015-12-22T18:09:37.702Z\",\"likeCount\":2,\"version\":[{\"title\":\"🎄聖誕節怒做甜甜😋\",\"content\":\"芝麻地瓜瑪德蓮\\nhttp://i.imgur.com/AKZVJwz.jpg\\n\\n自煮洛神果醬奶油餅乾\\nhttp://i.\",\"createdAt\":\"2015-12-22T18:09:37.708Z\"}],\"member\":{\"gender\":\"F\",\"school\":\"文化大學\",\"department\":\"\"},\"comment\":2,\"like\":2,\"forum_name\":\"美食\"},{\"id\":905231,\"forum_alias\":\"bg\",\"tags\":[],\"pinned\":false,\"report_reason\":\"false\",\"report_status\":true,\"updatedAt\":\"2015-12-22T18:11:17.004Z\",\"createdAt\":\"2015-12-22T18:08:58.733Z\",\"likeCount\":1,\"version\":[{\"title\":\"Do U Know？\",\"content\":\"你的一顰一笑 牽動著誰的心。。😊\",\"createdAt\":\"2015-12-22T18:08:58.738Z\"}],\"member\":{\"gender\":\"F\",\"school\":\"匿名\",\"department\":\"\"},\"comment\":1,\"like\":1,\"forum_name\":\"男女\"},{\"id\":905229,\"forum_alias\":\"horoscopes\",\"tags\":[],\"pinned\":false,\"report_reason\":\"false\",\"report_status\":true,\"updatedAt\":\"2015-12-22T18:19:12.101Z\",\"createdAt\":\"2015-12-22T18:08:00.209Z\",\"likeCount\":1,\"version\":[{\"title\":\"戳破秤男\",\"content\":\"板上好多人再討論秤男\\n我與秤男周旋了１年，其中包含痛苦的曖昧，短暫的交往，還有被甩\\n以下是我的經驗，分享給大家\\n\\n當妳與\",\"createdAt\":\"2015-12-22T18:08:00.223Z\"}],\"member\":{\"gender\":\"F\",\"school\":\"匿名\",\"department\":\"\"},\"comment\":2,\"like\":1,\"forum_name\":\"星座\"},{\"id\":905227,\"forum_alias\":\"horoscopes\",\"tags\":[],\"pinned\":false,\"report_reason\":\"false\",\"report_status\":true,\"updatedAt\":\"2015-12-22T18:11:37.837Z\",\"createdAt\":\"2015-12-22T18:07:46.299Z\",\"likeCount\":2,\"version\":[{\"title\":\"521是個神奇的日子\",\"content\":\"來找一下同伴\\n還記得第一次我以為我是金牛\\n後來看某個星座每週運勢又說我是雙子😮\\n然後呢？\\n當我跟金牛座的朋友說我的生日\",\"createdAt\":\"2015-12-22T18:07:46.304Z\"}],\"member\":{\"gender\":\"F\",\"school\":\"匿名\",\"department\":\"\"},\"comment\":1,\"like\":2,\"forum_name\":\"星座\"},{\"id\":905226,\"forum_alias\":\"photography\",\"tags\":[],\"pinned\":false,\"report_reason\":\"false\",\"report_status\":true,\"updatedAt\":\"2015-12-22T18:07:38.358Z\",\"createdAt\":\"2015-12-22T18:07:38.358Z\",\"likeCount\":1,\"version\":[{\"title\":\"#開箱，大人的科學組裝分享\",\"content\":\"收到朋友送的「大人的科學」，迫不及待就來組裝了！\\nhttp://i.imgur.com/ii4ubhs.jpg\\n\\n我很喜\",\"createdAt\":\"2015-12-22T18:19:01.331Z\"}],\"member\":{\"gender\":\"F\",\"school\":\"輔仁大學\",\"department\":\"\"},\"comment\":0,\"like\":1,\"forum_name\":\"攝影\"},{\"id\":905225,\"forum_alias\":\"bg\",\"tags\":[],\"pinned\":false,\"report_reason\":\"false\",\"report_status\":true,\"updatedAt\":\"2015-12-22T18:07:35.907Z\",\"createdAt\":\"2015-12-22T18:07:35.907Z\",\"likeCount\":3,\"version\":[{\"title\":\"Re: 再見，好朋友\",\"content\":\"我不知道這樣re好不好\\n我只是看了那篇的留言後非常想說出我的感受\\n\\n我在臉書看到這篇時只想說:“喔…跟我的情況好像喔”\\n\",\"createdAt\":\"2015-12-22T18:07:35.911Z\"}],\"member\":{\"gender\":\"F\",\"school\":\"匿名\",\"department\":\"\"},\"comment\":0,\"like\":3,\"forum_name\":\"男女\"},{\"id\":905224,\"forum_alias\":\"music\",\"tags\":[],\"pinned\":false,\"report_reason\":\"false\",\"report_status\":true,\"updatedAt\":\"2015-12-22T18:12:02.461Z\",\"createdAt\":\"2015-12-22T18:06:33.407Z\",\"likeCount\":6,\"version\":[{\"title\":\"一個人的聖誕歌單\",\"content\":\"聖誕節快到了\\n是時候，點開一個人的聖誕歌單\\n像聽故事似的，一首接著一首\\n一邊聽一邊潸然淚下\\n\\nJohn Eddie - \",\"createdAt\":\"2015-12-22T18:19:44.036Z\"}],\"member\":{\"gender\":\"M\",\"school\":\"淡江大學\",\"department\":\"\"},\"comment\":2,\"like\":6,\"forum_name\":\"音樂\"},{\"id\":905220,\"forum_alias\":\"bg\",\"tags\":[],\"pinned\":false,\"report_reason\":\"false\",\"report_status\":true,\"updatedAt\":\"2015-12-22T18:20:14.463Z\",\"createdAt\":\"2015-12-22T18:05:57.792Z\",\"likeCount\":11,\"version\":[{\"title\":\"分手後，我寧願不要做朋友\",\"content\":\"多希望我們能從那時變陌生人\\n也許哪天在路上相遇\\n若釋懷了\\n還能敘敘舊\\n即使單純擦肩\\n也是平靜地度過\\n\\n比現在好太多了\\n\\n\",\"createdAt\":\"2015-12-22T18:08:22.691Z\"}],\"member\":{\"gender\":\"F\",\"school\":\"匿名\",\"department\":\"\"},\"comment\":1,\"like\":11,\"forum_name\":\"男女\"},{\"id\":905214,\"forum_alias\":\"music\",\"tags\":[],\"pinned\":false,\"report_reason\":\"false\",\"report_status\":true,\"updatedAt\":\"2015-12-22T18:04:43.874Z\",\"createdAt\":\"2015-12-22T18:04:43.874Z\",\"likeCount\":2,\"version\":[{\"title\":\"因為wootalk認識的Ed Sheeran - Photograph\",\"content\":\"你是一個台灣人，國小就移民到美國了(他現在也大學了)\\n和你淺談到音樂，我才想到要美式文化薰陶的人推薦喜歡的歌\\n這首歌算平\",\"createdAt\":\"2015-12-22T18:04:43.878Z\"}],\"member\":{\"gender\":\"M\",\"school\":\"高雄第一科大\",\"department\":\"\"},\"comment\":0,\"like\":2,\"forum_name\":\"音樂\"},{\"id\":905213,\"forum_alias\":\"bg\",\"tags\":[],\"pinned\":false,\"report_reason\":\"false\",\"report_status\":true,\"updatedAt\":\"2015-12-22T18:04:11.900Z\",\"createdAt\":\"2015-12-22T18:04:11.900Z\",\"likeCount\":2,\"version\":[{\"title\":\"睡到一半驚醒\",\"content\":\"以為可以一覺到天亮，沒想到短短5小就被驚醒，醒來直覺就是你出事了，隨著腦袋逐漸甦醒，才想起來我們已經分手3個禮拜了，想轉\",\"createdAt\":\"2015-12-22T18:04:11.909Z\"}],\"member\":{\"gender\":\"M\",\"school\":\"中原大學\",\"department\":\"\"},\"comment\":0,\"like\":2,\"forum_name\":\"男女\"}]\n",
      "  </p>\n",
      " </body>\n",
      "</html>\n"
     ]
    }
   ],
   "source": [
    "#查看是否獲取正確\n",
    "print soup.prettify()"
   ]
  },
  {
   "cell_type": "code",
   "execution_count": 12,
   "metadata": {
    "collapsed": false
   },
   "outputs": [
    {
     "name": "stdout",
     "output_type": "stream",
     "text": [
      "[902774, 902755, 902749] \n",
      "\n"
     ]
    },
    {
     "ename": "ValueError",
     "evalue": "Unterminated string starting at: line 1 column 486 (char 485)",
     "output_type": "error",
     "traceback": [
      "\u001b[1;31m---------------------------------------------------------------------------\u001b[0m",
      "\u001b[1;31mValueError\u001b[0m                                Traceback (most recent call last)",
      "\u001b[1;32m<ipython-input-12-97234ade579c>\u001b[0m in \u001b[0;36m<module>\u001b[1;34m()\u001b[0m\n\u001b[0;32m     19\u001b[0m     \u001b[0mpost_req\u001b[0m \u001b[1;33m=\u001b[0m \u001b[0mrequests\u001b[0m\u001b[1;33m.\u001b[0m\u001b[0mget\u001b[0m\u001b[1;33m(\u001b[0m\u001b[0mpost_url\u001b[0m\u001b[1;33m,\u001b[0m\u001b[0mheaders\u001b[0m\u001b[1;33m=\u001b[0m\u001b[0mhead2\u001b[0m\u001b[1;33m)\u001b[0m\u001b[1;33m.\u001b[0m\u001b[0mtext\u001b[0m\u001b[1;33m\u001b[0m\u001b[0m\n\u001b[0;32m     20\u001b[0m     \u001b[0mpost_data\u001b[0m \u001b[1;33m=\u001b[0m \u001b[0mBeautifulSoup\u001b[0m\u001b[1;33m(\u001b[0m\u001b[0mpost_req\u001b[0m\u001b[1;33m,\u001b[0m \u001b[1;34m\"lxml\"\u001b[0m\u001b[1;33m)\u001b[0m\u001b[1;33m\u001b[0m\u001b[0m\n\u001b[1;32m---> 21\u001b[1;33m     \u001b[0mjson_post_data\u001b[0m \u001b[1;33m=\u001b[0m \u001b[0mjson\u001b[0m\u001b[1;33m.\u001b[0m\u001b[0mloads\u001b[0m\u001b[1;33m(\u001b[0m\u001b[0mpost_data\u001b[0m\u001b[1;33m.\u001b[0m\u001b[0mtext\u001b[0m\u001b[1;33m)\u001b[0m\u001b[1;33m\u001b[0m\u001b[0m\n\u001b[0m\u001b[0;32m     22\u001b[0m \u001b[1;33m\u001b[0m\u001b[0m\n\u001b[0;32m     23\u001b[0m     \u001b[0mcontent\u001b[0m \u001b[1;33m=\u001b[0m \u001b[0mjson_post_data\u001b[0m\u001b[1;33m[\u001b[0m\u001b[1;34m'version'\u001b[0m\u001b[1;33m]\u001b[0m\u001b[1;33m[\u001b[0m\u001b[1;36m0\u001b[0m\u001b[1;33m]\u001b[0m\u001b[1;33m[\u001b[0m\u001b[1;34m'content'\u001b[0m\u001b[1;33m]\u001b[0m\u001b[1;33m\u001b[0m\u001b[0m\n",
      "\u001b[1;32mC:\\Anaconda2\\lib\\json\\__init__.pyc\u001b[0m in \u001b[0;36mloads\u001b[1;34m(s, encoding, cls, object_hook, parse_float, parse_int, parse_constant, object_pairs_hook, **kw)\u001b[0m\n\u001b[0;32m    337\u001b[0m             \u001b[0mparse_int\u001b[0m \u001b[1;32mis\u001b[0m \u001b[0mNone\u001b[0m \u001b[1;32mand\u001b[0m \u001b[0mparse_float\u001b[0m \u001b[1;32mis\u001b[0m \u001b[0mNone\u001b[0m \u001b[1;32mand\u001b[0m\u001b[1;33m\u001b[0m\u001b[0m\n\u001b[0;32m    338\u001b[0m             parse_constant is None and object_pairs_hook is None and not kw):\n\u001b[1;32m--> 339\u001b[1;33m         \u001b[1;32mreturn\u001b[0m \u001b[0m_default_decoder\u001b[0m\u001b[1;33m.\u001b[0m\u001b[0mdecode\u001b[0m\u001b[1;33m(\u001b[0m\u001b[0ms\u001b[0m\u001b[1;33m)\u001b[0m\u001b[1;33m\u001b[0m\u001b[0m\n\u001b[0m\u001b[0;32m    340\u001b[0m     \u001b[1;32mif\u001b[0m \u001b[0mcls\u001b[0m \u001b[1;32mis\u001b[0m \u001b[0mNone\u001b[0m\u001b[1;33m:\u001b[0m\u001b[1;33m\u001b[0m\u001b[0m\n\u001b[0;32m    341\u001b[0m         \u001b[0mcls\u001b[0m \u001b[1;33m=\u001b[0m \u001b[0mJSONDecoder\u001b[0m\u001b[1;33m\u001b[0m\u001b[0m\n",
      "\u001b[1;32mC:\\Anaconda2\\lib\\json\\decoder.pyc\u001b[0m in \u001b[0;36mdecode\u001b[1;34m(self, s, _w)\u001b[0m\n\u001b[0;32m    362\u001b[0m \u001b[1;33m\u001b[0m\u001b[0m\n\u001b[0;32m    363\u001b[0m         \"\"\"\n\u001b[1;32m--> 364\u001b[1;33m         \u001b[0mobj\u001b[0m\u001b[1;33m,\u001b[0m \u001b[0mend\u001b[0m \u001b[1;33m=\u001b[0m \u001b[0mself\u001b[0m\u001b[1;33m.\u001b[0m\u001b[0mraw_decode\u001b[0m\u001b[1;33m(\u001b[0m\u001b[0ms\u001b[0m\u001b[1;33m,\u001b[0m \u001b[0midx\u001b[0m\u001b[1;33m=\u001b[0m\u001b[0m_w\u001b[0m\u001b[1;33m(\u001b[0m\u001b[0ms\u001b[0m\u001b[1;33m,\u001b[0m \u001b[1;36m0\u001b[0m\u001b[1;33m)\u001b[0m\u001b[1;33m.\u001b[0m\u001b[0mend\u001b[0m\u001b[1;33m(\u001b[0m\u001b[1;33m)\u001b[0m\u001b[1;33m)\u001b[0m\u001b[1;33m\u001b[0m\u001b[0m\n\u001b[0m\u001b[0;32m    365\u001b[0m         \u001b[0mend\u001b[0m \u001b[1;33m=\u001b[0m \u001b[0m_w\u001b[0m\u001b[1;33m(\u001b[0m\u001b[0ms\u001b[0m\u001b[1;33m,\u001b[0m \u001b[0mend\u001b[0m\u001b[1;33m)\u001b[0m\u001b[1;33m.\u001b[0m\u001b[0mend\u001b[0m\u001b[1;33m(\u001b[0m\u001b[1;33m)\u001b[0m\u001b[1;33m\u001b[0m\u001b[0m\n\u001b[0;32m    366\u001b[0m         \u001b[1;32mif\u001b[0m \u001b[0mend\u001b[0m \u001b[1;33m!=\u001b[0m \u001b[0mlen\u001b[0m\u001b[1;33m(\u001b[0m\u001b[0ms\u001b[0m\u001b[1;33m)\u001b[0m\u001b[1;33m:\u001b[0m\u001b[1;33m\u001b[0m\u001b[0m\n",
      "\u001b[1;32mC:\\Anaconda2\\lib\\json\\decoder.pyc\u001b[0m in \u001b[0;36mraw_decode\u001b[1;34m(self, s, idx)\u001b[0m\n\u001b[0;32m    378\u001b[0m         \"\"\"\n\u001b[0;32m    379\u001b[0m         \u001b[1;32mtry\u001b[0m\u001b[1;33m:\u001b[0m\u001b[1;33m\u001b[0m\u001b[0m\n\u001b[1;32m--> 380\u001b[1;33m             \u001b[0mobj\u001b[0m\u001b[1;33m,\u001b[0m \u001b[0mend\u001b[0m \u001b[1;33m=\u001b[0m \u001b[0mself\u001b[0m\u001b[1;33m.\u001b[0m\u001b[0mscan_once\u001b[0m\u001b[1;33m(\u001b[0m\u001b[0ms\u001b[0m\u001b[1;33m,\u001b[0m \u001b[0midx\u001b[0m\u001b[1;33m)\u001b[0m\u001b[1;33m\u001b[0m\u001b[0m\n\u001b[0m\u001b[0;32m    381\u001b[0m         \u001b[1;32mexcept\u001b[0m \u001b[0mStopIteration\u001b[0m\u001b[1;33m:\u001b[0m\u001b[1;33m\u001b[0m\u001b[0m\n\u001b[0;32m    382\u001b[0m             \u001b[1;32mraise\u001b[0m \u001b[0mValueError\u001b[0m\u001b[1;33m(\u001b[0m\u001b[1;34m\"No JSON object could be decoded\"\u001b[0m\u001b[1;33m)\u001b[0m\u001b[1;33m\u001b[0m\u001b[0m\n",
      "\u001b[1;31mValueError\u001b[0m: Unterminated string starting at: line 1 column 486 (char 485)"
     ]
    }
   ],
   "source": [
    "#print data\n",
    "#print data[0]['version'][0]['content']\n",
    "#data直接 print 會是 ASCII 要一直解到最內部 才會變成字串\n",
    "data = json.loads(soup.select(\"p\")[0].text)\n",
    "\n",
    "post_id = []\n",
    "post_links = []\n",
    "\n",
    "#把喜歡此文章讚數 > 5 的 ID都放進List\n",
    "for post in data:       \n",
    "    if int(post['likeCount']) >= 5:\n",
    "        post_links.append(post['id'])\n",
    "print post_links,\"\\n\"\n",
    "\n",
    "# 有ID -> 可以分析文章內容\n",
    "for post_id in post_links:\n",
    "    post_url =u'https://www.dcard.tw/api/post/all/' + str(post_links[0])\n",
    "        \n",
    "    post_req = requests.get(post_url,headers=head2).text\n",
    "    post_data = BeautifulSoup(post_req, \"lxml\")\n",
    "    json_post_data = json.loads(post_data.text)\n",
    "    \n",
    "    content = json_post_data['version'][0]['content']\n",
    "    print json_post_data['version'][0]['content']"
   ]
  },
  {
   "cell_type": "code",
   "execution_count": null,
   "metadata": {
    "collapsed": true
   },
   "outputs": [],
   "source": []
  }
 ],
 "metadata": {
  "kernelspec": {
   "display_name": "Python 2",
   "language": "python",
   "name": "python2"
  },
  "language_info": {
   "codemirror_mode": {
    "name": "ipython",
    "version": 2
   },
   "file_extension": ".py",
   "mimetype": "text/x-python",
   "name": "python",
   "nbconvert_exporter": "python",
   "pygments_lexer": "ipython2",
   "version": "2.7.11"
  }
 },
 "nbformat": 4,
 "nbformat_minor": 0
}
