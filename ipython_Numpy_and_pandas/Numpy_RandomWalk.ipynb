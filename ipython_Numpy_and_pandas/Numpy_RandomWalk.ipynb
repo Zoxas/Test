{
 "cells": [
  {
   "cell_type": "code",
   "execution_count": 1,
   "metadata": {
    "collapsed": false
   },
   "outputs": [],
   "source": [
    "import random\n",
    "import numpy as np\n",
    "import pylab as pl\n",
    "position = 0\n",
    "walk = [position]\n",
    "steps = 100"
   ]
  },
  {
   "cell_type": "code",
   "execution_count": 2,
   "metadata": {
    "collapsed": false
   },
   "outputs": [
    {
     "name": "stdout",
     "output_type": "stream",
     "text": [
      "Using matplotlib backend: Qt4Agg\n"
     ]
    }
   ],
   "source": [
    "\"\"\"\n",
    "1. range 是全部產生完後，return一個 list 回來使用。\n",
    "2. xrange 是一次產生一個值，並return一個值回來，所以xrange只適用於loop -> 效能比較好。\n",
    "\"\"\"\n",
    "x = [0]\n",
    "for i in xrange(steps):\n",
    "    step = 1 if random.randint(0, 1) else -1 #從 0 開始，步長1 和 -1 出現的概率相等\n",
    "    position += step\n",
    "    walk.append(position)\n",
    "    x.append(i+1)\n",
    "\n",
    "%matplotlib"
   ]
  },
  {
   "cell_type": "code",
   "execution_count": 4,
   "metadata": {
    "collapsed": false
   },
   "outputs": [
    {
     "data": {
      "text/plain": [
       "[<matplotlib.lines.Line2D at 0xa194a58>]"
      ]
     },
     "execution_count": 4,
     "metadata": {},
     "output_type": "execute_result"
    }
   ],
   "source": [
    "pl.plot(x, walk)\n",
    "# 隨機漫步的折線圖"
   ]
  },
  {
   "cell_type": "code",
   "execution_count": 7,
   "metadata": {
    "collapsed": false
   },
   "outputs": [],
   "source": [
    "# 隨機產生丟硬幣1000次的結果\n",
    "nsteps = 1000\n",
    "draws = np.random.randint(0 , 2 , size=nsteps) #numpy.random.randint(low, high=None, size=None, dtype='l')\n",
    "steps = np.where(draws > 0, 1, -1)"
   ]
  },
  {
   "cell_type": "code",
   "execution_count": 10,
   "metadata": {
    "collapsed": false
   },
   "outputs": [],
   "source": [
    "walk = steps.cumsum() # 根據丟硬幣結果 隨機漫步"
   ]
  },
  {
   "cell_type": "code",
   "execution_count": 12,
   "metadata": {
    "collapsed": false
   },
   "outputs": [
    {
     "data": {
      "text/plain": [
       "163"
      ]
     },
     "execution_count": 12,
     "metadata": {},
     "output_type": "execute_result"
    }
   ],
   "source": [
    "# 判斷過多久 才可以超出原點 10步\n",
    "(np.abs(walk) >= 10).argmax() #argmax()返回的是第一個最大值的索引(True就是最大值)  , argmax並不是很高效"
   ]
  },
  {
   "cell_type": "code",
   "execution_count": 21,
   "metadata": {
    "collapsed": false
   },
   "outputs": [],
   "source": [
    "'''\n",
    "模擬醉漢隨機漫步\n",
    "假設醉漢每一步的距離是1或2，方向也完全隨機，360度不確定，然後模擬醉漢的行走路徑.\n",
    "'''\n",
    "N = 500 # 500步\n",
    "step = np.random.randint(1,3,N)  # move 1 or 2 units of distance each step \n",
    "theta = np.radians(np.random.randint(0,361,N)) # ex: np.radians(90) = 0.5 * pi = 1.57\n",
    "x = np.cumsum(step*np.cos(theta)) \n",
    "y = np.cumsum(step*np.sin(theta)) \n",
    "pl.plot(x, y);"
   ]
  },
  {
   "cell_type": "code",
   "execution_count": 27,
   "metadata": {
    "collapsed": false
   },
   "outputs": [],
   "source": [
    "'''\n",
    "迷宮隨機漫步 只能往上或往右\n",
    "'''\n",
    "N = 100\n",
    "step = np.random.randint(0,2,N)\n",
    "x , y = [0],[0]\n",
    "\n",
    "for i in xrange(N):\n",
    "    x.append(step[i]) #step[i] =1 x就往左 \n",
    "    y.append(abs(1-step[i]))\n",
    "\n",
    "    nx = np.cumsum(x)\n",
    "ny = np.cumsum(y)\n",
    "pl.plot(nx, ny);"
   ]
  },
  {
   "cell_type": "code",
   "execution_count": null,
   "metadata": {
    "collapsed": true
   },
   "outputs": [],
   "source": []
  }
 ],
 "metadata": {
  "kernelspec": {
   "display_name": "Python 2",
   "language": "python",
   "name": "python2"
  },
  "language_info": {
   "codemirror_mode": {
    "name": "ipython",
    "version": 2
   },
   "file_extension": ".py",
   "mimetype": "text/x-python",
   "name": "python",
   "nbconvert_exporter": "python",
   "pygments_lexer": "ipython2",
   "version": "2.7.11"
  }
 },
 "nbformat": 4,
 "nbformat_minor": 0
}
