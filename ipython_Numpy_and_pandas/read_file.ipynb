{
 "cells": [
  {
   "cell_type": "code",
   "execution_count": 1,
   "metadata": {
    "collapsed": true
   },
   "outputs": [],
   "source": [
    "#-*- coding:utf-8 -*-\n",
    "import pandas as pd\n",
    "from pandas import *\n",
    "\n",
    "import sys\n",
    "reload(sys)\n",
    "sys.setdefaultencoding('utf-8') #允許處理中文路徑"
   ]
  },
  {
   "cell_type": "code",
   "execution_count": 2,
   "metadata": {
    "collapsed": false
   },
   "outputs": [],
   "source": [
    "!type C:\\Users\\zzz20255\\BarryBonds.csv\n"
   ]
  },
  {
   "cell_type": "code",
   "execution_count": 3,
   "metadata": {
    "collapsed": false
   },
   "outputs": [],
   "source": [
    "df = pd.read_csv(\"C:\\Users\\zzz20255\\BarryBonds.csv\")"
   ]
  },
  {
   "cell_type": "code",
   "execution_count": 4,
   "metadata": {
    "collapsed": false
   },
   "outputs": [
    {
     "data": {
      "text/html": [
       "<div>\n",
       "<table border=\"1\" class=\"dataframe\">\n",
       "  <thead>\n",
       "    <tr style=\"text-align: right;\">\n",
       "      <th></th>\n",
       "      <th>Year</th>\n",
       "      <th>G</th>\n",
       "      <th>AB</th>\n",
       "      <th>R</th>\n",
       "      <th>H</th>\n",
       "      <th>2B</th>\n",
       "      <th>3B</th>\n",
       "      <th>HR</th>\n",
       "      <th>RBI</th>\n",
       "      <th>BB</th>\n",
       "      <th>SO</th>\n",
       "      <th>BA</th>\n",
       "      <th>IBB</th>\n",
       "    </tr>\n",
       "  </thead>\n",
       "  <tbody>\n",
       "    <tr>\n",
       "      <th>0</th>\n",
       "      <td>1986</td>\n",
       "      <td>113</td>\n",
       "      <td>413</td>\n",
       "      <td>72</td>\n",
       "      <td>92</td>\n",
       "      <td>26</td>\n",
       "      <td>3</td>\n",
       "      <td>16</td>\n",
       "      <td>48</td>\n",
       "      <td>65</td>\n",
       "      <td>102</td>\n",
       "      <td>0.223</td>\n",
       "      <td>2</td>\n",
       "    </tr>\n",
       "    <tr>\n",
       "      <th>1</th>\n",
       "      <td>1987</td>\n",
       "      <td>150</td>\n",
       "      <td>551</td>\n",
       "      <td>99</td>\n",
       "      <td>144</td>\n",
       "      <td>34</td>\n",
       "      <td>9</td>\n",
       "      <td>25</td>\n",
       "      <td>59</td>\n",
       "      <td>54</td>\n",
       "      <td>88</td>\n",
       "      <td>0.261</td>\n",
       "      <td>3</td>\n",
       "    </tr>\n",
       "    <tr>\n",
       "      <th>2</th>\n",
       "      <td>1988</td>\n",
       "      <td>144</td>\n",
       "      <td>538</td>\n",
       "      <td>97</td>\n",
       "      <td>152</td>\n",
       "      <td>30</td>\n",
       "      <td>5</td>\n",
       "      <td>24</td>\n",
       "      <td>58</td>\n",
       "      <td>72</td>\n",
       "      <td>82</td>\n",
       "      <td>0.283</td>\n",
       "      <td>14</td>\n",
       "    </tr>\n",
       "    <tr>\n",
       "      <th>3</th>\n",
       "      <td>1989</td>\n",
       "      <td>159</td>\n",
       "      <td>580</td>\n",
       "      <td>96</td>\n",
       "      <td>144</td>\n",
       "      <td>34</td>\n",
       "      <td>6</td>\n",
       "      <td>19</td>\n",
       "      <td>58</td>\n",
       "      <td>93</td>\n",
       "      <td>93</td>\n",
       "      <td>0.248</td>\n",
       "      <td>22</td>\n",
       "    </tr>\n",
       "    <tr>\n",
       "      <th>4</th>\n",
       "      <td>1990</td>\n",
       "      <td>151</td>\n",
       "      <td>519</td>\n",
       "      <td>104</td>\n",
       "      <td>156</td>\n",
       "      <td>32</td>\n",
       "      <td>3</td>\n",
       "      <td>33</td>\n",
       "      <td>114</td>\n",
       "      <td>93</td>\n",
       "      <td>83</td>\n",
       "      <td>0.301</td>\n",
       "      <td>15</td>\n",
       "    </tr>\n",
       "    <tr>\n",
       "      <th>5</th>\n",
       "      <td>1991</td>\n",
       "      <td>153</td>\n",
       "      <td>510</td>\n",
       "      <td>95</td>\n",
       "      <td>149</td>\n",
       "      <td>28</td>\n",
       "      <td>5</td>\n",
       "      <td>25</td>\n",
       "      <td>116</td>\n",
       "      <td>107</td>\n",
       "      <td>73</td>\n",
       "      <td>0.292</td>\n",
       "      <td>25</td>\n",
       "    </tr>\n",
       "    <tr>\n",
       "      <th>6</th>\n",
       "      <td>1992</td>\n",
       "      <td>140</td>\n",
       "      <td>473</td>\n",
       "      <td>109</td>\n",
       "      <td>147</td>\n",
       "      <td>36</td>\n",
       "      <td>5</td>\n",
       "      <td>34</td>\n",
       "      <td>103</td>\n",
       "      <td>127</td>\n",
       "      <td>69</td>\n",
       "      <td>0.311</td>\n",
       "      <td>32</td>\n",
       "    </tr>\n",
       "    <tr>\n",
       "      <th>7</th>\n",
       "      <td>1993</td>\n",
       "      <td>159</td>\n",
       "      <td>539</td>\n",
       "      <td>129</td>\n",
       "      <td>181</td>\n",
       "      <td>38</td>\n",
       "      <td>4</td>\n",
       "      <td>46</td>\n",
       "      <td>123</td>\n",
       "      <td>126</td>\n",
       "      <td>79</td>\n",
       "      <td>0.336</td>\n",
       "      <td>43</td>\n",
       "    </tr>\n",
       "    <tr>\n",
       "      <th>8</th>\n",
       "      <td>1994</td>\n",
       "      <td>112</td>\n",
       "      <td>391</td>\n",
       "      <td>89</td>\n",
       "      <td>122</td>\n",
       "      <td>18</td>\n",
       "      <td>1</td>\n",
       "      <td>37</td>\n",
       "      <td>81</td>\n",
       "      <td>74</td>\n",
       "      <td>43</td>\n",
       "      <td>0.312</td>\n",
       "      <td>18</td>\n",
       "    </tr>\n",
       "    <tr>\n",
       "      <th>9</th>\n",
       "      <td>1995</td>\n",
       "      <td>144</td>\n",
       "      <td>506</td>\n",
       "      <td>109</td>\n",
       "      <td>149</td>\n",
       "      <td>30</td>\n",
       "      <td>7</td>\n",
       "      <td>33</td>\n",
       "      <td>104</td>\n",
       "      <td>120</td>\n",
       "      <td>83</td>\n",
       "      <td>0.294</td>\n",
       "      <td>22</td>\n",
       "    </tr>\n",
       "    <tr>\n",
       "      <th>10</th>\n",
       "      <td>1996</td>\n",
       "      <td>158</td>\n",
       "      <td>517</td>\n",
       "      <td>122</td>\n",
       "      <td>159</td>\n",
       "      <td>27</td>\n",
       "      <td>3</td>\n",
       "      <td>42</td>\n",
       "      <td>129</td>\n",
       "      <td>151</td>\n",
       "      <td>76</td>\n",
       "      <td>0.308</td>\n",
       "      <td>30</td>\n",
       "    </tr>\n",
       "    <tr>\n",
       "      <th>11</th>\n",
       "      <td>1997</td>\n",
       "      <td>159</td>\n",
       "      <td>532</td>\n",
       "      <td>123</td>\n",
       "      <td>155</td>\n",
       "      <td>26</td>\n",
       "      <td>5</td>\n",
       "      <td>40</td>\n",
       "      <td>101</td>\n",
       "      <td>145</td>\n",
       "      <td>87</td>\n",
       "      <td>0.291</td>\n",
       "      <td>34</td>\n",
       "    </tr>\n",
       "    <tr>\n",
       "      <th>12</th>\n",
       "      <td>1998</td>\n",
       "      <td>156</td>\n",
       "      <td>552</td>\n",
       "      <td>120</td>\n",
       "      <td>167</td>\n",
       "      <td>44</td>\n",
       "      <td>7</td>\n",
       "      <td>37</td>\n",
       "      <td>122</td>\n",
       "      <td>130</td>\n",
       "      <td>92</td>\n",
       "      <td>0.303</td>\n",
       "      <td>29</td>\n",
       "    </tr>\n",
       "    <tr>\n",
       "      <th>13</th>\n",
       "      <td>1999</td>\n",
       "      <td>102</td>\n",
       "      <td>355</td>\n",
       "      <td>91</td>\n",
       "      <td>93</td>\n",
       "      <td>20</td>\n",
       "      <td>2</td>\n",
       "      <td>34</td>\n",
       "      <td>83</td>\n",
       "      <td>73</td>\n",
       "      <td>62</td>\n",
       "      <td>0.262</td>\n",
       "      <td>9</td>\n",
       "    </tr>\n",
       "    <tr>\n",
       "      <th>14</th>\n",
       "      <td>2000</td>\n",
       "      <td>143</td>\n",
       "      <td>480</td>\n",
       "      <td>129</td>\n",
       "      <td>147</td>\n",
       "      <td>28</td>\n",
       "      <td>4</td>\n",
       "      <td>49</td>\n",
       "      <td>106</td>\n",
       "      <td>117</td>\n",
       "      <td>77</td>\n",
       "      <td>0.306</td>\n",
       "      <td>22</td>\n",
       "    </tr>\n",
       "    <tr>\n",
       "      <th>15</th>\n",
       "      <td>2001</td>\n",
       "      <td>153</td>\n",
       "      <td>476</td>\n",
       "      <td>129</td>\n",
       "      <td>156</td>\n",
       "      <td>32</td>\n",
       "      <td>2</td>\n",
       "      <td>73</td>\n",
       "      <td>137</td>\n",
       "      <td>177</td>\n",
       "      <td>93</td>\n",
       "      <td>0.328</td>\n",
       "      <td>35</td>\n",
       "    </tr>\n",
       "    <tr>\n",
       "      <th>16</th>\n",
       "      <td>2002</td>\n",
       "      <td>143</td>\n",
       "      <td>403</td>\n",
       "      <td>117</td>\n",
       "      <td>149</td>\n",
       "      <td>31</td>\n",
       "      <td>2</td>\n",
       "      <td>46</td>\n",
       "      <td>110</td>\n",
       "      <td>198</td>\n",
       "      <td>47</td>\n",
       "      <td>0.370</td>\n",
       "      <td>68</td>\n",
       "    </tr>\n",
       "    <tr>\n",
       "      <th>17</th>\n",
       "      <td>2003</td>\n",
       "      <td>130</td>\n",
       "      <td>390</td>\n",
       "      <td>111</td>\n",
       "      <td>133</td>\n",
       "      <td>22</td>\n",
       "      <td>1</td>\n",
       "      <td>45</td>\n",
       "      <td>90</td>\n",
       "      <td>148</td>\n",
       "      <td>58</td>\n",
       "      <td>0.341</td>\n",
       "      <td>61</td>\n",
       "    </tr>\n",
       "    <tr>\n",
       "      <th>18</th>\n",
       "      <td>2004</td>\n",
       "      <td>147</td>\n",
       "      <td>373</td>\n",
       "      <td>129</td>\n",
       "      <td>135</td>\n",
       "      <td>27</td>\n",
       "      <td>3</td>\n",
       "      <td>45</td>\n",
       "      <td>101</td>\n",
       "      <td>232</td>\n",
       "      <td>41</td>\n",
       "      <td>0.362</td>\n",
       "      <td>120</td>\n",
       "    </tr>\n",
       "    <tr>\n",
       "      <th>19</th>\n",
       "      <td>2005</td>\n",
       "      <td>14</td>\n",
       "      <td>42</td>\n",
       "      <td>8</td>\n",
       "      <td>12</td>\n",
       "      <td>1</td>\n",
       "      <td>0</td>\n",
       "      <td>5</td>\n",
       "      <td>10</td>\n",
       "      <td>9</td>\n",
       "      <td>6</td>\n",
       "      <td>0.286</td>\n",
       "      <td>3</td>\n",
       "    </tr>\n",
       "    <tr>\n",
       "      <th>20</th>\n",
       "      <td>2006</td>\n",
       "      <td>130</td>\n",
       "      <td>367</td>\n",
       "      <td>74</td>\n",
       "      <td>99</td>\n",
       "      <td>23</td>\n",
       "      <td>0</td>\n",
       "      <td>26</td>\n",
       "      <td>77</td>\n",
       "      <td>115</td>\n",
       "      <td>51</td>\n",
       "      <td>0.270</td>\n",
       "      <td>38</td>\n",
       "    </tr>\n",
       "    <tr>\n",
       "      <th>21</th>\n",
       "      <td>2007</td>\n",
       "      <td>126</td>\n",
       "      <td>340</td>\n",
       "      <td>75</td>\n",
       "      <td>94</td>\n",
       "      <td>14</td>\n",
       "      <td>0</td>\n",
       "      <td>28</td>\n",
       "      <td>66</td>\n",
       "      <td>132</td>\n",
       "      <td>54</td>\n",
       "      <td>0.276</td>\n",
       "      <td>43</td>\n",
       "    </tr>\n",
       "  </tbody>\n",
       "</table>\n",
       "</div>"
      ],
      "text/plain": [
       "    Year    G   AB    R    H  2B  3B  HR  RBI   BB   SO     BA  IBB\n",
       "0   1986  113  413   72   92  26   3  16   48   65  102  0.223    2\n",
       "1   1987  150  551   99  144  34   9  25   59   54   88  0.261    3\n",
       "2   1988  144  538   97  152  30   5  24   58   72   82  0.283   14\n",
       "3   1989  159  580   96  144  34   6  19   58   93   93  0.248   22\n",
       "4   1990  151  519  104  156  32   3  33  114   93   83  0.301   15\n",
       "5   1991  153  510   95  149  28   5  25  116  107   73  0.292   25\n",
       "6   1992  140  473  109  147  36   5  34  103  127   69  0.311   32\n",
       "7   1993  159  539  129  181  38   4  46  123  126   79  0.336   43\n",
       "8   1994  112  391   89  122  18   1  37   81   74   43  0.312   18\n",
       "9   1995  144  506  109  149  30   7  33  104  120   83  0.294   22\n",
       "10  1996  158  517  122  159  27   3  42  129  151   76  0.308   30\n",
       "11  1997  159  532  123  155  26   5  40  101  145   87  0.291   34\n",
       "12  1998  156  552  120  167  44   7  37  122  130   92  0.303   29\n",
       "13  1999  102  355   91   93  20   2  34   83   73   62  0.262    9\n",
       "14  2000  143  480  129  147  28   4  49  106  117   77  0.306   22\n",
       "15  2001  153  476  129  156  32   2  73  137  177   93  0.328   35\n",
       "16  2002  143  403  117  149  31   2  46  110  198   47  0.370   68\n",
       "17  2003  130  390  111  133  22   1  45   90  148   58  0.341   61\n",
       "18  2004  147  373  129  135  27   3  45  101  232   41  0.362  120\n",
       "19  2005   14   42    8   12   1   0   5   10    9    6  0.286    3\n",
       "20  2006  130  367   74   99  23   0  26   77  115   51  0.270   38\n",
       "21  2007  126  340   75   94  14   0  28   66  132   54  0.276   43"
      ]
     },
     "execution_count": 4,
     "metadata": {},
     "output_type": "execute_result"
    }
   ],
   "source": [
    "df"
   ]
  },
  {
   "cell_type": "code",
   "execution_count": 5,
   "metadata": {
    "collapsed": true
   },
   "outputs": [],
   "source": [
    "df = pd.read_table(\"C:\\Users\\zzz20255\\BarryBonds.csv\" , sep = \",\")"
   ]
  },
  {
   "cell_type": "code",
   "execution_count": 6,
   "metadata": {
    "collapsed": false
   },
   "outputs": [
    {
     "data": {
      "text/html": [
       "<div>\n",
       "<table border=\"1\" class=\"dataframe\">\n",
       "  <thead>\n",
       "    <tr style=\"text-align: right;\">\n",
       "      <th></th>\n",
       "      <th>Year</th>\n",
       "      <th>G</th>\n",
       "      <th>AB</th>\n",
       "      <th>R</th>\n",
       "      <th>H</th>\n",
       "      <th>2B</th>\n",
       "      <th>3B</th>\n",
       "      <th>HR</th>\n",
       "      <th>RBI</th>\n",
       "      <th>BB</th>\n",
       "      <th>SO</th>\n",
       "      <th>BA</th>\n",
       "      <th>IBB</th>\n",
       "    </tr>\n",
       "  </thead>\n",
       "  <tbody>\n",
       "    <tr>\n",
       "      <th>0</th>\n",
       "      <td>1986</td>\n",
       "      <td>113</td>\n",
       "      <td>413</td>\n",
       "      <td>72</td>\n",
       "      <td>92</td>\n",
       "      <td>26</td>\n",
       "      <td>3</td>\n",
       "      <td>16</td>\n",
       "      <td>48</td>\n",
       "      <td>65</td>\n",
       "      <td>102</td>\n",
       "      <td>0.223</td>\n",
       "      <td>2</td>\n",
       "    </tr>\n",
       "    <tr>\n",
       "      <th>1</th>\n",
       "      <td>1987</td>\n",
       "      <td>150</td>\n",
       "      <td>551</td>\n",
       "      <td>99</td>\n",
       "      <td>144</td>\n",
       "      <td>34</td>\n",
       "      <td>9</td>\n",
       "      <td>25</td>\n",
       "      <td>59</td>\n",
       "      <td>54</td>\n",
       "      <td>88</td>\n",
       "      <td>0.261</td>\n",
       "      <td>3</td>\n",
       "    </tr>\n",
       "    <tr>\n",
       "      <th>2</th>\n",
       "      <td>1988</td>\n",
       "      <td>144</td>\n",
       "      <td>538</td>\n",
       "      <td>97</td>\n",
       "      <td>152</td>\n",
       "      <td>30</td>\n",
       "      <td>5</td>\n",
       "      <td>24</td>\n",
       "      <td>58</td>\n",
       "      <td>72</td>\n",
       "      <td>82</td>\n",
       "      <td>0.283</td>\n",
       "      <td>14</td>\n",
       "    </tr>\n",
       "    <tr>\n",
       "      <th>3</th>\n",
       "      <td>1989</td>\n",
       "      <td>159</td>\n",
       "      <td>580</td>\n",
       "      <td>96</td>\n",
       "      <td>144</td>\n",
       "      <td>34</td>\n",
       "      <td>6</td>\n",
       "      <td>19</td>\n",
       "      <td>58</td>\n",
       "      <td>93</td>\n",
       "      <td>93</td>\n",
       "      <td>0.248</td>\n",
       "      <td>22</td>\n",
       "    </tr>\n",
       "    <tr>\n",
       "      <th>4</th>\n",
       "      <td>1990</td>\n",
       "      <td>151</td>\n",
       "      <td>519</td>\n",
       "      <td>104</td>\n",
       "      <td>156</td>\n",
       "      <td>32</td>\n",
       "      <td>3</td>\n",
       "      <td>33</td>\n",
       "      <td>114</td>\n",
       "      <td>93</td>\n",
       "      <td>83</td>\n",
       "      <td>0.301</td>\n",
       "      <td>15</td>\n",
       "    </tr>\n",
       "    <tr>\n",
       "      <th>5</th>\n",
       "      <td>1991</td>\n",
       "      <td>153</td>\n",
       "      <td>510</td>\n",
       "      <td>95</td>\n",
       "      <td>149</td>\n",
       "      <td>28</td>\n",
       "      <td>5</td>\n",
       "      <td>25</td>\n",
       "      <td>116</td>\n",
       "      <td>107</td>\n",
       "      <td>73</td>\n",
       "      <td>0.292</td>\n",
       "      <td>25</td>\n",
       "    </tr>\n",
       "    <tr>\n",
       "      <th>6</th>\n",
       "      <td>1992</td>\n",
       "      <td>140</td>\n",
       "      <td>473</td>\n",
       "      <td>109</td>\n",
       "      <td>147</td>\n",
       "      <td>36</td>\n",
       "      <td>5</td>\n",
       "      <td>34</td>\n",
       "      <td>103</td>\n",
       "      <td>127</td>\n",
       "      <td>69</td>\n",
       "      <td>0.311</td>\n",
       "      <td>32</td>\n",
       "    </tr>\n",
       "    <tr>\n",
       "      <th>7</th>\n",
       "      <td>1993</td>\n",
       "      <td>159</td>\n",
       "      <td>539</td>\n",
       "      <td>129</td>\n",
       "      <td>181</td>\n",
       "      <td>38</td>\n",
       "      <td>4</td>\n",
       "      <td>46</td>\n",
       "      <td>123</td>\n",
       "      <td>126</td>\n",
       "      <td>79</td>\n",
       "      <td>0.336</td>\n",
       "      <td>43</td>\n",
       "    </tr>\n",
       "    <tr>\n",
       "      <th>8</th>\n",
       "      <td>1994</td>\n",
       "      <td>112</td>\n",
       "      <td>391</td>\n",
       "      <td>89</td>\n",
       "      <td>122</td>\n",
       "      <td>18</td>\n",
       "      <td>1</td>\n",
       "      <td>37</td>\n",
       "      <td>81</td>\n",
       "      <td>74</td>\n",
       "      <td>43</td>\n",
       "      <td>0.312</td>\n",
       "      <td>18</td>\n",
       "    </tr>\n",
       "    <tr>\n",
       "      <th>9</th>\n",
       "      <td>1995</td>\n",
       "      <td>144</td>\n",
       "      <td>506</td>\n",
       "      <td>109</td>\n",
       "      <td>149</td>\n",
       "      <td>30</td>\n",
       "      <td>7</td>\n",
       "      <td>33</td>\n",
       "      <td>104</td>\n",
       "      <td>120</td>\n",
       "      <td>83</td>\n",
       "      <td>0.294</td>\n",
       "      <td>22</td>\n",
       "    </tr>\n",
       "    <tr>\n",
       "      <th>10</th>\n",
       "      <td>1996</td>\n",
       "      <td>158</td>\n",
       "      <td>517</td>\n",
       "      <td>122</td>\n",
       "      <td>159</td>\n",
       "      <td>27</td>\n",
       "      <td>3</td>\n",
       "      <td>42</td>\n",
       "      <td>129</td>\n",
       "      <td>151</td>\n",
       "      <td>76</td>\n",
       "      <td>0.308</td>\n",
       "      <td>30</td>\n",
       "    </tr>\n",
       "    <tr>\n",
       "      <th>11</th>\n",
       "      <td>1997</td>\n",
       "      <td>159</td>\n",
       "      <td>532</td>\n",
       "      <td>123</td>\n",
       "      <td>155</td>\n",
       "      <td>26</td>\n",
       "      <td>5</td>\n",
       "      <td>40</td>\n",
       "      <td>101</td>\n",
       "      <td>145</td>\n",
       "      <td>87</td>\n",
       "      <td>0.291</td>\n",
       "      <td>34</td>\n",
       "    </tr>\n",
       "    <tr>\n",
       "      <th>12</th>\n",
       "      <td>1998</td>\n",
       "      <td>156</td>\n",
       "      <td>552</td>\n",
       "      <td>120</td>\n",
       "      <td>167</td>\n",
       "      <td>44</td>\n",
       "      <td>7</td>\n",
       "      <td>37</td>\n",
       "      <td>122</td>\n",
       "      <td>130</td>\n",
       "      <td>92</td>\n",
       "      <td>0.303</td>\n",
       "      <td>29</td>\n",
       "    </tr>\n",
       "    <tr>\n",
       "      <th>13</th>\n",
       "      <td>1999</td>\n",
       "      <td>102</td>\n",
       "      <td>355</td>\n",
       "      <td>91</td>\n",
       "      <td>93</td>\n",
       "      <td>20</td>\n",
       "      <td>2</td>\n",
       "      <td>34</td>\n",
       "      <td>83</td>\n",
       "      <td>73</td>\n",
       "      <td>62</td>\n",
       "      <td>0.262</td>\n",
       "      <td>9</td>\n",
       "    </tr>\n",
       "    <tr>\n",
       "      <th>14</th>\n",
       "      <td>2000</td>\n",
       "      <td>143</td>\n",
       "      <td>480</td>\n",
       "      <td>129</td>\n",
       "      <td>147</td>\n",
       "      <td>28</td>\n",
       "      <td>4</td>\n",
       "      <td>49</td>\n",
       "      <td>106</td>\n",
       "      <td>117</td>\n",
       "      <td>77</td>\n",
       "      <td>0.306</td>\n",
       "      <td>22</td>\n",
       "    </tr>\n",
       "    <tr>\n",
       "      <th>15</th>\n",
       "      <td>2001</td>\n",
       "      <td>153</td>\n",
       "      <td>476</td>\n",
       "      <td>129</td>\n",
       "      <td>156</td>\n",
       "      <td>32</td>\n",
       "      <td>2</td>\n",
       "      <td>73</td>\n",
       "      <td>137</td>\n",
       "      <td>177</td>\n",
       "      <td>93</td>\n",
       "      <td>0.328</td>\n",
       "      <td>35</td>\n",
       "    </tr>\n",
       "    <tr>\n",
       "      <th>16</th>\n",
       "      <td>2002</td>\n",
       "      <td>143</td>\n",
       "      <td>403</td>\n",
       "      <td>117</td>\n",
       "      <td>149</td>\n",
       "      <td>31</td>\n",
       "      <td>2</td>\n",
       "      <td>46</td>\n",
       "      <td>110</td>\n",
       "      <td>198</td>\n",
       "      <td>47</td>\n",
       "      <td>0.370</td>\n",
       "      <td>68</td>\n",
       "    </tr>\n",
       "    <tr>\n",
       "      <th>17</th>\n",
       "      <td>2003</td>\n",
       "      <td>130</td>\n",
       "      <td>390</td>\n",
       "      <td>111</td>\n",
       "      <td>133</td>\n",
       "      <td>22</td>\n",
       "      <td>1</td>\n",
       "      <td>45</td>\n",
       "      <td>90</td>\n",
       "      <td>148</td>\n",
       "      <td>58</td>\n",
       "      <td>0.341</td>\n",
       "      <td>61</td>\n",
       "    </tr>\n",
       "    <tr>\n",
       "      <th>18</th>\n",
       "      <td>2004</td>\n",
       "      <td>147</td>\n",
       "      <td>373</td>\n",
       "      <td>129</td>\n",
       "      <td>135</td>\n",
       "      <td>27</td>\n",
       "      <td>3</td>\n",
       "      <td>45</td>\n",
       "      <td>101</td>\n",
       "      <td>232</td>\n",
       "      <td>41</td>\n",
       "      <td>0.362</td>\n",
       "      <td>120</td>\n",
       "    </tr>\n",
       "    <tr>\n",
       "      <th>19</th>\n",
       "      <td>2005</td>\n",
       "      <td>14</td>\n",
       "      <td>42</td>\n",
       "      <td>8</td>\n",
       "      <td>12</td>\n",
       "      <td>1</td>\n",
       "      <td>0</td>\n",
       "      <td>5</td>\n",
       "      <td>10</td>\n",
       "      <td>9</td>\n",
       "      <td>6</td>\n",
       "      <td>0.286</td>\n",
       "      <td>3</td>\n",
       "    </tr>\n",
       "    <tr>\n",
       "      <th>20</th>\n",
       "      <td>2006</td>\n",
       "      <td>130</td>\n",
       "      <td>367</td>\n",
       "      <td>74</td>\n",
       "      <td>99</td>\n",
       "      <td>23</td>\n",
       "      <td>0</td>\n",
       "      <td>26</td>\n",
       "      <td>77</td>\n",
       "      <td>115</td>\n",
       "      <td>51</td>\n",
       "      <td>0.270</td>\n",
       "      <td>38</td>\n",
       "    </tr>\n",
       "    <tr>\n",
       "      <th>21</th>\n",
       "      <td>2007</td>\n",
       "      <td>126</td>\n",
       "      <td>340</td>\n",
       "      <td>75</td>\n",
       "      <td>94</td>\n",
       "      <td>14</td>\n",
       "      <td>0</td>\n",
       "      <td>28</td>\n",
       "      <td>66</td>\n",
       "      <td>132</td>\n",
       "      <td>54</td>\n",
       "      <td>0.276</td>\n",
       "      <td>43</td>\n",
       "    </tr>\n",
       "  </tbody>\n",
       "</table>\n",
       "</div>"
      ],
      "text/plain": [
       "    Year    G   AB    R    H  2B  3B  HR  RBI   BB   SO     BA  IBB\n",
       "0   1986  113  413   72   92  26   3  16   48   65  102  0.223    2\n",
       "1   1987  150  551   99  144  34   9  25   59   54   88  0.261    3\n",
       "2   1988  144  538   97  152  30   5  24   58   72   82  0.283   14\n",
       "3   1989  159  580   96  144  34   6  19   58   93   93  0.248   22\n",
       "4   1990  151  519  104  156  32   3  33  114   93   83  0.301   15\n",
       "5   1991  153  510   95  149  28   5  25  116  107   73  0.292   25\n",
       "6   1992  140  473  109  147  36   5  34  103  127   69  0.311   32\n",
       "7   1993  159  539  129  181  38   4  46  123  126   79  0.336   43\n",
       "8   1994  112  391   89  122  18   1  37   81   74   43  0.312   18\n",
       "9   1995  144  506  109  149  30   7  33  104  120   83  0.294   22\n",
       "10  1996  158  517  122  159  27   3  42  129  151   76  0.308   30\n",
       "11  1997  159  532  123  155  26   5  40  101  145   87  0.291   34\n",
       "12  1998  156  552  120  167  44   7  37  122  130   92  0.303   29\n",
       "13  1999  102  355   91   93  20   2  34   83   73   62  0.262    9\n",
       "14  2000  143  480  129  147  28   4  49  106  117   77  0.306   22\n",
       "15  2001  153  476  129  156  32   2  73  137  177   93  0.328   35\n",
       "16  2002  143  403  117  149  31   2  46  110  198   47  0.370   68\n",
       "17  2003  130  390  111  133  22   1  45   90  148   58  0.341   61\n",
       "18  2004  147  373  129  135  27   3  45  101  232   41  0.362  120\n",
       "19  2005   14   42    8   12   1   0   5   10    9    6  0.286    3\n",
       "20  2006  130  367   74   99  23   0  26   77  115   51  0.270   38\n",
       "21  2007  126  340   75   94  14   0  28   66  132   54  0.276   43"
      ]
     },
     "execution_count": 6,
     "metadata": {},
     "output_type": "execute_result"
    }
   ],
   "source": [
    "df"
   ]
  },
  {
   "cell_type": "code",
   "execution_count": 9,
   "metadata": {
    "collapsed": false
   },
   "outputs": [
    {
     "data": {
      "text/plain": [
       "['                     A                 B                C\\n',\n",
       " 'aaa -0.264438 -1.026059 -0.619500\\n',\n",
       " 'bbb 0.927272 0.302904 -0.032399\\n',\n",
       " 'CCC -0.264273 -0.386314 -0.217601\\n',\n",
       " 'ddd -0.871858 -0.348382 1.100491']"
      ]
     },
     "execution_count": 9,
     "metadata": {},
     "output_type": "execute_result"
    }
   ],
   "source": [
    "df = pd.read_table(\"C:\\Users\\zzz20255\\example.txt\" , sep='\\s+')\n",
    "\n",
    "list(open('C:\\Users\\zzz20255\\example.txt'))"
   ]
  },
  {
   "cell_type": "code",
   "execution_count": 8,
   "metadata": {
    "collapsed": false
   },
   "outputs": [
    {
     "data": {
      "text/html": [
       "<div>\n",
       "<table border=\"1\" class=\"dataframe\">\n",
       "  <thead>\n",
       "    <tr style=\"text-align: right;\">\n",
       "      <th></th>\n",
       "      <th>A</th>\n",
       "      <th>B</th>\n",
       "      <th>C</th>\n",
       "    </tr>\n",
       "  </thead>\n",
       "  <tbody>\n",
       "    <tr>\n",
       "      <th>aaa</th>\n",
       "      <td>-0.264438</td>\n",
       "      <td>-1.026059</td>\n",
       "      <td>-0.619500</td>\n",
       "    </tr>\n",
       "    <tr>\n",
       "      <th>bbb</th>\n",
       "      <td>0.927272</td>\n",
       "      <td>0.302904</td>\n",
       "      <td>-0.032399</td>\n",
       "    </tr>\n",
       "    <tr>\n",
       "      <th>CCC</th>\n",
       "      <td>-0.264273</td>\n",
       "      <td>-0.386314</td>\n",
       "      <td>-0.217601</td>\n",
       "    </tr>\n",
       "    <tr>\n",
       "      <th>ddd</th>\n",
       "      <td>-0.871858</td>\n",
       "      <td>-0.348382</td>\n",
       "      <td>1.100491</td>\n",
       "    </tr>\n",
       "  </tbody>\n",
       "</table>\n",
       "</div>"
      ],
      "text/plain": [
       "            A         B         C\n",
       "aaa -0.264438 -1.026059 -0.619500\n",
       "bbb  0.927272  0.302904 -0.032399\n",
       "CCC -0.264273 -0.386314 -0.217601\n",
       "ddd -0.871858 -0.348382  1.100491"
      ]
     },
     "execution_count": 8,
     "metadata": {},
     "output_type": "execute_result"
    }
   ],
   "source": [
    "df # columns 只有3個 所以最左邊自動被判定為 index"
   ]
  },
  {
   "cell_type": "code",
   "execution_count": 4,
   "metadata": {
    "collapsed": true
   },
   "outputs": [],
   "source": [
    "import json\n",
    "obj = \"\"\"\n",
    "{\"name\" : \"Wes\",\n",
    "\"p1aces_lived\" : [\"United 5tates\" , \"Spain\" , \"Germany\"],\n",
    "\"pet\" : null ,\n",
    "\"siblings\": [{ \"name\" : \"Scott\", \"age\": 25, \"pet\" : \"Zuko\"},\n",
    "                {\"name\" : \"Katie\", \"age\" : 33, \"pet\" : \"Cisco\" }]\n",
    "}\n",
    "\"\"\""
   ]
  },
  {
   "cell_type": "code",
   "execution_count": 5,
   "metadata": {
    "collapsed": false
   },
   "outputs": [],
   "source": [
    "# 把 JSON 字符串 轉成 PYTHON 格式\n",
    "result = json.loads(obj)"
   ]
  },
  {
   "cell_type": "code",
   "execution_count": 6,
   "metadata": {
    "collapsed": false
   },
   "outputs": [
    {
     "data": {
      "text/plain": [
       "{u'name': u'Wes',\n",
       " u'p1aces_lived': [u'United 5tates', u'Spain', u'Germany'],\n",
       " u'pet': None,\n",
       " u'siblings': [{u'age': 25, u'name': u'Scott', u'pet': u'Zuko'},\n",
       "  {u'age': 33, u'name': u'Katie', u'pet': u'Cisco'}]}"
      ]
     },
     "execution_count": 6,
     "metadata": {},
     "output_type": "execute_result"
    }
   ],
   "source": [
    "result"
   ]
  },
  {
   "cell_type": "code",
   "execution_count": 7,
   "metadata": {
    "collapsed": true
   },
   "outputs": [],
   "source": [
    "# 把 PYTHON 對象 轉成 JSON 格式\n",
    "asjson = json.dumps(result)"
   ]
  },
  {
   "cell_type": "code",
   "execution_count": 8,
   "metadata": {
    "collapsed": false
   },
   "outputs": [
    {
     "data": {
      "text/plain": [
       "'{\"pet\": null, \"siblings\": [{\"pet\": \"Zuko\", \"age\": 25, \"name\": \"Scott\"}, {\"pet\": \"Cisco\", \"age\": 33, \"name\": \"Katie\"}], \"p1aces_lived\": [\"United 5tates\", \"Spain\", \"Germany\"], \"name\": \"Wes\"}'"
      ]
     },
     "execution_count": 8,
     "metadata": {},
     "output_type": "execute_result"
    }
   ],
   "source": [
    "asjson"
   ]
  },
  {
   "cell_type": "code",
   "execution_count": 14,
   "metadata": {
    "collapsed": false
   },
   "outputs": [
    {
     "data": {
      "text/html": [
       "<div>\n",
       "<table border=\"1\" class=\"dataframe\">\n",
       "  <thead>\n",
       "    <tr style=\"text-align: right;\">\n",
       "      <th></th>\n",
       "      <th>name</th>\n",
       "      <th>age</th>\n",
       "    </tr>\n",
       "  </thead>\n",
       "  <tbody>\n",
       "    <tr>\n",
       "      <th>0</th>\n",
       "      <td>Scott</td>\n",
       "      <td>25</td>\n",
       "    </tr>\n",
       "    <tr>\n",
       "      <th>1</th>\n",
       "      <td>Katie</td>\n",
       "      <td>33</td>\n",
       "    </tr>\n",
       "  </tbody>\n",
       "</table>\n",
       "</div>"
      ],
      "text/plain": [
       "    name  age\n",
       "0  Scott   25\n",
       "1  Katie   33"
      ]
     },
     "execution_count": 14,
     "metadata": {},
     "output_type": "execute_result"
    }
   ],
   "source": [
    "# 用 Json 構造 DataFrame\n",
    "siblings = DataFrame(result['siblings'],columns =['name','age'])\n",
    "siblings"
   ]
  },
  {
   "cell_type": "code",
   "execution_count": 15,
   "metadata": {
    "collapsed": true
   },
   "outputs": [],
   "source": [
    "# Web 信息收集\n",
    "from lxml.html import parse\n",
    "from urllib2 import urlopen\n"
   ]
  },
  {
   "cell_type": "code",
   "execution_count": 19,
   "metadata": {
    "collapsed": false
   },
   "outputs": [
    {
     "data": {
      "text/plain": [
       "<lxml.etree._ElementTree at 0xb54d708>"
      ]
     },
     "execution_count": 19,
     "metadata": {},
     "output_type": "execute_result"
    }
   ],
   "source": [
    "parsed = parse(urlopen('http://finance.yahoo.com/q/op?s=AAPL+Options'))\n",
    "parsed"
   ]
  },
  {
   "cell_type": "code",
   "execution_count": 21,
   "metadata": {
    "collapsed": false
   },
   "outputs": [
    {
     "data": {
      "text/plain": [
       "<Element html at 0xb544e08>"
      ]
     },
     "execution_count": 21,
     "metadata": {},
     "output_type": "execute_result"
    }
   ],
   "source": [
    "doc = parsed.getroot()\n",
    "doc"
   ]
  },
  {
   "cell_type": "code",
   "execution_count": 23,
   "metadata": {
    "collapsed": false
   },
   "outputs": [
    {
     "data": {
      "text/plain": [
       "[<Element a at 0xb496638>,\n",
       " <Element a at 0xb496688>,\n",
       " <Element a at 0xb4966d8>,\n",
       " <Element a at 0xb496728>,\n",
       " <Element a at 0xb496778>]"
      ]
     },
     "execution_count": 23,
     "metadata": {},
     "output_type": "execute_result"
    }
   ],
   "source": [
    "links = doc.findall('.//a')\n",
    "links[15:20]"
   ]
  },
  {
   "cell_type": "code",
   "execution_count": 29,
   "metadata": {
    "collapsed": false
   },
   "outputs": [
    {
     "data": {
      "text/plain": [
       "<Element a at 0xb496a48>"
      ]
     },
     "execution_count": 29,
     "metadata": {},
     "output_type": "execute_result"
    }
   ],
   "source": [
    "# HTML元素對象 -> 解析  針對 url 用 get方法  針對 文本 用 text_content\n",
    "lnk = links[28]\n",
    "lnk"
   ]
  },
  {
   "cell_type": "code",
   "execution_count": 30,
   "metadata": {
    "collapsed": false
   },
   "outputs": [
    {
     "data": {
      "text/plain": [
       "'http://finance.yahoo.com/blogs/author/rick-newman/'"
      ]
     },
     "execution_count": 30,
     "metadata": {},
     "output_type": "execute_result"
    }
   ],
   "source": [
    "lnk.get('href')"
   ]
  },
  {
   "cell_type": "code",
   "execution_count": 31,
   "metadata": {
    "collapsed": false
   },
   "outputs": [
    {
     "data": {
      "text/plain": [
       "'Rick Newman'"
      ]
     },
     "execution_count": 31,
     "metadata": {},
     "output_type": "execute_result"
    }
   ],
   "source": [
    "lnk.text_content()"
   ]
  },
  {
   "cell_type": "code",
   "execution_count": 32,
   "metadata": {
    "collapsed": true
   },
   "outputs": [],
   "source": [
    "#獲得文檔中所有的 url\n",
    "urls = [lnk.get('href') for lnk in doc.findall('.//a')]"
   ]
  },
  {
   "cell_type": "code",
   "execution_count": 33,
   "metadata": {
    "collapsed": false
   },
   "outputs": [
    {
     "data": {
      "text/plain": [
       "['/quote/AAPL/key-statistics',\n",
       " 'http://help.yahoo.com/kb/index?page=content&y=PROD_FIN&locale=en-US&id=SLN2310&pir=Zm7qO7BibUkC.4dK5GxJ95B3DCru2iA5odBNM0pj',\n",
       " 'http://help.yahoo.com/l/us/yahoo/finance/',\n",
       " 'https://yahoo.uservoice.com/forums/382977',\n",
       " 'http://info.yahoo.com/privacy/us/yahoo/',\n",
       " 'http://info.yahoo.com/relevantads/',\n",
       " 'http://info.yahoo.com/legal/us/yahoo/utos/utos-173.html',\n",
       " 'http://twitter.com/YahooFinance',\n",
       " 'http://facebook.com/yahoofinance',\n",
       " 'http://yahoofinance.tumblr.com']"
      ]
     },
     "execution_count": 33,
     "metadata": {},
     "output_type": "execute_result"
    }
   ],
   "source": [
    "urls[-10:]"
   ]
  },
  {
   "cell_type": "code",
   "execution_count": 40,
   "metadata": {
    "collapsed": false
   },
   "outputs": [
    {
     "data": {
      "text/plain": [
       "<Element table at 0xb49ad18>"
      ]
     },
     "execution_count": 40,
     "metadata": {},
     "output_type": "execute_result"
    }
   ],
   "source": [
    "#放置數據的表格\n",
    "tables = doc.findall('.//table')\n",
    "calls = tables[2]\n",
    "puts = tables[1]\n",
    "calls #puts 都是 HTML元素對象"
   ]
  },
  {
   "cell_type": "code",
   "execution_count": 44,
   "metadata": {
    "collapsed": false
   },
   "outputs": [
    {
     "data": {
      "text/plain": [
       "[<Element tr at 0xb4b02c8>,\n",
       " <Element tr at 0xb4b0368>,\n",
       " <Element tr at 0xb4b03b8>,\n",
       " <Element tr at 0xb4b0408>]"
      ]
     },
     "execution_count": 44,
     "metadata": {},
     "output_type": "execute_result"
    }
   ],
   "source": [
    "rows = calls.findall('.//tr')\n",
    "rows"
   ]
  },
  {
   "cell_type": "code",
   "execution_count": 46,
   "metadata": {
    "collapsed": false
   },
   "outputs": [],
   "source": [
    "def _unpack(row, kind='td'):\n",
    "    elts = row.findall('.//%s' % kind)\n",
    "    return [val.text_content() for val in elts ]"
   ]
  },
  {
   "cell_type": "code",
   "execution_count": 50,
   "metadata": {
    "collapsed": false
   },
   "outputs": [
    {
     "data": {
      "text/plain": [
       "[\"Day's Range\", '98.50 - 99.30']"
      ]
     },
     "execution_count": 50,
     "metadata": {},
     "output_type": "execute_result"
    }
   ],
   "source": [
    "_unpack(rows[1])"
   ]
  },
  {
   "cell_type": "code",
   "execution_count": 51,
   "metadata": {
    "collapsed": true
   },
   "outputs": [],
   "source": [
    "from pandas.io.parsers import TextParser"
   ]
  },
  {
   "cell_type": "code",
   "execution_count": 64,
   "metadata": {
    "collapsed": true
   },
   "outputs": [],
   "source": [
    "# 需要修正\n",
    "def parse_options_data(table):\n",
    "    rows = table.findall ('.//tr')\n",
    "    header = _unpack(rows[0] , kind='th')\n",
    "    data = [_unpack(r) for r in rows[1:]]\n",
    "    return TextParser(data, names=header).get_chunk()"
   ]
  },
  {
   "cell_type": "code",
   "execution_count": 65,
   "metadata": {
    "collapsed": true
   },
   "outputs": [],
   "source": [
    "call_data = parse_options_data(calls)"
   ]
  },
  {
   "cell_type": "code",
   "execution_count": 66,
   "metadata": {
    "collapsed": true
   },
   "outputs": [],
   "source": [
    "put_data = parse_options_data(puts)"
   ]
  },
  {
   "cell_type": "code",
   "execution_count": 67,
   "metadata": {
    "collapsed": false
   },
   "outputs": [
    {
     "data": {
      "text/html": [
       "<div>\n",
       "<table border=\"1\" class=\"dataframe\">\n",
       "  <thead>\n",
       "    <tr style=\"text-align: right;\">\n",
       "      <th></th>\n",
       "      <th>0</th>\n",
       "      <th>1</th>\n",
       "    </tr>\n",
       "  </thead>\n",
       "  <tbody>\n",
       "    <tr>\n",
       "      <th>0</th>\n",
       "      <td>Day's Range</td>\n",
       "      <td>98.50 - 99.30</td>\n",
       "    </tr>\n",
       "    <tr>\n",
       "      <th>1</th>\n",
       "      <td>Volume</td>\n",
       "      <td>27,845,498</td>\n",
       "    </tr>\n",
       "    <tr>\n",
       "      <th>2</th>\n",
       "      <td>Avg Vol (3m)</td>\n",
       "      <td>39,666,214</td>\n",
       "    </tr>\n",
       "  </tbody>\n",
       "</table>\n",
       "</div>"
      ],
      "text/plain": [
       "              0              1\n",
       "0   Day's Range  98.50 - 99.30\n",
       "1        Volume     27,845,498\n",
       "2  Avg Vol (3m)     39,666,214"
      ]
     },
     "execution_count": 67,
     "metadata": {},
     "output_type": "execute_result"
    }
   ],
   "source": [
    "call_data"
   ]
  },
  {
   "cell_type": "code",
   "execution_count": null,
   "metadata": {
    "collapsed": true
   },
   "outputs": [],
   "source": []
  }
 ],
 "metadata": {
  "kernelspec": {
   "display_name": "Python 2",
   "language": "python",
   "name": "python2"
  },
  "language_info": {
   "codemirror_mode": {
    "name": "ipython",
    "version": 2
   },
   "file_extension": ".py",
   "mimetype": "text/x-python",
   "name": "python",
   "nbconvert_exporter": "python",
   "pygments_lexer": "ipython2",
   "version": "2.7.11"
  }
 },
 "nbformat": 4,
 "nbformat_minor": 0
}
