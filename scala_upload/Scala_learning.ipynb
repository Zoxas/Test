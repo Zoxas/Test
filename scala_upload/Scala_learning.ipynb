{
 "cells": [
  {
   "cell_type": "markdown",
   "metadata": {},
   "source": [
    "### 需要先設置SPARK_HOME \n",
    "Initialization of the spark context\n",
    "Note that we can set things like driver memory etc.\n",
    "If launcher._spark_home is not set it will default to looking at the SPARK_HOME environment variable."
   ]
  },
  {
   "cell_type": "code",
   "execution_count": 1,
   "metadata": {
    "collapsed": true
   },
   "outputs": [],
   "source": [
    "%%init_spark\n",
    "launcher.num_executors = 1\n",
    "launcher.executor_cores = 1\n",
    "launcher.driver_memory = '2g'"
   ]
  },
  {
   "cell_type": "markdown",
   "metadata": {},
   "source": [
    "### 如果想在Spark運行時中使用其他jar，使用launcher.jars和/或launcher.packages設置，後者使用 Maven \"GAV\" coordinates：\n",
    "\n",
    "* launcher.jars = [\"/some/local/path/to/a/file.jar\"]\n",
    "* launcher.packages = [\"com.acme:super:1.0.1\"]"
   ]
  },
  {
   "cell_type": "code",
   "execution_count": 2,
   "metadata": {},
   "outputs": [
    {
     "data": {
      "text/plain": [
       "Intitializing Scala interpreter ..."
      ]
     },
     "metadata": {},
     "output_type": "display_data"
    },
    {
     "data": {
      "text/plain": [
       "Spark Web UI available at http://Zoxas:4040\n",
       "SparkContext available as 'sc' (version = 2.4.0, master = local[*], app id = local-1544278180613)\n",
       "SparkSession available as 'spark'\n"
      ]
     },
     "metadata": {},
     "output_type": "display_data"
    },
    {
     "data": {
      "text/plain": [
       "res0: org.apache.spark.sql.SparkSession = org.apache.spark.sql.SparkSession@45b9b29d\n"
      ]
     },
     "execution_count": 2,
     "metadata": {},
     "output_type": "execute_result"
    }
   ],
   "source": [
    "spark"
   ]
  },
  {
   "cell_type": "code",
   "execution_count": 3,
   "metadata": {},
   "outputs": [
    {
     "data": {
      "text/plain": [
       "res1: String = 2.4.0\n"
      ]
     },
     "execution_count": 3,
     "metadata": {},
     "output_type": "execute_result"
    }
   ],
   "source": [
    "spark.version"
   ]
  },
  {
   "cell_type": "markdown",
   "metadata": {},
   "source": [
    "### scala 基本補充說明\n",
    "\n",
    "* Scala 類似Java 支持單行和多行註釋 // /**/\n",
    "* 類Any是Scala類層次結構的根，是一個抽像類。Scala中的每個類都直接或間接從這個類繼承。AnyVal和 AnyRef擴展任何類型。\n",
    "* Scala 使用import 關鍵字引用 import java.awt._ --> 引用全部成員\n",
    "  1. 在要導入package後使用\"{}\",指定要導入的成員，並使用\"=>\"重命名;如果在一個package下要導入多個成員，則使用逗號分隔.\n",
    "  2. Scala能導入object class的成員，也能導入運行時對象實例的成員\n",
    "  3. import 可以位於表達式的能放的任意位置  \n",
    "    \n",
    "   \n",
    "---  \n",
    "* 整型字面量用於Int 類型，如果表示Long，可以在數字後面添加 L 或者小寫l 作為後綴\n",
    "* 如果浮點數後面有f或者F後綴時，表示這是一個Float類型，否則就是一個Double類型的(D 或 d)\n",
    "* Unit\t表示無值，和其他語言中void等同。用作不返回任何結果的方法的結果類型。Unit只有一個實例值，寫成()。\n",
    "  "
   ]
  },
  {
   "cell_type": "markdown",
   "metadata": {},
   "source": [
    "### scala 變量宣告\n",
    "\n",
    "* var VariableName : DataType [=  Initial Value]\n",
    "* val VariableName : DataType [=  Initial Value]"
   ]
  },
  {
   "cell_type": "code",
   "execution_count": 4,
   "metadata": {},
   "outputs": [
    {
     "name": "stdout",
     "output_type": "stream",
     "text": [
      "100[Ljava.lang.String;@69c34c65\n"
     ]
    },
    {
     "data": {
      "text/plain": [
       "x: Int = 10\r\n",
       "array: Array[String] = Array(Hello, null, null, null, null)\n"
      ]
     },
     "execution_count": 4,
     "metadata": {},
     "output_type": "execute_result"
    }
   ],
   "source": [
    "// 不可變 變量關鍵字用 val 聲明 -> 且需要初始化\n",
    "val x = 10\n",
    "print(x*x)\n",
    "\n",
    "// array用 val宣告  element本身還是可變\n",
    "val array : Array[String] = new Array(5) \n",
    "      // array = new Array(2) -> 會出錯 \n",
    "      array(0) = \"Hello\"  \n",
    "     println( array ) "
   ]
  },
  {
   "cell_type": "code",
   "execution_count": 5,
   "metadata": {},
   "outputs": [
    {
     "name": "stdout",
     "output_type": "stream",
     "text": [
      "Dean Wampler\n",
      "29\n",
      "30\n"
     ]
    },
    {
     "data": {
      "text/plain": [
       "defined class Person\r\n",
       "p: Person = Person@3fa0313d\r\n",
       "p.age: Int = 30\n"
      ]
     },
     "execution_count": 5,
     "metadata": {},
     "output_type": "execute_result"
    }
   ],
   "source": [
    "//var 是可變變量\n",
    "class Person(val name: String, var age: Int) \n",
    "\n",
    "val p = new Person( \"Dean Wampler\" , 29) \n",
    "println(p.name) \n",
    "println(p. age ) \n",
    "p.age = 30 \n",
    "println(p.age ) "
   ]
  },
  {
   "cell_type": "markdown",
   "metadata": {},
   "source": [
    "### scala code block { }"
   ]
  },
  {
   "cell_type": "code",
   "execution_count": 6,
   "metadata": {},
   "outputs": [
    {
     "data": {
      "text/plain": [
       "x3: String = Tue Nov 20 23:29:56 CST 2018\n"
      ]
     },
     "execution_count": 6,
     "metadata": {},
     "output_type": "execute_result"
    }
   ],
   "source": [
    "// 結果是在{ }計算的最後一行\n",
    "// 變量定義也可以用{ }\n",
    "\n",
    "val x3:String= {\n",
    "    val d = new java.util.Date()\n",
    "    d.toString()\n",
    "}"
   ]
  },
  {
   "cell_type": "markdown",
   "metadata": {},
   "source": [
    "### scala 格式化字符串\n",
    "* 單引號表示：char字符 || 雙引號表示：string字符\n",
    "* Scala提供了三種創新的字符串插值方法"
   ]
  },
  {
   "cell_type": "code",
   "execution_count": 7,
   "metadata": {},
   "outputs": [
    {
     "name": "stdout",
     "output_type": "stream",
     "text": [
      "Hello,James\n",
      "1+1=2\n"
     ]
    },
    {
     "data": {
      "text/plain": [
       "name: String = James\n"
      ]
     },
     "execution_count": 7,
     "metadata": {},
     "output_type": "execute_result"
    }
   ],
   "source": [
    "//s字符串插值 -> 在任何字符串前加上S，就可以直接在字符串中使用變量了\n",
    "val name=\"James\"\n",
    "println(s\"Hello,$name\")\n",
    "\n",
    "println(s\"1+1=${1+1}\") //任何表達式都可以嵌入到${}中"
   ]
  },
  {
   "cell_type": "code",
   "execution_count": 8,
   "metadata": {},
   "outputs": [
    {
     "name": "stdout",
     "output_type": "stream",
     "text": [
      "James is 1.90 meters tall\n"
     ]
    },
    {
     "data": {
      "text/plain": [
       "height: Double = 1.9\r\n",
       "name: String = James\n"
      ]
     },
     "execution_count": 8,
     "metadata": {},
     "output_type": "execute_result"
    }
   ],
   "source": [
    "//f插值 -> 格式化字串\n",
    "val height=1.9d\n",
    "val name=\"James\"\n",
    "println(f\"$name%s is $height%2.2f meters tall\")"
   ]
  },
  {
   "cell_type": "code",
   "execution_count": 9,
   "metadata": {},
   "outputs": [
    {
     "data": {
      "text/plain": [
       "s: String = a\\nb\n"
      ]
     },
     "execution_count": 9,
     "metadata": {},
     "output_type": "execute_result"
    }
   ],
   "source": [
    "//raw插值 -> 不做編碼\n",
    "var s = raw\"a\\nb\""
   ]
  },
  {
   "cell_type": "code",
   "execution_count": 10,
   "metadata": {},
   "outputs": [
    {
     "data": {
      "text/plain": [
       "hello: (name: String)String\r\n",
       "res6: String =\r\n",
       "\"Welcome!\r\n",
       "       Hello, Roy!\r\n",
       "       *(Star!!)\r\n",
       "Hi.\r\n",
       "whitespace. \"\n"
      ]
     },
     "execution_count": 10,
     "metadata": {},
     "output_type": "execute_result"
    }
   ],
   "source": [
    "//在code中使用多行字符串時，要使用String.stripMargin縮進子字符串以進行正確的代碼格式化\n",
    "//它刪除子字符串中的所有空格，直到並包括垂直條|的第一次出現\n",
    "def hello(name: String) = s\"\"\"Welcome!\n",
    "       Hello, $name! \n",
    "       *(Star!!) \n",
    "       |Hi. \n",
    "       |whitespace. \"\"\".stripMargin  \n",
    "\n",
    "hello(\"Roy\")"
   ]
  },
  {
   "cell_type": "markdown",
   "metadata": {},
   "source": [
    "### scala symbol 類型\n",
    "* 由 單引號'，後跟一個或多個數字，字母或下劃線（“_”）\n",
    "* 下面接著介紹Symbol類型的兩個特點。\n",
    "  1. **節省 memory**  \n",
    "    在Scala中，Symbol類型的對像是被拘禁的(interned)，任意的同名symbols都指向同一個Symbol對象，避免了因冗餘而造成的開銷。  \n",
    "    而對於String類型，只有編譯時確定的字符串是被拘禁的(interned)。    \n",
    "  2. **快速比較**  \n",
    "    任意的同名symbols都指向同一個Symbol對象，而不同名的symbols一定指向不同的Symbol對象，所以symbols對象之間可以使用操作符==快速地進行相等性比較  \n",
    "      \n",
    "      \n",
    "* Symbol類型一般用於快速比較，例如用於Map類型：  \n",
    "    Map< Symbol, Data>,根據一個Symbol對象，可以快速查詢相應的Data,   \n",
    "    Map< String, Data>的查詢效率則低很多。  "
   ]
  },
  {
   "cell_type": "code",
   "execution_count": 11,
   "metadata": {},
   "outputs": [
    {
     "name": "stdout",
     "output_type": "stream",
     "text": [
      "true\n",
      "true\n",
      "false"
     ]
    },
    {
     "data": {
      "text/plain": [
       "s: Symbol = 'aSymbol\n"
      ]
     },
     "execution_count": 11,
     "metadata": {},
     "output_type": "execute_result"
    }
   ],
   "source": [
    "val s = 'aSymbol\n",
    "\n",
    "//输出true\n",
    "println( s == 'aSymbol)\n",
    "\n",
    "//输出true\n",
    "println( s == Symbol(\"aSymbol\"))\n",
    "\n",
    "//输出false\n",
    "print(s == \"aSymbol\")"
   ]
  },
  {
   "cell_type": "markdown",
   "metadata": {},
   "source": [
    "## scala 特殊用法 箭頭 ->, <-, => 底線_  "
   ]
  },
  {
   "cell_type": "markdown",
   "metadata": {},
   "source": [
    "### 符號 <- 用在 for 迴圈, 遍歷集合(生成器表達式)"
   ]
  },
  {
   "cell_type": "code",
   "execution_count": 83,
   "metadata": {},
   "outputs": [
    {
     "name": "stdout",
     "output_type": "stream",
     "text": [
      "12345678910\n",
      "---\n",
      "Value of a: 0\n",
      "Value of b: 0\n",
      "Value of a: 0\n",
      "Value of b: 1\n",
      "Value of a: 1\n",
      "Value of b: 0\n",
      "Value of a: 1\n",
      "Value of b: 1\n",
      "Value of a: 2\n",
      "Value of b: 0\n",
      "Value of a: 2\n",
      "Value of b: 1\n",
      "\n",
      "---\n",
      "Value of x: 1\n",
      "Value of x: 2\n",
      "Value of x: 3\n",
      "Value of x: 4\n",
      "Value of x: 5\n",
      "Value of x: 6\n",
      "\n",
      "---\n",
      "Value of y: 1\n",
      "Value of y: 2\n",
      "\n",
      "---\n",
      "List(1, 2, 4, 5, 6)\n",
      "---\n",
      "SCALA\n",
      "GROOVY\n",
      "JAVA\n",
      "SQL\n",
      "CSS\n",
      "ScalaGroovyJavaSQLCSS"
     ]
    },
    {
     "data": {
      "text/plain": [
       "numList: List[Int] = List(1, 2, 3, 4, 5, 6)\r\n",
       "retVal: List[Int] = List(1, 2, 4, 5, 6)\r\n",
       "books: List[String] = List(Scala, Groovy, Java, SQL, CSS)\n"
      ]
     },
     "execution_count": 83,
     "metadata": {},
     "output_type": "execute_result"
    }
   ],
   "source": [
    "for (i <- 1 to 10) {print(i)}\n",
    "\n",
    "println(\"\\n---\")\n",
    "\n",
    "//*****************************************************************\n",
    "for( a <- 0 to 2; b <- 0 to 1){ //迭代給定區間所有的可能值\n",
    " println( \"Value of a: \" + a );\n",
    " println( \"Value of b: \" + b );\n",
    "}\n",
    "\n",
    "println(\"\\n---\")\n",
    "//*****************************************************************\n",
    "val numList = List(1,2,3,4,5,6);\n",
    "for( x <- numList ){\n",
    " println( \"Value of x: \" + x );\n",
    "}\n",
    "\n",
    "println(\"\\n---\")\n",
    "//*****************************************************************\n",
    "for( y <- numList //循環過濾(又叫約束)，過濾我們想要保留的元素\n",
    "   if y != 3; if y < 4 ){\n",
    " println( \"Value of y: \" + y );\n",
    "}\n",
    "\n",
    "println(\"\\n---\")\n",
    "//*****************************************************************\n",
    "var retVal = for{ a <- numList \n",
    "                if a != 3; if a < 8\n",
    "              }yield a //yield 會把當前的元素記下來，保存在集合中，循環結束後將返回該集合\n",
    "\n",
    "print(retVal)\n",
    "println(\"\\n---\")\n",
    "//*****************************************************************\n",
    "val books = List(\"Scala\", \"Groovy\", \"Java\", \"SQL\", \"CSS\")\n",
    "//Scala可以在for表達式的第一部分中定義可用於後面表達式的值\n",
    "for{book <- books //要緊接著大括號\n",
    "    bookVal = book.toUpperCase()\n",
    "}println(bookVal)\n",
    "\n"
   ]
  },
  {
   "cell_type": "markdown",
   "metadata": {},
   "source": [
    "### 符號 -> 常用在 map 映射 或是 創建 tuple(下一節會介紹) "
   ]
  },
  {
   "cell_type": "code",
   "execution_count": 4,
   "metadata": {},
   "outputs": [
    {
     "name": "stdout",
     "output_type": "stream",
     "text": [
      "colors  key: Set(red, azure, peru)\n",
      "colors values : MapLike(#FF0000, #F0FFFF, #CD853F)\n",
      "\n",
      "---\n",
      "check nums Empty : true\n",
      "check colors Empty : false\n",
      "\n",
      "---\n",
      "colors1 ++ colors2 : Map(blue -> #0033FF, azure -> #F0FFFF, peru -> #CD853F, yellow -> #FFFF00, red -> #FF0000)\n",
      "\n",
      "---\n",
      "Key = red Value = #FF0000\n",
      "Key = azure Value = #F0FFFF\n",
      "Key = peru Value = #CD853F\n",
      "\n",
      "---\n",
      "the value of red is :#FF0000\n"
     ]
    },
    {
     "data": {
      "text/plain": [
       "colors: scala.collection.immutable.Map[String,String] = Map(red -> #FF0000, azure -> #F0FFFF, peru -> #CD853F)\r\n",
       "nums: Map[Char,Int] = Map(J -> 5)\r\n",
       "colors1: scala.collection.immutable.Map[String,String] = Map(red -> #error, azure -> #F0FFFF, peru -> #CD853F)\r\n",
       "colors2: scala.collection.immutable.Map[String,String] = Map(blue -> #0033FF, yellow -> #FFFF00, red -> #FF0000)\r\n",
       "color_map: scala.collection.immutable.Map[String,String] = Map(blue -> #0033FF, azure -> #F0FFFF, peru -> #CD853F, yellow -> #FFFF00, red -> #FF0000)\n"
      ]
     },
     "execution_count": 4,
     "metadata": {},
     "output_type": "execute_result"
    }
   ],
   "source": [
    "val colors = Map(\n",
    "    \"red\" ->  \"#FF0000\", \n",
    "    \"azure\" ->  \"#F0FFFF\", \n",
    "    \"peru\" ->  \"#CD853F\") \n",
    "\n",
    "println(\"colors  key: \" + colors.keys ) \n",
    "println(\"colors values : \" + colors.values ) \n",
    "println(\"\\n---\")\n",
    "\n",
    "// 用 += 加入元素\n",
    "var nums: Map[Char, Int] = Map() \n",
    "println( \"check nums Empty : \" + nums.isEmpty )\n",
    "nums+= ( 'J' -> 5 ) \n",
    "println(\"check colors Empty : \" + colors.isEmpty ) \n",
    "println(\"\\n---\")\n",
    "\n",
    "//使用++運算符或Map.++()方法來連接兩個Map，Map合併時會移除重複的key\n",
    "val colors1 = Map ( \"red\" -> \"#error\" , \"azure\" -> \"#F0FFFF\" , \"peru\" -> \"#CD853F\" ) \n",
    "val colors2 = Map ( \"blue\" -> \"#0033FF\" , \"yellow\" -> \"#FFFF00\" , \"red\" -> \"#FF0000\") \n",
    "var color_map = colors1 ++ colors2 \n",
    "println ( \"colors1 ++ colors2 : \" + color_map ) \n",
    "println(\"\\n---\")\n",
    "\n",
    "\n",
    "//foreach 循環輸出 Map中的 keys 和values\n",
    "colors.keys.foreach{ i =>  \n",
    "print( \"Key = \" + i )\n",
    "println(\" Value = \" + colors(i))}\n",
    "println(\"\\n---\")\n",
    "\n",
    "//Map.contains方法來查看Map中是否存在指定的Key\n",
    "if(colors1.contains (\"red\")){ println ( \"the value of red is :\" + color_map(\"red\")) }  "
   ]
  },
  {
   "cell_type": "markdown",
   "metadata": {},
   "source": [
    "### 第三個符號 => 匿名函數 或是是用在模式匹配  "
   ]
  },
  {
   "cell_type": "code",
   "execution_count": 87,
   "metadata": {},
   "outputs": [
    {
     "name": "stdout",
     "output_type": "stream",
     "text": [
      "a1\n",
      "v1\n",
      "Natural Int\n",
      "String, length 1\n",
      "Natural Int\n",
      "java.lang.Double\n",
      "java.lang.Character\n"
     ]
    },
    {
     "data": {
      "text/plain": [
       "l: List[Int] = List(1, 2, 3)\r\n",
       "ll: List[Int] = List(1, 4, 9)\r\n",
       "f1: (Int, String) => String = <function2>\r\n",
       "f2: (Int, String) => String = <function2>\r\n",
       "x: Int = 10\r\n",
       "anyList: List[Any] = List(1, A, 2, 2.5, a)\r\n",
       "test: (in: Any)String\n"
      ]
     },
     "execution_count": 87,
     "metadata": {},
     "output_type": "execute_result"
    }
   ],
   "source": [
    "/*(函數參數) => 函數本體 */\n",
    "val l = List(1,2,3) \n",
    "var ll = l.map(x => x*x) \n",
    "\n",
    "//兩者等價\n",
    "val f1: (Int,String) => String = (i, s) => s+i \n",
    "val f2: Function2[Int,String,String] = (i, s) => s+i \n",
    "println(f1(1,\"a\"))\n",
    "println(f2(1,\"v\"))\n",
    "\n",
    "\n",
    "\n",
    "//對於右箭頭，還有一個地方用到就是匹配模式語句case與後面表達式的分隔符\n",
    "val x: Int = 10\n",
    "x match { \n",
    "  case 0 => \"zero\"\n",
    "  case 1 => \"one\"\n",
    "  case 2 => \"two\"\n",
    "  case n if n > 5 => \"n_test\"\n",
    "  case _ => \"many\"\n",
    "} \n",
    "\n",
    "//測試用 match 類型\n",
    "val anyList= List(1, \"A\" , 2, 2.5, 'a' )\n",
    "def test(in: Any) = in match { \n",
    "    case s: String => \"String, length \"+s.length \n",
    "    case i: Int if i > 0 => \"Natural Int\" \n",
    "    case i: Int => \"Another Int\" \n",
    "    case a: AnyRef => a.getClass.getName \n",
    "    case _ => \"null\" \n",
    "}\n",
    "\n",
    "for(item <- anyList){\n",
    "    println(test(item))\n",
    "}"
   ]
  },
  {
   "cell_type": "code",
   "execution_count": 93,
   "metadata": {},
   "outputs": [
    {
     "name": "stdout",
     "output_type": "stream",
     "text": [
      "The value of myInt is: 3\n",
      "8\n",
      "18\n"
     ]
    },
    {
     "data": {
      "text/plain": [
       "increase: Int => Int = <function1>\r\n",
       "f: Int => String = <function1>\r\n",
       "d: (x: Int => Int)Int\r\n",
       "c: (x: (Int, Int) => Int)Int\n"
      ]
     },
     "execution_count": 93,
     "metadata": {},
     "output_type": "execute_result"
    }
   ],
   "source": [
    "// 進一步 說明 => 符號可以看做是創建函數實例的語法糖。\n",
    "// 例如：A => T，A,B => T表示一個函數的輸入參數類型是“A”，“A,B”，返回值類型是 T\n",
    "\n",
    "var increase = (x: Int) => x + 1  \n",
    "increase(10)\n",
    "\n",
    "\n",
    "//定義函數 f：輸入參數是整數類型，返回值是字符串 -> 想像成 schema\n",
    "//等式右邊是函數 myInt會被映射為\"The value of myInt is: \" + myInt.toString()\n",
    "val f: Int => String = myInt => \"The value of myInt is: \" + myInt.toString()\n",
    "println(f(3))\n",
    "\n",
    "//定義了一個函數d,參數類型是Int=>Int的函數,返回值根據上下文推算是Int\n",
    "//返回值: 發現沒有,返回值是x(2),它調用了傳入函數。結果自然就是6了\n",
    "def d(x: (Int) => Int) = x(2);\n",
    "println(d((x: Int) => x * 4));\n",
    "\n",
    "\n",
    "\n",
    "\n",
    "//換設置2個值。\n",
    "def c(x: (Int, Int) => Int) = x(2, 3);\n",
    "println(c((x: Int, y: Int) => x * y * 3));\n",
    "\n",
    "\n",
    "//參考 http://orchome.com/401"
   ]
  },
  {
   "cell_type": "code",
   "execution_count": 5,
   "metadata": {},
   "outputs": [
    {
     "name": "stdout",
     "output_type": "stream",
     "text": [
      "What's\n",
      "up\n",
      "doc?\n",
      "\n",
      "----\n"
     ]
    },
    {
     "data": {
      "text/plain": [
       "x: Seq[Int] = Range(1, 2, 3, 4, 5)\r\n",
       "echo: (args: String*)Unit\r\n",
       "arr: Array[String] = Array(What's, up, doc?)\r\n",
       "a: List[Int] = List(1, 2, 3, 4, 5, 6)\r\n",
       "res3: List[Int] = List(4, 8, 12)\n"
      ]
     },
     "execution_count": 5,
     "metadata": {},
     "output_type": "execute_result"
    }
   ],
   "source": [
    "/* 在scala中，符號“_”相當於java中的通配符“*”。這個有很多的含義*/\n",
    "//:_*作為一個整體，告訴編譯器你希望將某個參數當作參數序列處理\n",
    "// 簡單來說 這個標註告訴編譯器把集合的每個元素當作參數，而集合自己不是當作單一的參數 \n",
    "val x: Seq[Int] = 1 to 5\n",
    "List(x: _*)\n",
    "\n",
    "def echo(args: String*) = for (arg <- args) println(arg)\n",
    "val arr = Array(\"What's\", \"up\", \"doc?\")\n",
    "echo(arr:_*)\n",
    "\n",
    "println(\"\\n----\")\n",
    "\n",
    "//代指一個集合中的每個元素\n",
    "val a = List(1,2,3,4,5,6);\n",
    "a.filter(_%2==0).map(2*_)"
   ]
  },
  {
   "cell_type": "markdown",
   "metadata": {
    "collapsed": true
   },
   "source": [
    "### scala 元組\n",
    "* 元組是具有相同或不同類型的兩個或更多個值的有序容器。\n",
    "* 我們可以通過兩種方式創建一個元組：\n",
    "    1. 通過用逗號分隔的值寫入值，並用一對括號括起來\n",
    "    2. 通過使用關係運算符-> ex: 1 -> \"one\" "
   ]
  },
  {
   "cell_type": "code",
   "execution_count": 8,
   "metadata": {},
   "outputs": [
    {
     "data": {
      "text/plain": [
       "t1: (Int, String) = (1,two)\r\n",
       "t2: (Int, String) = (1,two)\r\n",
       "t3: (Int, String, Double) = (1,two,3.0)\n"
      ]
     },
     "execution_count": 8,
     "metadata": {},
     "output_type": "execute_result"
    }
   ],
   "source": [
    "//與列表一樣，元組也是不可變的，但與列表不同的是元組可以包含不同類型的元素\n",
    "val t1: (Int,String) = (1, \"two\") \n",
    "\n",
    "//Scala庫包括用於將 N個項分組的TupleN類  N可到22\n",
    "val t2: Tuple2[Int,String] = (1, \"two\") \n",
    "val t3: Tuple3[Int,String,Double] = (1, \"two\", 3.0)"
   ]
  },
  {
   "cell_type": "code",
   "execution_count": 9,
   "metadata": {},
   "outputs": [
    {
     "name": "stdout",
     "output_type": "stream",
     "text": [
      "Print the whole tuple: (1,two,3.0)\n",
      "Print the first item: 1\n",
      "Print the second item: two\n",
      "Print the third item: 3.0\n"
     ]
    }
   ],
   "source": [
    "//表達式 t._n從元組t中檢索第 n 個項，從一個開始，不是零。\n",
    "println( \"Print the whole tuple: \" + t3 )\n",
    "println( \"Print the first item: \" + t3._1 )\n",
    "println( \"Print the second item: \" + t3._2 )\n",
    "println( \"Print the third item: \" + t3._3 )\n",
    "\n",
    "//我們可以在兩個值之間使用“箭頭運算符”"
   ]
  },
  {
   "cell_type": "code",
   "execution_count": 18,
   "metadata": {},
   "outputs": [
    {
     "name": "stdout",
     "output_type": "stream",
     "text": [
      "Value = 1\n",
      "Value = two\n",
      "Value = 3.0\n",
      "string output: (1,two,3.0)\n",
      "tuple swap: (two,1)\n"
     ]
    }
   ],
   "source": [
    "/*與列表和數組不同，沒有辦法用for迭代元組中的元素 \n",
    "p.s.但可以用 Tuple.productIterator()  方法來迭代輸出元組的所有元素 */\n",
    "t3.productIterator.foreach{ i => println ( \"Value = \" + i )}\n",
    "\n",
    "//可以使用  Tuple.toString()  方法將元組的所有元素組合成一個字符串\n",
    "println ( \"string output: \" + t3.toString())\n",
    "\n",
    "//可以使用  Tuple2.swap  方法來交換元組的元素\n",
    " println ( \"tuple swap: \" + t2.swap )"
   ]
  },
  {
   "cell_type": "markdown",
   "metadata": {},
   "source": [
    "### Option和Null 和 Nothing 和 Nill 類型\n",
    "* 任何時候，如果想使用 null ，請用 Option  \n",
    "  \n",
    "---  \n",
    "* option可以看作是一個容器,容器的size是1或0。 Size為1的時候就是一個Some[A](x: A),size為0的時候就是一個None\n",
    "    1. scala推薦在可能返回空的方法使用Option[X]作為返回類型。如果有值就返回Some[x]，否則返回None\n",
    "    2. 獲得Option後，可以使用get獲得包含的值，或者使用getOrElse獲得默認值如果isEmpty為true  \n",
    "   \n",
    "---        \n",
    "* Null可以賦值給所有的引用類型(AnyRef)，不能賦值給值類型，這個java的語義是相同的。null是Null的唯一對象。     \n",
    "  \n",
    "---    \n",
    "* Nothing是所有類型的子類，也是Null的子類。Nothing沒有對象，但是可以用來定義類型。例如，如果一個方法拋出異常，則異常的返回值類型就是Nothing      \n",
    "    \n",
    "---    \n",
    "* Nil是一個空的List，定義為List[Nothing]"
   ]
  },
  {
   "cell_type": "code",
   "execution_count": 34,
   "metadata": {},
   "outputs": [
    {
     "name": "stdout",
     "output_type": "stream",
     "text": [
      "Get the capitals wrapped in Options:\n",
      "Alabama: Some(Montgomery)\n",
      "Wyoming: Some(Cheyenne)\n",
      "Unknown: None\n",
      "\n",
      "---\n",
      "Get the capitals themselves out of the Options:\n",
      "Alabama: Montgomery\n",
      "Wyoming: Cheyenne\n",
      "Unknown: Oops2!\n"
     ]
    },
    {
     "data": {
      "text/plain": [
       "stateCapitals: scala.collection.immutable.Map[String,String] = Map(Alabama -> Montgomery, Alaska -> Juneau, Wyoming -> Cheyenne)\n"
      ]
     },
     "execution_count": 34,
     "metadata": {},
     "output_type": "execute_result"
    }
   ],
   "source": [
    "//Map.get方法返回一個 Option [T] ，在這種情況下 T 是String\n",
    "val stateCapitals = Map( \n",
    "    \"Alabama\" -> \"Montgomery\" ,                         \n",
    "    \"Alaska\"   -> \"Juneau\" ,                         \n",
    "    \"Wyoming\" -> \"Cheyenne\" )\n",
    "\n",
    "//如果 Option 是 Some ，則 Some.get 返回值。\n",
    "println( \"Get the capitals wrapped in Options:\" ) \n",
    "println( \"Alabama: \" + stateCapitals.get( \"Alabama\" ) ) \n",
    "println( \"Wyoming: \" + stateCapitals.get( \"Wyoming\" ) ) \n",
    "println( \"Unknown: \"+ stateCapitals.get( \"Unknown\" ) )\n",
    "\n",
    "println(\"\\n---\")\n",
    "\n",
    "//如果 Option 實際上是 None ，那麼 None.get 將拋出一個 NoSuchElementException 異常。\n",
    "//getOrElse返回 Option 中的值，如果它是一個 Some 實例，或者返回傳遞給 getOrElse 的參數\n",
    "println( \"Get the capitals themselves out of the Options:\" ) \n",
    "println( \"Alabama: \" + stateCapitals.get( \"Alabama\" ).get ) \n",
    "println( \"Wyoming: \" + stateCapitals.get( \"Wyoming\" ).getOrElse( \"Oops!\" ) ) \n",
    "println( \"Unknown: \" + stateCapitals.get( \"Unknown\" ).getOrElse( \"Oops2!\" ) ) \n"
   ]
  },
  {
   "cell_type": "code",
   "execution_count": 30,
   "metadata": {},
   "outputs": [
    {
     "data": {
      "text/plain": [
       "a: Option[String] = Some(1024)\r\n",
       "b: Option[String] = None\r\n",
       "x: Seq[String] = List(1, 2, 3, null, 4)\r\n",
       "y: Seq[Option[String]] = List(Some(1), Some(2), Some(3), None, Some(4))\r\n",
       "res21: Seq[Int] = List(1, 2, 3, 4)\n"
      ]
     },
     "execution_count": 30,
     "metadata": {},
     "output_type": "execute_result"
    }
   ],
   "source": [
    "val a: Option[String] = Some(\"1024\")\n",
    "val b: Option[String] = None\n",
    "a.map(_.toInt)\n",
    "//res0: Option[Int] = Some(1024)\n",
    "b.map(_.toInt)\n",
    "//res1: Option[Int] = None,不會拋出exception\n",
    "\n",
    "a.getOrElse(\"2048\") //1024\n",
    "b.getOrElse(\"2048\") //2048\n",
    "\n",
    "\n",
    "val x: Seq[String] = Seq(\"1\", \"2\", \"3\", null, \"4\")\n",
    "// x.map(_.toInt) -> 會錯誤, 如果忘了檢查編譯器是看不出來的,只能在跑的時候拋異常\n",
    "x.filter(_ != null).map(_.toInt)\n",
    "\n",
    "// option幫助你把錯誤扼殺在編譯階段 而 flatMap則可以在過濾空值的同時將option恢復為原始數據.\n",
    "val y: Seq[Option[String]] = Seq(Some(\"1\"), Some(\"2\"), Some(\"3\"), None, Some(\"4\"))\n",
    "y.flatMap(_.map(_.toInt))"
   ]
  },
  {
   "cell_type": "code",
   "execution_count": 32,
   "metadata": {
    "collapsed": true
   },
   "outputs": [],
   "source": [
    "/*\n",
    "def get(index:Int):Int = {\n",
    "\tif(x < 0) throw new Exception(...)\n",
    "\telse ....\n",
    "if語句是表達式，有返回值，必然有返回值類型，如果x < 0，拋出異常，返回值的類型為Nothing，\n",
    "Nothing也是Int的子類，所以，if表達式的返回類型為Int， get方法的返回值類型也為Int。 \n",
    "\n",
    "*/"
   ]
  },
  {
   "cell_type": "markdown",
   "metadata": {},
   "source": [
    " ### Range 用法\n",
    "* 支持類型創建範圍：Int，Long，Float，Double，Char，BigInt和BigDecimal。"
   ]
  },
  {
   "cell_type": "code",
   "execution_count": 42,
   "metadata": {},
   "outputs": [
    {
     "name": "stdout",
     "output_type": "stream",
     "text": [
      "Range(1, 2, 3, 4, 5)\n",
      "Range(1, 2, 3, 4)\n",
      "Range(1, 5, 9, 13, 17)\n"
     ]
    },
    {
     "data": {
      "text/plain": [
       "v5: scala.collection.immutable.NumericRange[Float] = NumericRange(1.1, 1.6, 2.1, 2.6, 3.1, 3.6, 4.1, 4.6, 5.1, 5.6, 6.1, 6.6, 7.1, 7.6, 8.1, 8.6, 9.1, 9.6, 10.1)\r\n",
       "v7: scala.collection.immutable.NumericRange[Char] = NumericRange(a, b, c, d, e, f, g)\n"
      ]
     },
     "execution_count": 42,
     "metadata": {},
     "output_type": "execute_result"
    }
   ],
   "source": [
    "println(1 to 5 )\n",
    "println(1 until 5 )\n",
    "println(1 to 20 by 4 )\n",
    "\n",
    "val v5 = 1.1f to 10.3f by 0.5f // Float with an interval < 1\n",
    "val v7 = 'a' to 'g' by 1 // Char "
   ]
  },
  {
   "cell_type": "markdown",
   "metadata": {},
   "source": [
    "### Scala中==,eq與equals的區別\n",
    "* Scala使用==作為邏輯等式，但它調用equals方法。\n",
    "* 當您想要比較引用，但不測試邏輯時，可以使用新的方法 eq。\n",
    "* 推薦使用==方法，因為如果比較值為null的情況下，調用equals方法是會報錯的，而==方法事先為我們檢查了是否為null，然後在進行相應比較\n",
    "* 對於Array或者Map對像不能簡單點使用equals進行值比較，要通過sameElements方法"
   ]
  },
  {
   "cell_type": "code",
   "execution_count": 71,
   "metadata": {},
   "outputs": [
    {
     "name": "stdout",
     "output_type": "stream",
     "text": [
      "false\n",
      "true\n",
      "true\n",
      "\n",
      "---\n",
      "false\n",
      "true\n",
      "\n",
      "---\n",
      "false\n",
      "false\n",
      "true\n",
      "true\n",
      "\n",
      "---\n",
      "false\n",
      "true\n",
      "true\n"
     ]
    },
    {
     "data": {
      "text/plain": [
       "defined class Bread\r\n",
       "b1: Bread = Bread(BreadTalk,50)\r\n",
       "b2: Bread = Bread(BreadTalk,80)\r\n",
       "c1: String = test\r\n",
       "c2: String = test\r\n",
       "a1: Array[String] = Array(x, y)\r\n",
       "a2: Array[String] = Array(x, y)\r\n",
       "m1: scala.collection.immutable.Map[Int,String] = Map(1 -> x, 2 -> y)\r\n",
       "m2: scala.collection.immutable.Map[Int,String] = Map(1 -> x, 2 -> y)\n"
      ]
     },
     "execution_count": 71,
     "metadata": {},
     "output_type": "execute_result"
    }
   ],
   "source": [
    "case class Bread(brand:String, price:Int) \n",
    "\n",
    "\n",
    "val b1 = Bread(\"BreadTalk\", 50)\n",
    "val b2 = Bread(\"BreadTalk\", 80)\n",
    "\n",
    "\n",
    "println(b1 eq b2)\n",
    "println(b1.brand equals b2.brand)\n",
    "println(b1.brand == b2.brand)\n",
    "println(\"\\n---\")\n",
    "\n",
    "val c1 =  new String(\"test\")\n",
    "val c2 =  new String(\"test\")\n",
    "\n",
    "println(c1 eq c2)\n",
    "println(c1 == c2)\n",
    "println(\"\\n---\")\n",
    "\n",
    "//array 不能直接 == 比較\n",
    "val a1 = Array(\"x\", \"y\")\n",
    "val a2 = Array(\"x\", \"y\")\n",
    "\n",
    "println(a1 eq a2)\n",
    "println(a1 == a2)\n",
    "println(a1.deep == a2.deep) //深度比較\n",
    "println(a1 sameElements a2)\n",
    "\n",
    "println(\"\\n---\")\n",
    "\n",
    "//Map 可以直接 == 比較\n",
    "val m1 = Map(1->\"x\", 2->\"y\")\n",
    "val m2 = Map(1->\"x\", 2->\"y\")\n",
    "println(m1 eq m2)\n",
    "println(m1 == m2)\n",
    "println(m1 sameElements m2)"
   ]
  },
  {
   "cell_type": "markdown",
   "metadata": {},
   "source": [
    "---\n",
    "## try catch \n",
    "\n",
    "* try/finally結構在Scala和Java中也是一樣的  \n",
    "\n",
    "\n",
    "try {  \n",
    "\n",
    "    throw newException(\"some exception...\")   \n",
    "    \n",
    "} finally{  \n",
    "\n",
    "    println(\"This will always be printed\")   \n",
    "    \n",
    "}\n",
    "\n",
    "---\n",
    "\n",
    "* 因為Scala中的try/catch是一個表達式，所以可以在try / catch中包裝調用，並在調用失敗時分配默認值。  \n",
    "\n",
    "try {   \n",
    "\n",
    "    file.write(stuff) \n",
    "} catch{   \n",
    "\n",
    "    case e:java.io.IOException => // handle IO Exception \n",
    "    case n:NullPointerException => // handle null pointer \n",
    "}"
   ]
  },
  {
   "cell_type": "markdown",
   "metadata": {},
   "source": [
    "---\n",
    "### Scala 函數  \n",
    "\n",
    "\n",
    "* Scala 函數def格式如下：\n",
    "\n",
    "    def functionName ([参数列表]) : [return type]  \n",
    "    \n",
    "\n",
    "* Scala 函數定義格式如下：  \n",
    "    方法定義由一個def 關鍵字開始，緊接著是可選的參數列表，一個冒號\"：\" 和方法的返回類型，  \n",
    "    一個等於號\"=\" (相當於分隔符)，最後是方法的主體。\n",
    "    \n",
    "    def functionName ([参数列表]) : [return type] = {\n",
    "   function body\n",
    "   return [expr]\n",
    "    }  \n",
    "    \n",
    "    \n",
    "* 如果函數沒有返回值，可以返回為Unit，這個類似於Java的void"
   ]
  },
  {
   "cell_type": "code",
   "execution_count": 5,
   "metadata": {},
   "outputs": [
    {
     "data": {
      "text/plain": [
       "hello: ()String\r\n",
       "hello2: ()String\r\n",
       "hello3: String\n"
      ]
     },
     "execution_count": 5,
     "metadata": {},
     "output_type": "execute_result"
    }
   ],
   "source": [
    "//注意\n",
    "//我們還可以包括可選的返回類型，如下所示。\n",
    "def hello():String = {\"Hello World!\"} \n",
    "\n",
    "//我們可以從方法體中完全刪除括號。\n",
    "def hello2() = \"Hello World!\" \n",
    "\n",
    "//我們也可以從方法簽名中刪除括號。\n",
    "def hello3 = \"Hello World!\" "
   ]
  },
  {
   "cell_type": "markdown",
   "metadata": {
    "collapsed": true
   },
   "source": [
    "### Scala函數編程\n",
    "\n",
    "* Scala允許我們將函數表達為文字。\n",
    "\n",
    "    函數文字允許我們有一個函數類型的表達式，我們可以寫一個短格式，而不聲明它的名稱。  \n",
    "\n",
    "\n",
    "* 函數類型可以是以下之一：\n",
    "\n",
    "    1. 可以為其分配函數的變量或參數的類型\n",
    "    2. 採用函數參數的高階函數的參數\n",
    "    3. 返回函數的高階函數的結果類型\n",
    "    4. 函數常量以括號括起來的逗號分隔的參數列表開頭，後跟箭頭和函數體。\n",
    "       函數常量也稱為匿名函數。\n",
    "         \n",
    "         \n",
    "* 函數常量被實例化為稱為函數值的對象。  \n",
    "    函數對象擴展FunctionN traits中的一個，例如Function0，Function1等等直到Function22。  \n",
    "    對於具有兩個參數的函數，編譯器選擇Function2作為底層類型。對於具有3個參數的函數，編譯器選擇Function3，對於具有4個參數的函數，Function4等。"
   ]
  },
  {
   "cell_type": "code",
   "execution_count": 6,
   "metadata": {},
   "outputs": [
    {
     "data": {
      "text/plain": [
       "add: (Int, Int) => Int = <function2>\r\n",
       "res2: (Int, Int) => Int = <function2>\n"
      ]
     },
     "execution_count": 6,
     "metadata": {},
     "output_type": "execute_result"
    }
   ],
   "source": [
    "//考慮一個add函數:\n",
    "val add = (x: Int, y: Int) => x + y\n",
    "\n",
    "//使用函數常量，您可以定義添加函數，如下所示：\n",
    "(x: Int, y: Int) => x + y"
   ]
  },
  {
   "cell_type": "code",
   "execution_count": 7,
   "metadata": {},
   "outputs": [
    {
     "name": "stdout",
     "output_type": "stream",
     "text": [
      "3\n"
     ]
    },
    {
     "data": {
      "text/plain": [
       "add: (Int, Int) => Int = <function2>\n"
      ]
     },
     "execution_count": 7,
     "metadata": {},
     "output_type": "execute_result"
    }
   ],
   "source": [
    "// 因為函數值是一個對象，它可以存儲在一個變量中，它可以使用括號函數調用來調用，如下所示：\n",
    "val add = (a: Int, b: Int) => a + b\n",
    "   println(add(1, 2));"
   ]
  },
  {
   "cell_type": "markdown",
   "metadata": {
    "collapsed": true
   },
   "source": [
    "### Scala函數是對象。\n",
    "\n",
    "Scala函數是對象。可以  \n",
    "1. 分配給變量，  \n",
    "2. 作為參數傳遞給另一個函數  \n",
    "3. 作為其他函數的值返回。  \n",
    "4. 將函數作為參數或返回函數的函數 --> 高階函數(Higher-Order Function)。  "
   ]
  },
  {
   "cell_type": "code",
   "execution_count": 9,
   "metadata": {},
   "outputs": [
    {
     "name": "stdout",
     "output_type": "stream",
     "text": [
      "[10]\n"
     ]
    },
    {
     "data": {
      "text/plain": [
       "doubler: Int => Int = <function1>\r\n",
       "apply: (f: Int => String, v: Int)String\r\n",
       "layout: [A](x: A)String\n"
      ]
     },
     "execution_count": 9,
     "metadata": {},
     "output_type": "execute_result"
    }
   ],
   "source": [
    "// 我們現在可以將該函數常量分配給一個變量：\n",
    "val doubler = (i: Int) => { i * 2 }\n",
    "\n",
    "//doubler 是使用關鍵字 val 創建並分配給變量的函數。 --> Function1 trait的一個實例\n",
    "doubler(2)\n",
    "\n",
    "\n",
    "//高階函數\n",
    "//函數 f 和 值 v 作為參數，而函數 f 又調用了參數 v\n",
    "\n",
    "def apply(f: Int => String, v: Int) = f(v)\n",
    "def layout[A](x: A) = \"[\" + x.toString() + \"]\"\n",
    "\n",
    "println( apply( layout, 10) )"
   ]
  },
  {
   "cell_type": "markdown",
   "metadata": {
    "collapsed": true
   },
   "source": [
    "### 函數作為參數"
   ]
  },
  {
   "cell_type": "code",
   "execution_count": 9,
   "metadata": {},
   "outputs": [
    {
     "name": "stdout",
     "output_type": "stream",
     "text": [
      "8\n"
     ]
    },
    {
     "data": {
      "text/plain": [
       "operation: (functionparam: (Int, Int) => Int)Unit\r\n",
       "add: (Int, Int) => Int = <function2>\n"
      ]
     },
     "execution_count": 9,
     "metadata": {},
     "output_type": "execute_result"
    }
   ],
   "source": [
    "// function param函數接受兩個Int並返回一個 Int 。\n",
    "def operation(functionparam:(Int, Int) => Int) {\n",
    "    println(functionparam(4,4))\n",
    "}\n",
    "\n",
    "val add = (x: Int, y:Int) => { x + y }\n",
    "operation(add)"
   ]
  },
  {
   "cell_type": "markdown",
   "metadata": {},
   "source": [
    "### Scala的解釋器在解析函數參數(function arguments)時有兩種方式：\n",
    "* 傳值調用（call-by-value）：先計算參數表達式的值，再應用到函數內部；\n",
    "* 傳名調用（call-by-name）：將未計算的參數表達式直接應用到函數內部  \n",
    "\n",
    "在進入函數內部前，  \n",
    "傳值調用 **調用方法就已經將參數表達式的值計算完畢**，    \n",
    "傳名調用 **是在函數內部進行參數表達式的值計算的**。\n",
    "  \n",
    "這就造成了一種現象，每次使用傳名調用時，解釋器都會計算一次表達式的值。"
   ]
  },
  {
   "cell_type": "code",
   "execution_count": 6,
   "metadata": {},
   "outputs": [
    {
     "name": "stdout",
     "output_type": "stream",
     "text": [
      "In time()\n",
      "Entered exec, calling t ...\n",
      "t = 192027613503002\n",
      "Calling t again ...\n",
      "192027613503002\n"
     ]
    },
    {
     "data": {
      "text/plain": [
       "time: ()Long\r\n",
       "exec: (t: Long)Long\n"
      ]
     },
     "execution_count": 6,
     "metadata": {},
     "output_type": "execute_result"
    }
   ],
   "source": [
    "//call-by-value\n",
    "\n",
    "def time(): Long = {\n",
    "  println(\"In time()\")\n",
    "  System.nanoTime\n",
    "}\n",
    "\n",
    "def exec(t: Long): Long = {\n",
    "  println(\"Entered exec, calling t ...\")\n",
    "  println(\"t = \" + t)\n",
    "  println(\"Calling t again ...\")\n",
    "  t\n",
    "}\n",
    "\n",
    "//exec 在調用 time 的時候 time 已經先算完 所以 t = constant\n",
    "println(exec(time()))\n"
   ]
  },
  {
   "cell_type": "code",
   "execution_count": 7,
   "metadata": {},
   "outputs": [
    {
     "name": "stdout",
     "output_type": "stream",
     "text": [
      "Entered exec, calling t ...\n",
      "Entered time() ...\n",
      "t = 192079117520623\n",
      "Calling t again ...\n",
      "Entered time() ...\n",
      "192079117582458\n"
     ]
    },
    {
     "data": {
      "text/plain": [
       "time: ()Long\r\n",
       "exec: (t: => Long)Long\n"
      ]
     },
     "execution_count": 7,
     "metadata": {},
     "output_type": "execute_result"
    }
   ],
   "source": [
    "def time() = {\n",
    "  println(\"Entered time() ...\")\n",
    "  System.nanoTime\n",
    "}\n",
    "\n",
    "// `t` is now defined as a by-name parameter\n",
    "def exec(t: => Long) = {\n",
    "  println(\"Entered exec, calling t ...\")\n",
    "  println(\"t = \" + t)\n",
    "  println(\"Calling t again ...\")\n",
    "  t\n",
    "}\n",
    "\n",
    "// t 會在函式裡面才調用 所以兩次值會不一樣\n",
    "println(exec(time()))"
   ]
  },
  {
   "cell_type": "markdown",
   "metadata": {
    "collapsed": true
   },
   "source": [
    "### Scala 函數- 可變參數\n",
    "* Scala 允許你指明函數的最後一個參數可以是重複的，即我們不需要指定函數參數的個數，可以向函數傳入可變長度參數列表。  \n",
    "\n",
    "    Scala 通過在參數的類型之後放一個星號來設置可變參數(可重複的參數)。"
   ]
  },
  {
   "cell_type": "code",
   "execution_count": 8,
   "metadata": {},
   "outputs": [
    {
     "name": "stdout",
     "output_type": "stream",
     "text": [
      "Arg value[0] = Runoob\n",
      "Arg value[1] = Scala\n",
      "Arg value[2] = Python\n"
     ]
    },
    {
     "data": {
      "text/plain": [
       "printStrings: (args: String*)Unit\n"
      ]
     },
     "execution_count": 8,
     "metadata": {},
     "output_type": "execute_result"
    }
   ],
   "source": [
    "def printStrings( args:String* ) = {\n",
    "  var i : Int = 0;\n",
    "  for( arg <- args ){\n",
    "     println(\"Arg value[\" + i + \"] = \" + arg );\n",
    "     i = i + 1;\n",
    "  }\n",
    "}\n",
    "\n",
    "printStrings(\"Runoob\", \"Scala\", \"Python\");"
   ]
  },
  {
   "cell_type": "markdown",
   "metadata": {
    "collapsed": true
   },
   "source": [
    "### scala 偏應用函數\n",
    "\n",
    "Scala 偏應用函數是一種表達式，你不需要提供函數需要的所有參數，只需要提供部分，或不提供所需參數"
   ]
  },
  {
   "cell_type": "code",
   "execution_count": 10,
   "metadata": {},
   "outputs": [
    {
     "data": {
      "text/plain": [
       "sum: (a: Int, b: Int, c: Int)Int\r\n",
       "a: (Int, Int, Int) => Int = <function3>\n"
      ]
     },
     "execution_count": 10,
     "metadata": {},
     "output_type": "execute_result"
    }
   ],
   "source": [
    "def sum(a: Int, b: Int, c: Int) = a + b + c  \n",
    "\n",
    "//Scala編譯器以偏應用函數表達式，sum _，實例化一個帶三個缺失整數參數的函數值，並把這個新的函數值的索引賦給變量a。\n",
    "//當你把這個新函數值應用於三個參數之上時，它就轉回頭調用sum，並傳入這三個參數\n",
    "val a = sum _  "
   ]
  },
  {
   "cell_type": "code",
   "execution_count": 11,
   "metadata": {},
   "outputs": [
    {
     "data": {
      "text/plain": [
       "res8: Int = 6\n"
      ]
     },
     "execution_count": 11,
     "metadata": {},
     "output_type": "execute_result"
    }
   ],
   "source": [
    "//a的變量指向一個函數值對象。\n",
    "//Scala編譯器把表達式a(1,2,3)翻譯成對函數值的apply方法的調用，傳入三個參數 1，2，3。\n",
    "a( 1 ,  2 ,  3 )  \n",
    "a.apply( 1 ,  2 ,  3 )  "
   ]
  },
  {
   "cell_type": "code",
   "execution_count": 12,
   "metadata": {},
   "outputs": [
    {
     "data": {
      "text/plain": [
       "b: Int => Int = <function1>\r\n",
       "res9: Int = 9\n"
      ]
     },
     "execution_count": 12,
     "metadata": {},
     "output_type": "execute_result"
    }
   ],
   "source": [
    "//提供了第一個和最後一個參數給sum，但中間參數缺失\n",
    "val b = sum( 1 , _: Int,  3 )  \n",
    "//這個例子裡，b.apply調用了sum(1,5,3)。\n",
    "b( 5 )  "
   ]
  },
  {
   "cell_type": "markdown",
   "metadata": {
    "collapsed": true
   },
   "source": [
    "### Scala 函數柯里化(Currying)  \n",
    "柯里化(Currying)指的是將原來接受兩個參數的函數變成新的接受一個參數的函數的過程。  \n",
    "新的函數返回一個以原有第二個參數為參數的函數。"
   ]
  },
  {
   "cell_type": "code",
   "execution_count": 13,
   "metadata": {},
   "outputs": [
    {
     "name": "stdout",
     "output_type": "stream",
     "text": [
      "3\n",
      "7\n"
     ]
    },
    {
     "data": {
      "text/plain": [
       "sum: (a: Int)(b: Int)Int\r\n",
       "s: Int => Int = <function1>\n"
      ]
     },
     "execution_count": 13,
     "metadata": {},
     "output_type": "execute_result"
    }
   ],
   "source": [
    "def sum(a: Int)(b: Int) = a + b\n",
    "println(sum(1)(2)) \n",
    "\n",
    "\n",
    "val s = sum(5)_\n",
    "println(s(2))  "
   ]
  },
  {
   "cell_type": "markdown",
   "metadata": {},
   "source": [
    "### Scala 閉包\n",
    "閉包是一個函數，返回值依賴於聲明在函數外部的一個或多個變量。"
   ]
  },
  {
   "cell_type": "code",
   "execution_count": 16,
   "metadata": {},
   "outputs": [
    {
     "name": "stdout",
     "output_type": "stream",
     "text": [
      "muliplier(1) value = 15\n"
     ]
    },
    {
     "data": {
      "text/plain": [
       "factor: Int = 3\r\n",
       "multiplier: Int => Int = <function1>\n"
      ]
     },
     "execution_count": 16,
     "metadata": {},
     "output_type": "execute_result"
    }
   ],
   "source": [
    "var factor = 3  \n",
    "val multiplier = (i:Int) => i * factor\n",
    "println( \"muliplier(1) value = \" +  multiplier(5) ) "
   ]
  },
  {
   "cell_type": "markdown",
   "metadata": {},
   "source": [
    "## scala underscore 用法 (In function)\n",
    "---\n",
    "### case 1: using underscore in input argument\n",
    "\n",
    "* use underscore for the argument of a lambda expression when **the input argument is not going to used in the body of the lambda expression** and thus you use the underscore as a placeholder instead of declaring a input argument for the lambda expression"
   ]
  },
  {
   "cell_type": "code",
   "execution_count": 4,
   "metadata": {},
   "outputs": [
    {
     "name": "stdout",
     "output_type": "stream",
     "text": [
      "**********\n",
      "**********\n",
      "**********\n",
      "**********\n",
      "-----\n",
      "**********\n",
      "**********\n",
      "**********\n",
      "**********\n"
     ]
    }
   ],
   "source": [
    "List(1,2,3,4).foreach(_ => println(\"*\" * 10))\n",
    "println(\"-----\")\n",
    "List(1,2,3,4).foreach(x => println(\"*\" * 10))\n"
   ]
  },
  {
   "cell_type": "markdown",
   "metadata": {},
   "source": [
    "### case 2: using underscore in body of lambda expression\n",
    "\n",
    "* when **underscore is used in body of lambda expression** it refers to the input argument. You can use the underscore in this fashion if the input is going to be referred only once."
   ]
  },
  {
   "cell_type": "code",
   "execution_count": 9,
   "metadata": {
    "scrolled": true
   },
   "outputs": [
    {
     "name": "stdout",
     "output_type": "stream",
     "text": [
      "1\n",
      "2\n",
      "3\n",
      "4\n",
      "-----\n",
      "1\n",
      "2\n",
      "3\n",
      "4\n"
     ]
    }
   ],
   "source": [
    "List(1,2,3,4).foreach(println(_))\n",
    "println(\"-----\")\n",
    "//等價於\n",
    "List(1,2,3,4).foreach(x => println(x))"
   ]
  },
  {
   "cell_type": "code",
   "execution_count": 12,
   "metadata": {},
   "outputs": [
    {
     "name": "stdout",
     "output_type": "stream",
     "text": [
      "*\n",
      "**\n",
      "***\n",
      "****\n",
      "-----\n",
      "*\n",
      "**\n",
      "***\n",
      "****\n"
     ]
    }
   ],
   "source": [
    "List(1,2,3,4).foreach(x => println(\"*\" * x))\n",
    "\n",
    "//等價於下式 但下式會有type mismatch的問題\n",
    "\n",
    "//List(1,2,3,4).foreach(println(\"*\" * _)) \n",
    "\n",
    "/*\n",
    "error: type mismatch;\n",
    " found   : Unit\n",
    " required: Int => ?\n",
    "       List(1,2,3,4).foreach(println(\"*\" * _))\n",
    "                                    ^\n",
    "*/\n",
    "\n",
    "println(\"-----\")\n",
    "List(1,2,3,4).map(\"*\"*_).foreach(println _)"
   ]
  },
  {
   "cell_type": "markdown",
   "metadata": {},
   "source": [
    "### case 3: refer to unapplied methods\n",
    "\n",
    "* unapplied function here means getting a reference to a function object which can be executed later on demand "
   ]
  },
  {
   "cell_type": "code",
   "execution_count": 31,
   "metadata": {},
   "outputs": [
    {
     "ename": "<console>",
     "evalue": "26: error: missing parameter type for expanded function ((x$2) => \"*\".$times(x$2))\r",
     "output_type": "error",
     "traceback": [
      "<console>:26: error: missing parameter type for expanded function ((x$2) => \"*\".$times(x$2))\r",
      "       List(1,2,3,4).foreach(_ => println((\"*\" * _)))\r",
      "                                                 ^",
      ""
     ]
    }
   ],
   "source": [
    "List(1,2,3,4).foreach(_ => println((\"*\" * _)))"
   ]
  },
  {
   "cell_type": "code",
   "execution_count": 32,
   "metadata": {},
   "outputs": [
    {
     "data": {
      "text/plain": [
       "res26: Int => String = <function1>\n"
      ]
     },
     "execution_count": 32,
     "metadata": {},
     "output_type": "execute_result"
    }
   ],
   "source": [
    "\"*\" * _"
   ]
  },
  {
   "cell_type": "code",
   "execution_count": 35,
   "metadata": {},
   "outputs": [
    {
     "data": {
      "text/plain": [
       "x: List[Int => String] = List(<function1>, <function1>, <function1>, <function1>)\r\n",
       "res28: String = ***\n"
      ]
     },
     "execution_count": 35,
     "metadata": {},
     "output_type": "execute_result"
    }
   ],
   "source": [
    "val x  = List(1,2,3,4).map(_ =>  \"*\" *_ )\n",
    "x(0).apply(3)"
   ]
  },
  {
   "cell_type": "code",
   "execution_count": 38,
   "metadata": {},
   "outputs": [
    {
     "data": {
      "text/plain": [
       "res31: List[String] = List(*, **, ***, ****)\n"
      ]
     },
     "execution_count": 38,
     "metadata": {},
     "output_type": "execute_result"
    }
   ],
   "source": [
    "List(1,2,3,4).map(x =>  \"*\" * x )\n",
    "List(1,2,3,4).map(\"*\" * _ )"
   ]
  },
  {
   "cell_type": "markdown",
   "metadata": {},
   "source": [
    "### **you cannot mix case 1 and case 2** \n",
    "* you can use the underscore either in input argument **or** in the body of the lambda function but not in both. \n",
    "* since you are mixing both the cases you are unexpectedly using case 3 of underscore"
   ]
  },
  {
   "cell_type": "code",
   "execution_count": 45,
   "metadata": {},
   "outputs": [
    {
     "name": "stdout",
     "output_type": "stream",
     "text": [
      "<function1>\n",
      "<function1>\n",
      "<function1>\n",
      "<function1>\n"
     ]
    }
   ],
   "source": [
    "List(1,2,3,4).foreach(_ => println((\"*\" * _)))"
   ]
  },
  {
   "cell_type": "markdown",
   "metadata": {},
   "source": [
    "---\n",
    "<code>\n",
    "import scala._    // Wild card -- all of Scala is imported\n",
    "import scala.{ Predef => _, _ } // Exception, everything except Predef\n",
    "def f[M[_]]       // Higher kinded type parameter\n",
    "def f(m: M[_])    // Existential type\n",
    "_ + _             // Anonymous function placeholder parameter\n",
    "m _               // Eta expansion of method into method value\n",
    "m(_)              // Partial function application\n",
    "_ => 5            // Discarded parameter\n",
    "case _ =>         // Wild card pattern -- matches anything\n",
    "val (a, _) = (1, 2) // same thing\n",
    "for (_ <- 1 to 10)  // same thing\n",
    "f(xs: _*)         // Sequence xs is passed as multiple parameters to f(ys: T*)\n",
    "case Seq(xs @ _*) // Identifier xs is bound to the whole matched sequence\n",
    "var i: Int = _    // Initialization to the default value\n",
    "def abc_<>!       // An underscore must separate alphanumerics from symbols on identifiers\n",
    "t._2              // Part of a method name, such as tuple getters\n",
    "</code>  \n",
    "\n",
    "---"
   ]
  },
  {
   "cell_type": "markdown",
   "metadata": {},
   "source": [
    "### Scala  字符串\n",
    "* String 對像是不可變的，如果你需要創建一個可以修改的字符串，可以使用String Builder 類"
   ]
  },
  {
   "cell_type": "code",
   "execution_count": 19,
   "metadata": {},
   "outputs": [
    {
     "name": "stdout",
     "output_type": "stream",
     "text": [
      "buf is : abcdef_cat \n"
     ]
    },
    {
     "data": {
      "text/plain": [
       "buf: StringBuilder = abcdef_cat\n"
      ]
     },
     "execution_count": 19,
     "metadata": {},
     "output_type": "execute_result"
    }
   ],
   "source": [
    "val buf = new StringBuilder;\n",
    "buf += 'a'\n",
    "buf ++= \"bcdef\"\n",
    "buf.append(\"_cat \")\n",
    "println( \"buf is : \" + buf.toString );"
   ]
  },
  {
   "cell_type": "code",
   "execution_count": 20,
   "metadata": {},
   "outputs": [
    {
     "name": "stdout",
     "output_type": "stream",
     "text": [
      "Cats: @, dogs: %\n",
      "Cats: 10, dogs: 20\n"
     ]
    },
    {
     "data": {
      "text/plain": [
       "format: String = Cats: @, dogs: %\r\n",
       "builder: StringBuilder = Cats: 10, dogs: 20\r\n",
       "cats: Int = 10\r\n",
       "dogs: Int = 20\r\n",
       "result: String = Cats: 10, dogs: 20\n"
      ]
     },
     "execution_count": 20,
     "metadata": {},
     "output_type": "execute_result"
    }
   ],
   "source": [
    "// Use this as a custom format string.\n",
    "val format = \"Cats: @, dogs: %\"\n",
    "println(format)\n",
    "\n",
    "// Create a new StringBuilder.\n",
    "val builder = StringBuilder.newBuilder\n",
    "val cats = 10\n",
    "val dogs = 20\n",
    "\n",
    "// Loop over the format string.\n",
    "// ... Append values in place of format characters.\n",
    "for (i <- format.indices) {\n",
    "    if (format(i) == '@') {\n",
    "        builder.append(cats)\n",
    "    }\n",
    "    else if (format(i) == '%') {\n",
    "        builder.append(dogs)\n",
    "    }\n",
    "    else {\n",
    "        builder.append(format(i))\n",
    "    }\n",
    "}\n",
    "\n",
    "// Print the results.\n",
    "val result = builder.toString()\n",
    "println(result)"
   ]
  },
  {
   "cell_type": "code",
   "execution_count": 21,
   "metadata": {},
   "outputs": [
    {
     "data": {
      "text/plain": [
       "palindrome: String = www.runoob.com\r\n",
       "len: Int = 14\n"
      ]
     },
     "execution_count": 21,
     "metadata": {},
     "output_type": "execute_result"
    }
   ],
   "source": [
    "//字符串長度 可以使用length() 方法來獲取\n",
    "var palindrome = \"www.runoob.com\";\n",
    "var len = palindrome.length();"
   ]
  },
  {
   "cell_type": "markdown",
   "metadata": {},
   "source": [
    "### 字符串連接  \n",
    "* String 類中使用concat() 方法來連接兩個字符串：  \n",
    "string1.concat(string2);  \n",
    "同樣你也可以使用加號(+)來連接\n",
    "---"
   ]
  },
  {
   "cell_type": "markdown",
   "metadata": {},
   "source": [
    "### printf() \n",
    "String 類中你可以使用printf() 方法來格式化字符串並輸出，  \n",
    "String format() 方法可以返回String 對象而不是PrintStream 對象"
   ]
  },
  {
   "cell_type": "code",
   "execution_count": 22,
   "metadata": {},
   "outputs": [
    {
     "name": "stdout",
     "output_type": "stream",
     "text": [
      "floatVar 12.456000,intVar 2000, stringVar  test()\n"
     ]
    },
    {
     "data": {
      "text/plain": [
       "floatVar: Double = 12.456\r\n",
       "intVar: Int = 2000\r\n",
       "stringVar: String = test\r\n",
       "fs: Unit = ()\n"
      ]
     },
     "execution_count": 22,
     "metadata": {},
     "output_type": "execute_result"
    }
   ],
   "source": [
    "var floatVar = 12.456\n",
    "var intVar = 2000\n",
    "var stringVar = \"test\"\n",
    "var fs = printf(\"floatVar \" +\"%f,intVar %d, stringVar \" +\" %s\", floatVar, intVar, stringVar)\n",
    "println(fs)"
   ]
  },
  {
   "cell_type": "markdown",
   "metadata": {},
   "source": [
    "---\n",
    "### Scala 類  \n",
    "* 類是對象的抽象，而對像是類的具體實例。類是抽象的，不佔用內存，而對像是具體的，佔用存儲空間。  \n",
    "  類是用於創建對象的藍圖，它是一個定義包括在特定類型的對像中的方法和變量的軟件模板。  \n",
    "* 我們可以使用new 來實例化類，並訪問類中的方法和變量 (通常Scala中的類不聲明為public)\n"
   ]
  },
  {
   "cell_type": "markdown",
   "metadata": {},
   "source": [
    "####  結構說明 :"
   ]
  },
  {
   "cell_type": "markdown",
   "metadata": {
    "collapsed": true
   },
   "source": [
    "<code>\n",
    "\n",
    "class Name [private] ( **Main Constructor 的參數就直接定義在這** ) {   \n",
    "從頭開始定義的還是Main Constructor的一部分\n",
    "\n",
    "**auxiliary constructor** 使用this來創建一個或多個輔助 constructor\n",
    "但是第一行要調用主constructor或是其他輔助constructor\n",
    "e.g. def this(name: String){\n",
    "    this() -> 調用主constructor\n",
    "    this.name = name\n",
    "    }\n",
    "}\n",
    "    \n",
    "</code>  \n",
    "\n",
    "---\n"
   ]
  },
  {
   "cell_type": "markdown",
   "metadata": {
    "collapsed": true
   },
   "source": [
    "### Scala 繼承   \n",
    "* Scala繼承一個基類跟Java很相似，只多了兩點限制：\n",
    "    1. 字段和重寫方法需要override關鍵字\n",
    "    2. 只有主構造函數才可以往基類(父類)的構造函數里寫參數  \n",
    "* 繼承會繼承父類的所有屬性和方法，Scala 只允許繼承一個父類"
   ]
  },
  {
   "cell_type": "code",
   "execution_count": 22,
   "metadata": {},
   "outputs": [
    {
     "name": "stdout",
     "output_type": "stream",
     "text": [
      "28.274333882308138\n",
      "6.0\n"
     ]
    },
    {
     "data": {
      "text/plain": [
       "defined class Shape\r\n",
       "defined class Rectangle\r\n",
       "defined class Circle\r\n",
       "draw: (s: Shape)Unit\r\n",
       "circle: Unit = ()\r\n",
       "rectangle: Unit = ()\n"
      ]
     },
     "execution_count": 22,
     "metadata": {},
     "output_type": "execute_result"
    }
   ],
   "source": [
    "class Shape {\n",
    "   def area:Double = 0.0\n",
    "}\n",
    "\n",
    "\n",
    "class Rectangle(val width:Double,val height:Double) extends Shape {\n",
    "   override def area:Double = width*height\n",
    "}\n",
    "class Circle(val radius:Double) extends Shape {\n",
    "   override def area:Double = math.Pi*radius*radius\n",
    "}\n",
    "\n",
    "def draw(s:Shape){println(s.area)}\n",
    "\n",
    "//現在，考慮對這個函數的兩個調用，像這樣：\n",
    "val circle = draw(new Circle(3))\n",
    "val rectangle = draw(new Rectangle(2,3))"
   ]
  },
  {
   "cell_type": "code",
   "execution_count": 18,
   "metadata": {},
   "outputs": [
    {
     "name": "stdout",
     "output_type": "stream",
     "text": [
      "x  : 20\n",
      "y  : 30\n",
      "z  : 20\n"
     ]
    },
    {
     "data": {
      "text/plain": [
       "import java.io._\r\n",
       "defined class Point\r\n",
       "defined class Location\r\n",
       "loc: Location = Location@6dcd73c5\n"
      ]
     },
     "execution_count": 18,
     "metadata": {},
     "output_type": "execute_result"
    }
   ],
   "source": [
    "import java.io._\n",
    "\n",
    "class Point(xc: Int, yc: Int) {\n",
    "   var x: Int = xc\n",
    "   var y: Int = yc\n",
    "\n",
    "   def move(dx: Int, dy: Int) {\n",
    "      x = x + dx\n",
    "      y = y + dy\n",
    "      println (\"x : \" + x);\n",
    "      println (\"y : \" + y);\n",
    "   }\n",
    "}\n",
    "\n",
    "class Location(val xc: Int, val yc: Int, val zc :Int) extends Point(xc, yc){\n",
    "    var z: Int = zc\n",
    "    \n",
    "    /*move前面不能放 overide 會出現底下錯誤 \n",
    "    error: method move overrides nothing.\n",
    "    the super classes of class Location contain the following, non final members named move\n",
    "    不能重載其父類，是因為參數類型不一致\n",
    "    */\n",
    "    def move(dx: Int, dy: Int, dz: Int) {\n",
    "      x = x + dx\n",
    "      y = y + dy\n",
    "      z = z + dz\n",
    "      println (\"x  : \" + x);\n",
    "      println (\"y  : \" + y);\n",
    "      println (\"z  : \" + z);\n",
    "   }\n",
    "}\n",
    "\n",
    "val loc = new Location(10, 20, 15);\n",
    "loc.move(10, 10, 5);"
   ]
  },
  {
   "cell_type": "markdown",
   "metadata": {
    "collapsed": true
   },
   "source": [
    "### Scala  case class  \n",
    "\n",
    "* Scala可以創建具有常見內容填充的類。  \n",
    "  大多數時候，當我們定義一個類時，我們必須編寫toString，hashCode和equals方法。  \n",
    "  Scala提供了用於填充這些空白的case類機制，以及支持模式匹配。  \n",
    "  \n",
    "\n",
    "* case類提供與普通類相同的功能，但編譯器生成toString，hashCode和equals方法，可以覆蓋。  \n",
    "  \n",
    "\n",
    "*  可以在不使用 new 的情況下實例化Case類。  \n",
    "  \n",
    "\n",
    "* default序列化的實現。  \n",   
    "  \n",
    "\n",
    "* 從scala.Product自動繼承的少量功能  \n",   
    "  \n",
    "\n",
    "* 默認情況下，case類的構造函數中的所有參數都成為case類的屬性。"
   ]
  },
  {
   "cell_type": "code",
   "execution_count": 40,
   "metadata": {},
   "outputs": [
    {
     "name": "stdout",
     "output_type": "stream",
     "text": [
      "Stuff(David,45)\n",
      "45\n",
      "---\n",
      "true\n",
      "false\n"
     ]
    },
    {
     "data": {
      "text/plain": [
       "defined class Stuff\r\n",
       "s: Stuff = Stuff(David,45)\n"
      ]
     },
     "execution_count": 40,
     "metadata": {},
     "output_type": "execute_result"
    }
   ],
   "source": [
    "case class Stuff(name:String, age: Int)\n",
    "\n",
    "val s = Stuff(\"David\", 45) \n",
    "\n",
    "println(s.toString)\n",
    "println(s.age.toString)\n",
    "\n",
    "println(\"---\")\n",
    "\n",
    "println(s == Stuff(\"David\",45))\n",
    "println(s == Stuff(\"David\",43))"
   ]
  },
  {
   "cell_type": "markdown",
   "metadata": {
    "collapsed": true
   },
   "source": [
    "### case class最重要的功能，就是可以作為match運算式的case比對條件"
   ]
  },
  {
   "cell_type": "code",
   "execution_count": 41,
   "metadata": {},
   "outputs": [
    {
     "name": "stdout",
     "output_type": "stream",
     "text": [
      "start\n",
      "run to Point(0,1)\n",
      "run to Point(2,3)\n",
      "End\n"
     ]
    },
    {
     "data": {
      "text/plain": [
       "defined class Point\r\n",
       "go: (p: Point)String\n"
      ]
     },
     "execution_count": 41,
     "metadata": {},
     "output_type": "execute_result"
    }
   ],
   "source": [
    "case class Point(x: Int, y: Int)\n",
    "\n",
    "def go(p: Point) = p match {\n",
    "    case Point(0, 0) => \"start\"\n",
    "    case Point(10, 10) => \"End\"\n",
    "    case _ => \"run to \" + p\n",
    "}\n",
    "\n",
    "println(go(Point(0, 0)))\n",
    "println(go(Point(0, 1)))    // Point(0,1)\n",
    "println(go(Point(2, 3)))    // Point(2,3)\n",
    "println(go(Point(10, 10)))  "
   ]
  },
  {
   "cell_type": "markdown",
   "metadata": {
    "collapsed": true
   },
   "source": [
    "### Scala 對象\n",
    "\n",
    "* 在Scala 中，是沒有static 這個東西的，但是它也提供了單例模式的實現方法，那就是使用關鍵字object。\n",
    "* Scala 中使用單例模式時，除了定義的類之外，還要定義一個同名的object對象，它和類的區別是，**object對像不能帶參數**。\n",
    "\n",
    "---\n",
    "\n",
    "我們可以將singleton對像用於許多目的，包括收集相關的實用程序方法，或者定義一個到Scala應用程序的入口點。  \n",
    "\n",
    "有兩種方法為應用程序創建啟動點：使用正確定義的main方法定義對象，或定義對像或擴展App特性。  \n",
    "\n",
    "對於第二種方法，定義一個擴展App trait的對象，如下所示：  \n",
    "\n",
    "object Main extends App {\n",
    "    println( \"Hello, world\" )\n",
    "}   \n",
    "  \n",
    "  \n",
    "object Test {\n",
    " def main(args: Array[String]) { }\n",
    " }\n",
    "\n"
   ]
  },
  {
   "cell_type": "markdown",
   "metadata": {
    "collapsed": true
   },
   "source": [
    "### Scala 伴生對象\n",
    "\n",
    "* 當單例對象與某個類共享同一個名稱時，你必須在同一個源文件裡定義類和它的伴生對象：companion object 和 companion class。\n",
    "* 類和它的伴生對象**可以互相訪問其私有成員**  \n",
    "- 在java中被宣告為stastic 的方法和成員可以直接把class作為命名空間 --> classname.成員或是函數 來呼叫\n",
    "- 而在scala 他沒有static 所以 利用伴生對象的話\n",
    "    1. class  的成員 - 實例成員 - 屬於對象的, 每個實例都會有自己的副本\n",
    "    2. object 的成員 - static成員 - 屬於類,會被所有實例共享\n",
    "\n",
    "---\n",
    "\n",
    "### Scala Traits\n",
    "\n",
    "* Traits就像Java中的接口(Interface)，與接口不同的是，它還可以定義屬性和方法的實現。  \n",
    "* 一般情況下Scala的類只能夠繼承單一父類，但是如果是Trait(特徵) 的話就可以繼承多個，從結果來看就是實現了多重繼承。\n",
    "* 在Scala中，當一個類從trait繼承時，它實現trait的接口，並繼承trait中包含的所有代碼。\n",
    "    \n",
    "       \n",
    "       \n",
    "  \n",
    "* 在Scala中，traits可以繼承類。當一個類繼承一個trait作為其父類時，也使用關鍵字extends。\n",
    "* 即使當類使用with關鍵字在其他traits中混合時，也使用關鍵字extends。\n",
    "    1. 如果是待聲明的類沒有擴展其他類只是或入了一些trait那麼必須用extends關鍵字，並把它用在第一個trait之前而其它的trait之前用with關鍵字\n",
    "    2. 如果在實例化某一個類型的時候想要混入某一個trait，這個時候要用with關鍵字\n",
    "* 此外，當一個trait是另一個trait或類的子對象時使用extends。  "
   ]
  },
  {
   "cell_type": "code",
   "execution_count": 6,
   "metadata": {},
   "outputs": [
    {
     "name": "stdout",
     "output_type": "stream",
     "text": [
      "---object access the class---\n",
      "find the secret number : 2\n",
      "---class access the object---\n",
      "I can see boo's object\n"
     ]
    },
    {
     "data": {
      "text/plain": [
       "defined class foo\r\n",
       "defined object foo\r\n",
       "defined class boo\r\n",
       "defined object boo\r\n",
       "f: foo = foo@3741d4ce\r\n",
       "b: boo = boo@1ec04af9\n"
      ]
     },
     "execution_count": 6,
     "metadata": {},
     "output_type": "execute_result"
    }
   ],
   "source": [
    "class foo {\n",
    "    private val secret = 2\n",
    "}\n",
    "\n",
    "object foo {\n",
    "    \n",
    "    def get_private(f:foo) = {println(s\"find the secret number : ${f.secret}\" )}\n",
    "}\n",
    "\n",
    "//---\n",
    "\n",
    "class boo {\n",
    "    \n",
    "    def printObj { println(s\"I can see ${boo.obj}\") }\n",
    "}\n",
    "\n",
    "\n",
    "object boo {\n",
    "    private val obj = \"boo's object\"\n",
    "}\n",
    "//---\n",
    "\n",
    "println(\"---object access the class---\")\n",
    "val f = new foo\n",
    "foo.get_private(f)\n",
    "\n",
    "println(\"---class access the object---\")\n",
    "val b = new boo\n",
    "b.printObj\n",
    "\n"
   ]
  },
  {
   "cell_type": "code",
   "execution_count": 4,
   "metadata": {},
   "outputs": [
    {
     "name": "stdout",
     "output_type": "stream",
     "text": [
      "****"
     ]
    },
    {
     "data": {
      "text/plain": [
       "defined class Marker\r\n",
       "defined object Marker\n"
      ]
     },
     "execution_count": 4,
     "metadata": {},
     "output_type": "execute_result"
    }
   ],
   "source": [
    "// 私有構造方法\n",
    "class Marker private(val color:String) {\n",
    "    \n",
    "    ////在scala中，this是一個關鍵字，用於引用當前對象。可以使用this關鍵字調用實例變量，方法，構造函數。\n",
    "    println(\"create \" + this) \n",
    "    override def toString(): String = \"color mark ：\"+ color\n",
    "\n",
    "}\n",
    "\n",
    "// 伴生對象，與類共享名字，可以訪問類的私有屬性和方法\n",
    "object Marker{\n",
    "\n",
    "    private val markers: Map[String, Marker] = Map(\n",
    "      \"red\" -> new Marker(\"red\"),\n",
    "      \"blue\" -> new Marker(\"blue\"),\n",
    "      \"green\" -> new Marker(\"green\")\n",
    "    )\n",
    "\n",
    "    def apply(color:String) = {\n",
    "      if(markers.contains(color)) markers(color) else null\n",
    "    }\n",
    "\n",
    "    def getMarker(color:String) = { \n",
    "      if(markers.contains(color)) markers(color) else null\n",
    "    }\n",
    "    def main(args: Array[String]) { \n",
    "        println(Marker(\"red\"))  \n",
    "        // 單例函數調用，省略了.(點)符號\n",
    "        println(Marker getMarker \"blue\")  \n",
    "    }\n",
    "}\n",
    "\n",
    "println(\"****\")\n",
    "println(Marker(\"red\"))\n",
    "println(Marker getMarker \"blue\")\n",
    "\n",
    "/*\n",
    "create color mark ：red\n",
    "create color mark ：blue\n",
    "create color mark ：green\n",
    "color mark ：red\n",
    "color mark ：blue\n",
    "\n",
    "*/"
   ]
  },
  {
   "cell_type": "code",
   "execution_count": 8,
   "metadata": {},
   "outputs": [
    {
     "data": {
      "text/plain": [
       "defined trait flying\r\n",
       "defined trait gliding\r\n",
       "defined class Vehicle\r\n",
       "defined class Car\r\n",
       "defined class Bike\r\n",
       "defined class AirCraft\n"
      ]
     },
     "execution_count": 8,
     "metadata": {},
     "output_type": "execute_result"
    }
   ],
   "source": [
    "// extends & with\n",
    "trait flying {\n",
    "    def fly() = println(\"flying\")\n",
    "}\n",
    "\n",
    "trait gliding {\n",
    "    def gliding() = println(\"gliding\")\n",
    "}\n",
    "\n",
    "\n",
    "class Vehicle (speed : Int){\n",
    "    val mph :Int = speed\n",
    "    def race() = println(\"Racing\")\n",
    "}\n",
    "class Car (speed : Int) extends Vehicle(speed) {\n",
    "    override val mph: Int= speed\n",
    "    override def race() = println(\"Racing Car\")\n",
    "\n",
    "}\n",
    "class Bike(speed : Int) extends Vehicle(speed) {\n",
    "    override val mph: Int = speed\n",
    "    override def race() = println(\"Racing Bike\")\n",
    "}\n",
    "\n",
    "class AirCraft(speed : Int) extends Vehicle(speed) with flying with gliding{\n",
    "    override val mph: Int = speed\n",
    "    override def race() = println(\"Racing\")\n",
    "    override def fly() = println(\"Flying\")\n",
    "    override def gliding() = println(\"Gliding\")\n",
    "}"
   ]
  },
  {
   "cell_type": "code",
   "execution_count": 4,
   "metadata": {},
   "outputs": [
    {
     "data": {
      "text/plain": [
       "defined trait Shape\r\n",
       "defined object Shape\r\n",
       "defined object Main\n"
      ]
     },
     "execution_count": 4,
     "metadata": {},
     "output_type": "execute_result"
    }
   ],
   "source": [
    "trait Shape {\n",
    "    def area :Double\n",
    "}\n",
    "object Shape {\n",
    "    private  class Circle(radius: Double) extends Shape{\n",
    "        override val area = 3.14*radius*radius\n",
    "    }\n",
    "    \n",
    "    private  class Rectangle (height: Double, length: Double) extends Shape{\n",
    "        override val area = height * length\n",
    "    }\n",
    "    \n",
    "    def apply(height :Double , length :Double ) : Shape = new Rectangle(height,length)\n",
    "    def apply(radius :Double) : Shape = new Circle(radius)\n",
    "\n",
    "}\n",
    "\n",
    "object Main extends App {\n",
    "    val circle_ins = Shape(2)\n",
    "    println(circle_ins.area)\n",
    "    val rectangle_ins = Shape(2,3)\n",
    "    println(rectangle_ins.area)\n",
    "}"
   ]
  },
  {
   "cell_type": "markdown",
   "metadata": {},
   "source": [
    "### scala package object\n",
    "* 您希望在包級別上使Scala函數，字段和其他代碼可用，而不需要類或對象。\n",
    "* By convention, put your code in a file named package.scala in the directory where you want your code to be available.   \n",
    "\n",
    "\n",
    "1. 想要作用在 package alvinalexander.myapp.model 都可以用到package object  \n",
    "\n",
    "example :  \n",
    "\n",
    "        +-- alvinalexander  \n",
    "            +-- myapp   \n",
    "                +-- model  \n",
    "                    +-- package.scala \n",
    "                    (package.scala裡面用到的宣告是\n",
    "                    package alvinalexander.myapp\n",
    "                    package object model {--}\n",
    "                    則在alvinalexander.myapp.model這層內裡面都吃得到package object的函數，字段和其他代碼)  \n",
    "2. 假設是這樣\n",
    "\n",
    "        +-- alvinalexander  \n",
    "            +-- myapp   \n",
    "                +-- model  \n",
    "                    +-- dir(裡面有其他files)  \n",
    "                        +-- test\n",
    "                    +-- package.scala                  \n",
    "                        (則在此範例中 由於scala 2.8的chained package的scope改變,在test之中\n",
    "                        package alvinalexander.myapp.model.dir(x) --> 不會被視為同一個nested package底下\n",
    "                        正確會是底下 :\n",
    "                        package alvinalexander.myapp.model\n",
    "                        package dir )\n",
    "\n",
    "                    "
   ]
  },
  {
   "cell_type": "markdown",
   "metadata": {},
   "source": [
    "### Scala 資料結構  \n",
    "\n",
    "* 所有的集合類都可以在包 scala.collection中找到   \n",
    "    (scala.collection.mutable，scala.collection.immutable，scala.collection.generic)   \n",
    "\n",
    "### 序列的操作有以下幾種，如下表所示：\n",
    "    1. 序列的length方法是collection的size方法的別名。lengthCompare方法可以比較兩個序列的長度，即便其中一個序列長度無限也可以處理。\n",
    "    2. 索引檢索操作（indexOf、lastIndexOf、indexofSlice、lastIndexOfSlice...）用於返回等於給定值或滿足某個謂詞的元素的索引。\n",
    "    3. 加法運算（+:，:+，padTo）用於在序列的前面或者後面添加一個元素並作為新序列返回。\n",
    "    4. 更新操作（updated，patch）用於替換原序列的某些元素並作為一個新序列返回。\n",
    "    5. 排序操作（sorted, sortWith, sortBy）根據不同的條件對序列元素進行排序。\n",
    "    6. 反轉操作（reverse, reverseIterator, reverseMap）用於將序列中的元素以相反的順序排列。\n",
    "    7. 比較（startsWith, endsWith, contains, containsSlice, corresponds）用於對兩個序列進行比較，或者在序列中查找某個元素。\n",
    "    8. 多集操作（intersect, diff, union, distinct）用於對兩個序列中的元素進行類似集合的操作，或者刪除重複元素。  \n",
    "       \n",
    "       \n",
    "* 常用線性序列有scala.collection.immutable.List和scala.collection.immutable.Stream。\n",
    "* 常用索引序列有scala.Array scala.collection.mutable.ArrayBuffer     \n",
    "\n",
    "\n",
    "### 緩衝器的操作\n",
    "* Buffers是可變序列一個重要的種類。它們不僅允許更新現有的元素，而且允許元素的插入、移除和在buffer尾部高效地添加新元素。\n",
    "* buffer支持的主要新方法有：\n",
    "    1. 用於在尾部添加元素的+=和++=；用於在前方添加元素的+=: 和 ++=:；\n",
    "    2. 用於插入元素的insert和insertAll；以及用於刪除元素的 remove和-=。  \n",
    "       \n",
    "       \n",
    "* ListBuffer和ArrayBuffer是常用的buffer實現。顧名思義，ListBuffer依賴列表（List），支持高效地將它的元素轉換成列表。而ArrayBuffer依賴數組（Array），能快速地轉換成數組。\n",
    "\n",
    "---\n",
    "### Scala array \n",
    "    - 由相同類型的元素的集合組成的數據結構。\n",
    "    - 元素與索引相關聯，索引通常為整數，用於訪問或替換特定元素。\n",
    "    - 有兩種方法來定義數組：指定元素的總數，然後將值分配給元素，或者我們可以一次指定所有值。"
   ]
  },
  {
   "cell_type": "code",
   "execution_count": 35,
   "metadata": {},
   "outputs": [
    {
     "data": {
      "text/plain": [
       "books: Array[String] = Array(null, null, null)\r\n",
       "books2: Array[String] = Array(null, null, null, null)\n"
      ]
     },
     "execution_count": 35,
     "metadata": {},
     "output_type": "execute_result"
    }
   ],
   "source": [
    "var books = new Array[String](3) \n",
    "var books2 = new Array[String](4) "
   ]
  },
  {
   "cell_type": "code",
   "execution_count": 36,
   "metadata": {},
   "outputs": [
    {
     "data": {
      "text/plain": [
       "books: Array[String] = [Ljava.lang.String;@27cc8543\r\n",
       "books2: Array[String] = [Ljava.lang.String;@6579ae9d\n"
      ]
     },
     "execution_count": 36,
     "metadata": {},
     "output_type": "execute_result"
    }
   ],
   "source": [
    "books = Array(\"Scala\", \"Java\", \"Groovy\") \n",
    "books2 = Array(\"C\", \"C++\", \"R\", \"python\") \n",
    "books(1) = \"C#\" "
   ]
  },
  {
   "cell_type": "code",
   "execution_count": 37,
   "metadata": {},
   "outputs": [
    {
     "data": {
      "text/plain": [
       "res22: Array[java.io.Serializable] = Array(Array(Scala, C#, Groovy), C, C++, R, python)\n"
      ]
     },
     "execution_count": 37,
     "metadata": {},
     "output_type": "execute_result"
    }
   ],
   "source": [
    "books +: books2"
   ]
  },
  {
   "cell_type": "code",
   "execution_count": 38,
   "metadata": {},
   "outputs": [
    {
     "data": {
      "text/plain": [
       "res23: Array[String] = Array(Scala, C#, Groovy, C, C++, R, python)\n"
      ]
     },
     "execution_count": 38,
     "metadata": {},
     "output_type": "execute_result"
    }
   ],
   "source": [
    "books ++ books2"
   ]
  },
  {
   "cell_type": "code",
   "execution_count": 39,
   "metadata": {},
   "outputs": [
    {
     "data": {
      "text/plain": [
       "matrix: Array[Array[Int]] = Array(Array(1234, 0), Array(0, 0))\n"
      ]
     },
     "execution_count": 39,
     "metadata": {},
     "output_type": "execute_result"
    }
   ],
   "source": [
    "// 2維array\n",
    "val matrix = Array.ofDim[Int](2,2)\n",
    "matrix(0)(0) = 1234"
   ]
  },
  {
   "cell_type": "code",
   "execution_count": 48,
   "metadata": {},
   "outputs": [
    {
     "name": "stdout",
     "output_type": "stream",
     "text": [
      "spark hadoop kafka \n",
      "------------------\n",
      "spark hadoop \n",
      "------------------\n",
      "mesos zero xyz marathon \n",
      "------------------\n",
      "spark hadoop kafka mesos marathon "
     ]
    },
    {
     "data": {
      "text/plain": [
       "names: Array[String] = Array(spark, hadoop, kafka, hive, mesos, zero, xyz, marathon)\n"
      ]
     },
     "execution_count": 48,
     "metadata": {},
     "output_type": "execute_result"
    }
   ],
   "source": [
    "//補充: take 操作\n",
    "val names = Array(\"spark\", \"hadoop\",\"kafka\",\"hive\", \"mesos\", \"zero\", \"xyz\",\"marathon\")\n",
    "\n",
    "//takeWhile, 從第一個元素開始判斷，滿足條件，就留下，直到遇到第一個不滿足的條件的元素，就結束循環\n",
    "//可見，takeWhile 有可能並不是對所有的元素進行操作的\n",
    "names.takeWhile(_.length > 4 ).foreach{x => print(x + \" \")}\n",
    "\n",
    "println(\"\\n------------------\")\n",
    "//從左邊開始獲取2個元素，\n",
    "names.take(2).foreach{x => print(x + \" \")}\n",
    "\n",
    "println(\"\\n------------------\")\n",
    "\n",
    "//從右邊開始獲取4個元素，\n",
    "names.takeRight(4).foreach{x => print(x + \" \")}\n",
    "\n",
    "println(\"\\n------------------\")\n",
    "//filter， 同樣，滿足條件，就留下。是對所有的元素，進行操作的\n",
    "names.filter(_.length > 4).foreach{x => print(x + \" \")}//將\"xyz\"元素，過濾掉了"
   ]
  },
  {
   "cell_type": "markdown",
   "metadata": {},
   "source": [
    "### Scala列表\n",
    "* 在Scala列表中，所有元素都具有類似數組的類型，但與數組不同，列表的元素不能通過賦值進行更改。\n",
    "* 具有類型T的元素的列表被寫為List [T]。\n",
    "* 列表可以使用tail Nil和::定義。\n",
    "  1. Nil也表示空列表。\n",
    "  2. 列表上的操作可以用head和tail方法表示，其中head返回列表的第一個元素，tail返回一個由除第一個元素之外的所有元素組成的列表\n",
    "  3. 可以使用:::運算符或List.:::()方法或List.concat()方法來連接兩個或多個列表。\n",
    "  4. List.tabulate() 方法是通過給定的函數來創建列表。"
   ]
  },
  {
   "cell_type": "code",
   "execution_count": 23,
   "metadata": {},
   "outputs": [
    {
     "ename": "<console>",
     "evalue": "29: error: value update is not a member of List[String]\r",
     "output_type": "error",
     "traceback": [
      "<console>:29: error: value update is not a member of List[String]\r",
      "       books(1) = \"R\"\r",
      "       ^",
      ""
     ]
    }
   ],
   "source": [
    "val books: List[String] = List(\"Scala\", \"Groovy\", \"Java\") \n",
    "books(1) = \"R\""
   ]
  },
  {
   "cell_type": "code",
   "execution_count": 28,
   "metadata": {},
   "outputs": [
    {
     "data": {
      "text/plain": [
       "books: List[String] = List(Scala, Groovy, Java)\n"
      ]
     },
     "execution_count": 28,
     "metadata": {},
     "output_type": "execute_result"
    }
   ],
   "source": [
    "// 1 :: 2 :: Nil  --> a list\n",
    "// list1 ::: list2  --> concatenation of two lists\n",
    "\n",
    "val books = \"Scala\" :: (\"Groovy\" :: (\"Java\" :: Nil)) "
   ]
  },
  {
   "cell_type": "code",
   "execution_count": 40,
   "metadata": {},
   "outputs": [
    {
     "data": {
      "text/plain": [
       "mul: List[List[Int]] = List(List(0, 0, 0, 0, 0), List(0, 1, 2, 3, 4), List(0, 2, 4, 6, 8), List(0, 3, 6, 9, 12))\n"
      ]
     },
     "execution_count": 40,
     "metadata": {},
     "output_type": "execute_result"
    }
   ],
   "source": [
    " val mul = List.tabulate( 4,5 )( _ * _ )      "
   ]
  },
  {
   "cell_type": "markdown",
   "metadata": {},
   "source": [
    "### Scala Set(集合)是沒有重複的對象集合，所有的元素都是唯一的。\n",
    "* Scala 集合分為可變的和不可變的集合。\n",
    "* 默認情況下，Scala使用的是不可變集合，如果你想使用可變集合，需要引用scala.collection.mutable.Set包。  \n",
    "  \n",
    "  \n",
    "1. 你可以使用++運算符或Set.++()方法來連接兩個集合。如果元素有重複的就會移除重複的元素\n",
    "2. 你可以使用Set.min方法來查找集合中的最小元素，使用Set.max方法查找集合中的最大元素\n",
    "3. 你可以使用Set.&方法或Set.intersect方法來查看兩個集合的交集元素"
   ]
  },
  {
   "cell_type": "code",
   "execution_count": 41,
   "metadata": {},
   "outputs": [
    {
     "name": "stdout",
     "output_type": "stream",
     "text": [
      "num1.&(num2) : Set(20, 9)\n"
     ]
    },
    {
     "data": {
      "text/plain": [
       "num1: scala.collection.immutable.Set[Int] = Set(5, 20, 6, 9, 45, 30)\r\n",
       "num2: scala.collection.immutable.Set[Int] = Set(20, 60, 9, 35, 50, 55)\n"
      ]
     },
     "execution_count": 41,
     "metadata": {},
     "output_type": "execute_result"
    }
   ],
   "source": [
    "val num1 = Set(5,6,9,20,30,45)\n",
    "val num2 = Set(50,60,9,20,35,55)\n",
    "println( \"num1.&(num2) : \" + num1.&(num2) )"
   ]
  },
  {
   "cell_type": "markdown",
   "metadata": {},
   "source": [
    "### Buffer 類操作\n",
    "* Buffers是可變序列一個重要的種類。它們不僅允許更新現有的元素，而且允許元素的插入、移除和在buffer尾部高效地添加新元素。\n",
    "* buffer支持的主要新方法有：用於在尾部添加元素的+=和++=；用於在前方添加元素的+=: 和 ++=:；\n",
    "* 用於插入元素的insert和insertAll；以及用於刪除元素的 remove和-=。"
   ]
  },
  {
   "cell_type": "code",
   "execution_count": 47,
   "metadata": {},
   "outputs": [
    {
     "data": {
      "text/plain": [
       "import scala.collection.mutable.ArrayBuffer\r\n",
       "buf: scala.collection.mutable.ArrayBuffer[Int] = ArrayBuffer(1, 10)\r\n",
       "res29: Array[Int] = Array(1, 10)\n"
      ]
     },
     "execution_count": 47,
     "metadata": {},
     "output_type": "execute_result"
    }
   ],
   "source": [
    "import scala.collection.mutable.ArrayBuffer\n",
    "\n",
    "var buf = ArrayBuffer.empty[Int]\n",
    "\n",
    "buf += 1\n",
    "buf += 10\n",
    "buf.toArray"
   ]
  },
  {
   "cell_type": "markdown",
   "metadata": {},
   "source": [
    "### scala Stream（流） --> immutable\n",
    "\n",
    "* 流Stream與List很相似，只不過其中的每一個元素都經過了一些簡單的計算處理。  \n",
    "    也正是因為如此，stream結構可以無限長。只有那些被要求的元素才會經過計算處理，除此以外stream結構的性能特性與List基本相同。\n",
    "\n",
    "* 鑑於List通常使用:: 運算符來進行構造，stream使用外觀上很相像的#::。\n",
    "* stream被特別定義為懶惰計算"
   ]
  },
  {
   "cell_type": "code",
   "execution_count": 56,
   "metadata": {},
   "outputs": [
    {
     "name": "stdout",
     "output_type": "stream",
     "text": [
      "70 false\n",
      "59 false\n",
      "96 true\n",
      "91 false\n",
      "43 false\n",
      "82 false\n",
      "86 false\n",
      "14 false\n",
      "23 false\n",
      "9 true\n",
      "46 false\n",
      "75 true\n",
      "13 false\n",
      "50 false\n",
      "61 false\n",
      "90 true\n",
      "96 true\n",
      "97 false\n",
      "51 true\n",
      "51 true\n",
      "13 false\n",
      "93 true\n",
      "77 false\n",
      "68 false\n",
      "17 false\n",
      "88 false\n",
      "22 false\n",
      "40 false\n",
      "34 false\n",
      "26 false\n",
      "97 false\n",
      "43 false\n",
      "65 false\n",
      "63 true\n",
      "44 false\n",
      "54 true\n",
      "70 false\n",
      "80 false\n",
      "78 true\n",
      "42 true\n",
      "55 false\n",
      "47 false\n",
      "34 false\n",
      "28 false\n",
      "74 false\n",
      "64 false\n",
      "93 true\n",
      "67 false\n",
      "75 true\n",
      "40 false\n"
     ]
    },
    {
     "data": {
      "text/plain": [
       "import util.Random\r\n",
       "randomList: List[Int]\r\n",
       "isDivisibleBy3: (n: Int)Boolean\r\n",
       "res35: List[Int] = List(96, 9)\n"
      ]
     },
     "execution_count": 56,
     "metadata": {},
     "output_type": "execute_result"
    }
   ],
   "source": [
    "//if 需要在50個隨機數中找到前兩個可以被3整除的數字。\n",
    "\n",
    "import util.Random\n",
    "def randomList = (1 to 50).map(_ => Random.nextInt(100)).toList\n",
    "\n",
    "def isDivisibleBy3(n: Int) = {\n",
    "  val isDivisible = n % 3 == 0\n",
    "  println(f\"$n $isDivisible\")\n",
    "  isDivisible\n",
    "}\n",
    "\n",
    "//isDivisibleBy3被調用了50次，找到了遠多於兩個的能被3整除的數字，但是最後我們只關心其中前兩個結果。\n",
    "randomList.filter(isDivisibleBy3).take(2)"
   ]
  },
  {
   "cell_type": "code",
   "execution_count": 57,
   "metadata": {},
   "outputs": [
    {
     "name": "stdout",
     "output_type": "stream",
     "text": [
      "4 false\n",
      "56 false\n",
      "7 false\n",
      "34 false\n",
      "8 false\n",
      "84 true\n",
      "84 true\n"
     ]
    },
    {
     "data": {
      "text/plain": [
       "res36: List[Int] = List(84, 84)\n"
      ]
     },
     "execution_count": 57,
     "metadata": {},
     "output_type": "execute_result"
    }
   ],
   "source": [
    "//Stream利用了惰性求值（lazy evaluation），或者也可以稱之為延遲執行\n",
    "randomList.toStream.filter(isDivisibleBy3).take(2).toList"
   ]
  },
  {
   "cell_type": "markdown",
   "metadata": {},
   "source": [
    "### 說明\n",
    "* List(1,2,3)會構造一個容器，容器中包含數據\n",
    "* List(1,2,3).filter(n=>n>1)會構造出一個新的容器，其中包含2和3，這兩塊具體的數據\n",
    "* List(1,2,3).filter(n=>n>1).take(1)會把上一步中構造成的容器中的第一塊數據取出，放入一個新容器\n",
    "---\n",
    "* Stream(1,2,3)也會構造一個容器，但是這個容器中不包含數據，它包含能夠生產數據的算法\n",
    "* Stream(1,2,3).filter(n=>n>1)也會構造出一個新的容器，這個容器中所包含的仍然是算法\n",
    "* Stream(1,2,3).filter(n=>n>1).take(1)會把上一步中構造成的算法容器中的第一個算法取出，放入一個新容器\n",
    "* Stream(1,2,3).filter(n=>n>1).take(1).toList終於把上面所有步驟構造出的算法執行了，從而得到了最終想要的結果"
   ]
  },
  {
   "cell_type": "code",
   "execution_count": 58,
   "metadata": {},
   "outputs": [
    {
     "data": {
      "text/plain": [
       "fibFrom: (a: Int, b: Int)Stream[Int]\r\n",
       "fibs: scala.collection.immutable.Stream[Int] = Stream(1, ?)\n"
      ]
     },
     "execution_count": 58,
     "metadata": {},
     "output_type": "execute_result"
    }
   ],
   "source": [
    "def fibFrom(a: Int, b: Int): Stream[Int] = a #:: fibFrom(b, a + b)\n",
    "val fibs = fibFrom(1, 1).take(7)"
   ]
  },
  {
   "cell_type": "code",
   "execution_count": 59,
   "metadata": {},
   "outputs": [
    {
     "data": {
      "text/plain": [
       "res37: List[Int] = List(1, 1, 2, 3, 5, 8, 13)\n"
      ]
     },
     "execution_count": 59,
     "metadata": {},
     "output_type": "execute_result"
    }
   ],
   "source": [
    "fibs.toList"
   ]
  },
  {
   "cell_type": "code",
   "execution_count": 5,
   "metadata": {},
   "outputs": [
    {
     "name": "stdout",
     "output_type": "stream",
     "text": [
      "19 57\n",
      "85 255\n",
      "76 228\n",
      "84 252\n",
      "70 210\n",
      "35 105\n",
      "31 93\n",
      "18 54\n",
      "22 66\n",
      "20 60\n",
      "45 135\n",
      "64 192\n",
      "60 180\n",
      "55 165\n",
      "52 156\n",
      "71 213\n",
      "6 18\n",
      "14 42\n",
      "64 192\n",
      "25 75\n",
      "8 24\n",
      "9 27\n",
      "19 57\n",
      "16 48\n",
      "27 81\n",
      "3 9\n",
      "82 246\n",
      "44 132\n",
      "30 90\n",
      "3 9\n",
      "23 69\n",
      "66 198\n",
      "79 237\n",
      "85 255\n",
      "90 270\n",
      "88 264\n",
      "17 51\n",
      "91 273\n",
      "19 57\n",
      "33 99\n",
      "3 9\n",
      "65 195\n",
      "14 42\n",
      "2 6\n",
      "18 54\n",
      "13 39\n",
      "98 294\n",
      "58 174\n",
      "25 75\n",
      "88 264\n"
     ]
    },
    {
     "data": {
      "text/plain": [
       "import util.Random\r\n",
       "randomList: List[Int]\r\n",
       "isDivisibleBy3: (n: Int)Boolean\r\n",
       "mapBy3: (n: Int)Int\r\n",
       "res3: List[Int] = List(57, 255)\n"
      ]
     },
     "execution_count": 5,
     "metadata": {},
     "output_type": "execute_result"
    }
   ],
   "source": [
    "//if 需要在50個隨機數中找到前兩個可以被3整除的數字。\n",
    "\n",
    "import util.Random\n",
    "def randomList = (1 to 50).map(_ => Random.nextInt(100)).toList\n",
    "\n",
    "def isDivisibleBy3(n: Int) = {\n",
    "  val isDivisible = n % 3 == 0\n",
    "  println(f\"$n $isDivisible\")\n",
    "  isDivisible\n",
    "}\n",
    "\n",
    "\n",
    "def mapBy3(n: Int) = {\n",
    "  val isDivisible = n * 3\n",
    "  println(f\"$n $isDivisible\")\n",
    "  isDivisible\n",
    "}\n",
    "\n",
    "//isDivisibleBy3被調用了50次，找到了遠多於兩個的能被3整除的數字，但是最後我們只關心其中前兩個結果。\n",
    "randomList.map(mapBy3).take(2)"
   ]
  },
  {
   "cell_type": "code",
   "execution_count": 6,
   "metadata": {},
   "outputs": [
    {
     "data": {
      "text/plain": [
       "distData: org.apache.spark.rdd.RDD[Int] = ParallelCollectionRDD[0] at parallelize at <console>:28\n"
      ]
     },
     "execution_count": 6,
     "metadata": {},
     "output_type": "execute_result"
    }
   ],
   "source": [
    "val distData = sc.parallelize(randomList)"
   ]
  },
  {
   "cell_type": "code",
   "execution_count": 8,
   "metadata": {},
   "outputs": [
    {
     "name": "stdout",
     "output_type": "stream",
     "text": [
      "66 198\n",
      "36 108\n"
     ]
    },
    {
     "data": {
      "text/plain": [
       "res5: Array[Int] = Array(198, 108)\n"
      ]
     },
     "execution_count": 8,
     "metadata": {},
     "output_type": "execute_result"
    }
   ],
   "source": [
    "distData.map(mapBy3).take(2)"
   ]
  },
  {
   "cell_type": "markdown",
   "metadata": {
    "collapsed": true
   },
   "source": [
    "### Scala 中 implicit 的用法 !  \n",
    "* **Scala在面對編譯出現類型錯誤時，提供了一個由編譯器自我修復的機制**，編譯器試圖去尋找一個隱式implicit的轉換方法，轉換出正確的類型，完成編譯。(在Scala 中的implicit 定義指編譯器在需要修復類型匹配時可以用來自動插入的定義。)    \n",
    "\n",
    "    e.g. 如果x+y 類型不匹配，那麼編譯器可能試著使用convert(x) + y， 其中convert 由某個implicit 定義的  \n",
    "    p.s. 這有點類似一個整數和一個浮點數相加，編譯器可以自動把整數轉換為浮點數。  \n",
    "   \n",
    "   \n",
    "1. **標記規則** : 只有哪些使用implicit 關鍵字的定義, 編譯器才可以選擇它作為隱式變化的候選項\n",
    "2. **範圍規則** : 編譯器在選擇備選implicit 定義時，只會選取當前作用域的定義, 如果需要使用 -> 引入到當前作用域\n",
    "3. **一次規則** : 編譯器在需要使用implicit 定義時，只會試圖轉換一次，也就是編譯器永遠不會把x + y 改寫成convert1(convert2(x)) + y。\n",
    "4. **優先規則** : 編譯器不會在x+y 已經是合法的情況下去調用implicit 規則。\n",
    "5. **命名規則** : implicit 的名稱只在兩種情況下有用：一是你想在一個方法中明確指明，另外一個是想用名字import到當前作用域  \n",
    "\n",
    "  \n",
    "* 編譯器使用implicit 的幾種情況  \n",
    "    1. **轉換成預期的數據類型** : 比如你有一個方法參數類型是IndexedSeq[Char]，在你傳入String 時，編譯器發現類型不匹配，就檢查當前作用域是否有從String 到IndexedSeq 隱式轉換。\n",
    "    2. **轉換被方法調用的對象** : 比如“abc”.exist ，”abc”類型為String，本身沒有定義exist 方法，這時編輯器就檢查當前作用域內String 的隱式轉換後的類型是否有exist 方法\n",
    "    3. **隱含參數** : 隱含參數有點類似是缺省參數，如果在調用方法時沒有提供某個參數，編譯器會查找當前作用域是否有符合條件的implicit 對像作為參數傳入\n"
   ]
  },
  {
   "cell_type": "code",
   "execution_count": 9,
   "metadata": {},
   "outputs": [
    {
     "ename": "<console>",
     "evalue": "25: error: type mismatch;\r",
     "output_type": "error",
     "traceback": [
      "<console>:25: error: type mismatch;\r",
      " found   : Double(3.5)\r",
      " required: Int\r",
      "       val i:Int = 3.5\r",
      "                   ^",
      ""
     ]
    }
   ],
   "source": [
    "//轉換成預期的數據類型\n",
    "val i:Int = 3.5\n",
    "// 其實可以調用 3.5.toInt"
   ]
  },
  {
   "cell_type": "code",
   "execution_count": 10,
   "metadata": {},
   "outputs": [
    {
     "data": {
      "text/plain": [
       "warning: there were two feature warnings; re-run with -feature for details\n",
       "doubleToInt: (x: Double)Int\r\n",
       "i: Int = 3\n"
      ]
     },
     "execution_count": 10,
     "metadata": {},
     "output_type": "execute_result"
    }
   ],
   "source": [
    "implicit def doubleToInt(x:Double) = x toInt\n",
    "val i:Int = 3.5 //val i:Int = doubleToInt(3.5)"
   ]
  },
  {
   "cell_type": "code",
   "execution_count": 12,
   "metadata": {},
   "outputs": [
    {
     "data": {
      "text/plain": [
       "defined class Rational\n"
      ]
     },
     "execution_count": 12,
     "metadata": {},
     "output_type": "execute_result"
    }
   ],
   "source": [
    "//轉換被方法調用的對象\n",
    "\n",
    "//類 Rational 重載了兩個 +運算，參數類型分別為 Rational 和 Int。\n",
    "//因此你可以把 Rational 和 Rational 相加，也可以把 Rational 和整數相加。\n",
    "class Rational (n:Int, d:Int) {\n",
    "    require(d!=0) //運行時執行某些檢查來驗證某些條件\n",
    "    private val g =gcd(n.abs,d.abs) //最大公因數\n",
    "    val numer =n/g //1\n",
    "    val denom =d/g //2\n",
    "    override def toString = numer + \"/\" +denom\n",
    "    def +(that:Rational)  = // 1/2 + 1/2\n",
    "      new Rational(\n",
    "        numer * that.denom + that.numer* denom, // 1*2 + 1*2\n",
    "        denom * that.denom //2*2 \n",
    "      )\n",
    "    def +(i:Int) :Rational = //1/2 + 1\n",
    "        new Rational(numer +1*denom,denom) // 1 + 1*2, 2\n",
    "    def * (that:Rational) =\n",
    "      new Rational( numer * that.numer, denom * that.denom)\n",
    "    def this(n:Int) = this(n,1)\n",
    "    private def gcd(a:Int,b:Int):Int =\n",
    "      if(b==0) a else gcd(b, a % b)\n",
    "}"
   ]
  },
  {
   "cell_type": "code",
   "execution_count": 15,
   "metadata": {},
   "outputs": [
    {
     "data": {
      "text/plain": [
       "oneHalf: Rational = 1/2\r\n",
       "res8: Rational = 1/1\n"
      ]
     },
     "execution_count": 15,
     "metadata": {},
     "output_type": "execute_result"
    }
   ],
   "source": [
    "val oneHalf = new Rational(1,2)\n",
    "oneHalf + oneHalf"
   ]
  },
  {
   "cell_type": "code",
   "execution_count": 17,
   "metadata": {},
   "outputs": [
    {
     "ename": "<console>",
     "evalue": "33: error: overloaded method value + with alternatives:\r",
     "output_type": "error",
     "traceback": [
      "<console>:33: error: overloaded method value + with alternatives:\r",
      "  (x: Double)Double <and>\r",
      "  (x: Float)Float <and>\r",
      "  (x: Long)Long <and>\r",
      "  (x: Int)Int <and>\r",
      "  (x: Char)Int <and>\r",
      "  (x: Short)Int <and>\r",
      "  (x: Byte)Int <and>\r",
      "  (x: String)String\r",
      " cannot be applied to (Rational)\r",
      "       1 + oneHalf\r",
      "         ^",
      ""
     ]
    }
   ],
   "source": [
    "oneHalf + 1 // ok!\n",
    "\n",
    "//但是我們如果使用 1 + oneHalf 會出現什麼問題呢\n",
    "//此時編譯器在1能夠轉換成Rational 類型才可以編譯過\n",
    "1 + oneHalf"
   ]
  },
  {
   "cell_type": "code",
   "execution_count": 18,
   "metadata": {},
   "outputs": [
    {
     "data": {
      "text/plain": [
       "warning: there was one feature warning; re-run with -feature for details\n",
       "int2Rational: (x: Int)Rational\r\n",
       "res11: Rational = 3/2\n"
      ]
     },
     "execution_count": 18,
     "metadata": {},
     "output_type": "execute_result"
    }
   ],
   "source": [
    "implicit def int2Rational(x:Int) = new Rational(x)\n",
    "1 + oneHalf"
   ]
  },
  {
   "cell_type": "code",
   "execution_count": 34,
   "metadata": {},
   "outputs": [
    {
     "name": "stdout",
     "output_type": "stream",
     "text": [
      "Welcome, Bob. The System is ready.\n",
      "relax> \n"
     ]
    },
    {
     "data": {
      "text/plain": [
       "defined class PreferredPrompt\r\n",
       "defined object Greeter\r\n",
       "bobsPrompt: PreferredPrompt = PreferredPrompt@58b2b039\n"
      ]
     },
     "execution_count": 34,
     "metadata": {},
     "output_type": "execute_result"
    }
   ],
   "source": [
    "//隱含參數\n",
    "class PreferredPrompt(val preference:String)\n",
    "\n",
    "\n",
    "object Greeter{\n",
    "    //第二個參數標記為 implicit，表明允許編譯器根據需要自動添加\n",
    "    def greet(name:String)(implicit prompt: PreferredPrompt) {\n",
    "        println(\"Welcome, \" + name + \". The System is ready.\")\n",
    "        println(prompt.preference)\n",
    "    }\n",
    "}\n",
    "\n",
    "// 先直接都給(第二個參數不給會出錯 -> implicit 須加在 val bobsPrompt 前面)\n",
    "val bobsPrompt =new PreferredPrompt(\"relax> \")\n",
    "Greeter.greet(\"Bob\")(bobsPrompt)"
   ]
  },
  {
   "cell_type": "code",
   "execution_count": 24,
   "metadata": {},
   "outputs": [
    {
     "ename": "<console>",
     "evalue": "37: error: could not find implicit value for parameter prompt: PreferredPrompt\r",
     "output_type": "error",
     "traceback": [
      "<console>:37: error: could not find implicit value for parameter prompt: PreferredPrompt\r",
      "       Greeter.greet(\"James\")\r",
      "                    ^",
      ""
     ]
    }
   ],
   "source": [
    "object JamesPrefs{\n",
    "    implicit val prompt=new PreferredPrompt(\"Yes, master> \")\n",
    "}\n",
    "// 一般情況是用 import JamesPrefs._ 即可搞定\n",
    "Greeter.greet(\"James\")\n"
   ]
  },
  {
   "cell_type": "code",
   "execution_count": 66,
   "metadata": {},
   "outputs": [
    {
     "data": {
      "text/plain": [
       "maxListUpBound: [T <: Ordered[T]](element: List[T])T\n"
      ]
     },
     "execution_count": 66,
     "metadata": {},
     "output_type": "execute_result"
    }
   ],
   "source": [
    "//隱含參數 2\n",
    "// 這個函數是求取一個順序列表的最大值。但這個函數有個局限，它要求類型 T 是Ordered[T]的一個子類，\n",
    "// 因此這個函數無法求一個整數列表的最大值。\n",
    "def maxListUpBound[T <:Ordered[T]](element:List[T]):T =\n",
    "    element match {\n",
    "      case List() =>\n",
    "        throw new IllegalArgumentException(\"empty list!\")\n",
    "      case List(x) => x\n",
    "      case x::rest =>\n",
    "        val maxRest=maxListUpBound(rest)\n",
    "        if(x > maxRest) x\n",
    "        else maxRest\n",
    "    }"
   ]
  },
  {
   "cell_type": "code",
   "execution_count": 67,
   "metadata": {},
   "outputs": [
    {
     "ename": "<console>",
     "evalue": "39: error: inferred type arguments [Int] do not conform to method maxListUpBound's type parameter bounds [T <: Ordered[T]]\r",
     "output_type": "error",
     "traceback": [
      "<console>:39: error: inferred type arguments [Int] do not conform to method maxListUpBound's type parameter bounds [T <: Ordered[T]]\r",
      "       maxListUpBound(List(1,5,10,34,23))\r",
      "       ^",
      "<console>:39: error: type mismatch;\r",
      " found   : List[Int]\r",
      " required: List[T]\r",
      "       maxListUpBound(List(1,5,10,34,23))\r",
      "                          ^",
      ""
     ]
    }
   ],
   "source": [
    "// gg\n",
    "maxListUpBound(List(1,5,10,34,23))"
   ]
  },
  {
   "cell_type": "code",
   "execution_count": 69,
   "metadata": {},
   "outputs": [
    {
     "data": {
      "text/plain": [
       "maxListImpParam: [T](element: List[T])(implicit orderer: T => Ordered[T])T\n"
      ]
     },
     "execution_count": 69,
     "metadata": {},
     "output_type": "execute_result"
    }
   ],
   "source": [
    "//定義一個隱含參數，其類型為一函數類型，可以把一個類型 T轉換成Ordered[T]\n",
    "def maxListImpParam[T](element:List[T])\n",
    "                    (implicit orderer:T => Ordered[T]):T =\n",
    "    element match {\n",
    "      case List() =>\n",
    "        throw new IllegalArgumentException(\"empty list!\")\n",
    "      case List(x) => x //裡面只有一個的話 x = max\n",
    "      case x::rest => // 拿出第一個元素 + 少了第一個元素的list\n",
    "        val maxRest=maxListImpParam(rest)\n",
    "        if(x > maxRest) x\n",
    "        else maxRest\n",
    "    }\n",
    "//編譯在看到 x > maxRest 發現類型不匹配，編譯器不會馬上停止編譯，相反，它會檢查是否有合適的隱含轉換來修補代碼，\n",
    "//在本例中，它發現orderer 可用。因此編譯器自動改寫為orderer(x)> maxRest。"
   ]
  },
  {
   "cell_type": "code",
   "execution_count": 70,
   "metadata": {},
   "outputs": [
    {
     "data": {
      "text/plain": [
       "res41: Int = 34\n"
      ]
     },
     "execution_count": 70,
     "metadata": {},
     "output_type": "execute_result"
    }
   ],
   "source": [
    "maxListImpParam(List(1,5,10,34,23))"
   ]
  },
  {
   "cell_type": "code",
   "execution_count": 71,
   "metadata": {},
   "outputs": [
    {
     "data": {
      "text/plain": [
       "maxList: [T](element: List[T])(implicit evidence$1: T => Ordered[T])T\n"
      ]
     },
     "execution_count": 71,
     "metadata": {},
     "output_type": "execute_result"
    }
   ],
   "source": [
    "//其中 <% 為View 限定，也就是說，我可以使用任意類型的 T，只要它可以看成類型Ordered[T]。\n",
    "def maxList[T <% Ordered[T]](element:List[T]) :T =\n",
    "    element match {\n",
    "      case List() =>\n",
    "        throw new IllegalArgumentException(\"empty list!\")\n",
    "      case List(x) => x\n",
    "      case x::rest =>\n",
    "        val maxRest=maxList(rest)\n",
    "        if(x > maxRest) x\n",
    "        else maxRest\n",
    "    }"
   ]
  },
  {
   "cell_type": "code",
   "execution_count": 72,
   "metadata": {},
   "outputs": [
    {
     "data": {
      "text/plain": [
       "res42: Int = 34\n"
      ]
     },
     "execution_count": 72,
     "metadata": {},
     "output_type": "execute_result"
    }
   ],
   "source": [
    "maxList(List(1,5,10,34,23))"
   ]
  },
  {
   "cell_type": "code",
   "execution_count": 100,
   "metadata": {},
   "outputs": [
    {
     "data": {
      "text/plain": [
       "res61: scala.collection.immutable.Map[Int,Int] = Map(1 -> 3, 2 -> 3)\n"
      ]
     },
     "execution_count": 100,
     "metadata": {},
     "output_type": "execute_result"
    }
   ],
   "source": [
    "Map(1 -> \"one\", 2 -> \"two\") map Function.tupled(_ -> _.length)"
   ]
  },
  {
   "cell_type": "markdown",
   "metadata": {},
   "source": [
    "### Scala 2.8 breakOut\n",
    "* **the definition of map**: \n",
    "<code>\n",
    "def map[ B, that ] (f : (A) => B)(implicit bf : CanBuildFrom[Repr, B, That]) : That\n",
    "</code>  \n",
    "  \n",
    "  \n",
    "* **the definition of breakOut** : \n",
    "<code>\n",
    "def breakOut[ From, T, To ] (implicit b : CanBuildFrom[Nothing, T, To]) =\n",
    "  new CanBuildFrom[From, T, To] {\n",
    "    def apply(from: From) = b.apply() ; def apply() = b.apply()\n",
    "  }\n",
    "</code>  \n",
    "\n",
    "  \n",
    " * 考慮一個例子，  \n",
    "    * Q : You take a list of strings, transform each string into a tuple (Int, String), and then produce a Map out of it.   \n",
    "      A : The most obvious way to do that would produce an intermediary List[(Int, String)] collection, and then convert it.\n",
    " \n",
    "    * But : Given that map uses a Builder to produce the resulting collection,       \n",
    "     **wouldn’t it be possible to skip the intermediary List** and **collect the results directly into a Map**? \n",
    "----\n",
    "\n",
    "**Map[Int,String] = List(\"London\", \"Paris\").map(x => (x.length, x))(breakOut)**  \n",
    "\n",
    "----\n",
    "\n",
    "The type of List(\"London\", \"Paris\") is List[String], so the types A and Repr defined on TraversableLike are:  \n",
    "<code>\n",
    "A = String\n",
    "Repr = List[String]\n",
    "</code>   \n",
    "\n",
    "***\n",
    "The type for (x => (x.length, x)) is (String) => (Int, String), so the type of B is:  \n",
    "<code>\n",
    "B = (Int, String)\n",
    "</code>   \n",
    "***\n",
    "The last unknown type, That is the type of the result of map, and we already have that as well:   \n",
    "\n",
    "<code>\n",
    "val map : Map[Int,String] =\n",
    "So,\n",
    "That = Map[Int, String]\n",
    "</code>\n",
    "\n",
    "---\n",
    "That means breakOut must, necessarily, return a type or subtype of CanBuildFrom[List[String], \n",
    "                                                                                (Int, String), \n",
    "                                                                                Map[Int, String]].\n"
   ]
  },
  {
   "cell_type": "code",
   "execution_count": null,
   "metadata": {
    "collapsed": true
   },
   "outputs": [],
   "source": []
  },
  {
   "cell_type": "code",
   "execution_count": null,
   "metadata": {
    "collapsed": true
   },
   "outputs": [],
   "source": []
  },
  {
   "cell_type": "code",
   "execution_count": null,
   "metadata": {
    "collapsed": true
   },
   "outputs": [],
   "source": []
  },
  {
   "cell_type": "code",
   "execution_count": null,
   "metadata": {
    "collapsed": true
   },
   "outputs": [],
   "source": []
  }
 ],
 "metadata": {
  "kernelspec": {
   "display_name": "spylon-kernel",
   "language": "scala",
   "name": "spylon-kernel"
  },
  "language_info": {
   "codemirror_mode": "text/x-scala",
   "file_extension": ".scala",
   "help_links": [
    {
     "text": "MetaKernel Magics",
     "url": "https://github.com/calysto/metakernel/blob/master/metakernel/magics/README.md"
    }
   ],
   "mimetype": "text/x-scala",
   "name": "scala",
   "pygments_lexer": "scala",
   "version": "0.4.1"
  }
 },
 "nbformat": 4,
 "nbformat_minor": 2
}
